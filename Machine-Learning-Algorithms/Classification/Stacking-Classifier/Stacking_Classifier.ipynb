{
 "cells": [
  {
   "cell_type": "markdown",
   "id": "21a703cc",
   "metadata": {},
   "source": [
    "# Credit Card Fraud Prediction using Stacking Classifier"
   ]
  },
  {
   "cell_type": "markdown",
   "id": "bd780394",
   "metadata": {},
   "source": [
    "Stacking: \n",
    "\n",
    "Stacking is a way of ensembling classification or regression models. It consists of two-layer estimators. The first layer consists of all the baseline models that are used to predict the outputs on the test datasets. The second layer consists of Meta-Classifier or Regressor which takes all the predictions of baseline models as an input and generate new predictions."
   ]
  },
  {
   "cell_type": "markdown",
   "id": "e93248a2",
   "metadata": {},
   "source": [
    "Why Stacking? \n",
    "\n",
    "Most of the Machine-Learning and Data science competitions are won by using Stacked models. They can improve the existing accuracy that is shown by individual models. We can get most of the Stacked models by choosing diverse algorithms in the first layer of architecture as different algorithms capture different trends in training data by combining both of the models can give better and accurate results."
   ]
  },
  {
   "cell_type": "code",
   "execution_count": 1,
   "id": "48f4a0ae",
   "metadata": {},
   "outputs": [],
   "source": [
    "import os\n",
    "import numpy as np\n",
    "import pandas as pd\n",
    "import matplotlib.pyplot as plt\n",
    "import seaborn as sns\n",
    "%matplotlib inline\n",
    "\n",
    "import warnings\n",
    "warnings.filterwarnings('ignore')\n",
    "\n",
    "from sklearn import preprocessing\n",
    "from sklearn import metrics, tree\n",
    "from sklearn.model_selection import train_test_split\n",
    "from sklearn.model_selection import KFold, cross_val_score, GridSearchCV\n",
    "from sklearn.metrics import accuracy_score, precision_score, recall_score, f1_score\n",
    "from sklearn.metrics import roc_curve, auc, roc_auc_score\n",
    "from sklearn.metrics import classification_report\n",
    "from sklearn.metrics import confusion_matrix, ConfusionMatrixDisplay\n",
    "from sklearn.metrics import plot_confusion_matrix\n",
    "\n",
    "RANDOM_SEED = 101\n",
    "LABELS = ['Normal', 'Fraud']"
   ]
  },
  {
   "cell_type": "code",
   "execution_count": 2,
   "id": "564fb928",
   "metadata": {},
   "outputs": [
    {
     "data": {
      "text/html": [
       "<div>\n",
       "<style scoped>\n",
       "    .dataframe tbody tr th:only-of-type {\n",
       "        vertical-align: middle;\n",
       "    }\n",
       "\n",
       "    .dataframe tbody tr th {\n",
       "        vertical-align: top;\n",
       "    }\n",
       "\n",
       "    .dataframe thead th {\n",
       "        text-align: right;\n",
       "    }\n",
       "</style>\n",
       "<table border=\"1\" class=\"dataframe\">\n",
       "  <thead>\n",
       "    <tr style=\"text-align: right;\">\n",
       "      <th></th>\n",
       "      <th>Time</th>\n",
       "      <th>V1</th>\n",
       "      <th>V2</th>\n",
       "      <th>V3</th>\n",
       "      <th>V4</th>\n",
       "      <th>V5</th>\n",
       "      <th>V6</th>\n",
       "      <th>V7</th>\n",
       "      <th>V8</th>\n",
       "      <th>V9</th>\n",
       "      <th>...</th>\n",
       "      <th>V21</th>\n",
       "      <th>V22</th>\n",
       "      <th>V23</th>\n",
       "      <th>V24</th>\n",
       "      <th>V25</th>\n",
       "      <th>V26</th>\n",
       "      <th>V27</th>\n",
       "      <th>V28</th>\n",
       "      <th>Amount</th>\n",
       "      <th>Class</th>\n",
       "    </tr>\n",
       "  </thead>\n",
       "  <tbody>\n",
       "    <tr>\n",
       "      <th>0</th>\n",
       "      <td>0</td>\n",
       "      <td>-1.359807</td>\n",
       "      <td>-0.072781</td>\n",
       "      <td>2.536347</td>\n",
       "      <td>1.378155</td>\n",
       "      <td>-0.338321</td>\n",
       "      <td>0.462388</td>\n",
       "      <td>0.239599</td>\n",
       "      <td>0.098698</td>\n",
       "      <td>0.363787</td>\n",
       "      <td>...</td>\n",
       "      <td>-0.018307</td>\n",
       "      <td>0.277838</td>\n",
       "      <td>-0.110474</td>\n",
       "      <td>0.066928</td>\n",
       "      <td>0.128539</td>\n",
       "      <td>-0.189115</td>\n",
       "      <td>0.133558</td>\n",
       "      <td>-0.021053</td>\n",
       "      <td>149.62</td>\n",
       "      <td>0</td>\n",
       "    </tr>\n",
       "    <tr>\n",
       "      <th>1</th>\n",
       "      <td>0</td>\n",
       "      <td>1.191857</td>\n",
       "      <td>0.266151</td>\n",
       "      <td>0.166480</td>\n",
       "      <td>0.448154</td>\n",
       "      <td>0.060018</td>\n",
       "      <td>-0.082361</td>\n",
       "      <td>-0.078803</td>\n",
       "      <td>0.085102</td>\n",
       "      <td>-0.255425</td>\n",
       "      <td>...</td>\n",
       "      <td>-0.225775</td>\n",
       "      <td>-0.638672</td>\n",
       "      <td>0.101288</td>\n",
       "      <td>-0.339846</td>\n",
       "      <td>0.167170</td>\n",
       "      <td>0.125895</td>\n",
       "      <td>-0.008983</td>\n",
       "      <td>0.014724</td>\n",
       "      <td>2.69</td>\n",
       "      <td>0</td>\n",
       "    </tr>\n",
       "    <tr>\n",
       "      <th>2</th>\n",
       "      <td>1</td>\n",
       "      <td>-1.358354</td>\n",
       "      <td>-1.340163</td>\n",
       "      <td>1.773209</td>\n",
       "      <td>0.379780</td>\n",
       "      <td>-0.503198</td>\n",
       "      <td>1.800499</td>\n",
       "      <td>0.791461</td>\n",
       "      <td>0.247676</td>\n",
       "      <td>-1.514654</td>\n",
       "      <td>...</td>\n",
       "      <td>0.247998</td>\n",
       "      <td>0.771679</td>\n",
       "      <td>0.909412</td>\n",
       "      <td>-0.689281</td>\n",
       "      <td>-0.327642</td>\n",
       "      <td>-0.139097</td>\n",
       "      <td>-0.055353</td>\n",
       "      <td>-0.059752</td>\n",
       "      <td>378.66</td>\n",
       "      <td>0</td>\n",
       "    </tr>\n",
       "    <tr>\n",
       "      <th>3</th>\n",
       "      <td>1</td>\n",
       "      <td>-0.966272</td>\n",
       "      <td>-0.185226</td>\n",
       "      <td>1.792993</td>\n",
       "      <td>-0.863291</td>\n",
       "      <td>-0.010309</td>\n",
       "      <td>1.247203</td>\n",
       "      <td>0.237609</td>\n",
       "      <td>0.377436</td>\n",
       "      <td>-1.387024</td>\n",
       "      <td>...</td>\n",
       "      <td>-0.108300</td>\n",
       "      <td>0.005274</td>\n",
       "      <td>-0.190321</td>\n",
       "      <td>-1.175575</td>\n",
       "      <td>0.647376</td>\n",
       "      <td>-0.221929</td>\n",
       "      <td>0.062723</td>\n",
       "      <td>0.061458</td>\n",
       "      <td>123.50</td>\n",
       "      <td>0</td>\n",
       "    </tr>\n",
       "    <tr>\n",
       "      <th>4</th>\n",
       "      <td>2</td>\n",
       "      <td>-1.158233</td>\n",
       "      <td>0.877737</td>\n",
       "      <td>1.548718</td>\n",
       "      <td>0.403034</td>\n",
       "      <td>-0.407193</td>\n",
       "      <td>0.095921</td>\n",
       "      <td>0.592941</td>\n",
       "      <td>-0.270533</td>\n",
       "      <td>0.817739</td>\n",
       "      <td>...</td>\n",
       "      <td>-0.009431</td>\n",
       "      <td>0.798278</td>\n",
       "      <td>-0.137458</td>\n",
       "      <td>0.141267</td>\n",
       "      <td>-0.206010</td>\n",
       "      <td>0.502292</td>\n",
       "      <td>0.219422</td>\n",
       "      <td>0.215153</td>\n",
       "      <td>69.99</td>\n",
       "      <td>0</td>\n",
       "    </tr>\n",
       "  </tbody>\n",
       "</table>\n",
       "<p>5 rows × 31 columns</p>\n",
       "</div>"
      ],
      "text/plain": [
       "   Time        V1        V2        V3        V4        V5        V6        V7  \\\n",
       "0     0 -1.359807 -0.072781  2.536347  1.378155 -0.338321  0.462388  0.239599   \n",
       "1     0  1.191857  0.266151  0.166480  0.448154  0.060018 -0.082361 -0.078803   \n",
       "2     1 -1.358354 -1.340163  1.773209  0.379780 -0.503198  1.800499  0.791461   \n",
       "3     1 -0.966272 -0.185226  1.792993 -0.863291 -0.010309  1.247203  0.237609   \n",
       "4     2 -1.158233  0.877737  1.548718  0.403034 -0.407193  0.095921  0.592941   \n",
       "\n",
       "         V8        V9  ...       V21       V22       V23       V24       V25  \\\n",
       "0  0.098698  0.363787  ... -0.018307  0.277838 -0.110474  0.066928  0.128539   \n",
       "1  0.085102 -0.255425  ... -0.225775 -0.638672  0.101288 -0.339846  0.167170   \n",
       "2  0.247676 -1.514654  ...  0.247998  0.771679  0.909412 -0.689281 -0.327642   \n",
       "3  0.377436 -1.387024  ... -0.108300  0.005274 -0.190321 -1.175575  0.647376   \n",
       "4 -0.270533  0.817739  ... -0.009431  0.798278 -0.137458  0.141267 -0.206010   \n",
       "\n",
       "        V26       V27       V28  Amount  Class  \n",
       "0 -0.189115  0.133558 -0.021053  149.62      0  \n",
       "1  0.125895 -0.008983  0.014724    2.69      0  \n",
       "2 -0.139097 -0.055353 -0.059752  378.66      0  \n",
       "3 -0.221929  0.062723  0.061458  123.50      0  \n",
       "4  0.502292  0.219422  0.215153   69.99      0  \n",
       "\n",
       "[5 rows x 31 columns]"
      ]
     },
     "execution_count": 2,
     "metadata": {},
     "output_type": "execute_result"
    }
   ],
   "source": [
    "# Import the Dataset\n",
    "data = pd.read_csv('Sample-Dataset/CreditCard.csv', sep = ',')\n",
    "data.head()"
   ]
  },
  {
   "cell_type": "markdown",
   "id": "7b012576",
   "metadata": {},
   "source": [
    "# Data Preprocessing"
   ]
  },
  {
   "cell_type": "code",
   "execution_count": 3,
   "id": "191050e7",
   "metadata": {},
   "outputs": [
    {
     "data": {
      "text/plain": [
       "(69895, 31)"
      ]
     },
     "execution_count": 3,
     "metadata": {},
     "output_type": "execute_result"
    }
   ],
   "source": [
    "# Taking 10% data only for building the model due to time constraints. Set the percentage in parameter 'frac'\n",
    "data1 = data.sample(frac = 1, random_state = 101)\n",
    "data1.shape"
   ]
  },
  {
   "cell_type": "code",
   "execution_count": 4,
   "id": "abc4ea94",
   "metadata": {},
   "outputs": [],
   "source": [
    "fraud = data1[data1['Class'] == 1]\n",
    "valid = data1[data1['Class'] == 0]"
   ]
  },
  {
   "cell_type": "code",
   "execution_count": 5,
   "id": "22e47cf1",
   "metadata": {},
   "outputs": [
    {
     "name": "stdout",
     "output_type": "stream",
     "text": [
      "(135, 31)\n",
      "(69760, 31)\n"
     ]
    }
   ],
   "source": [
    "print(fraud.shape)\n",
    "print(valid.shape)"
   ]
  },
  {
   "cell_type": "code",
   "execution_count": 6,
   "id": "3ca096da",
   "metadata": {},
   "outputs": [
    {
     "data": {
      "text/plain": [
       "0.0019352064220183487"
      ]
     },
     "execution_count": 6,
     "metadata": {},
     "output_type": "execute_result"
    }
   ],
   "source": [
    "outlier_fraction = len(fraud)/float(len(valid))\n",
    "outlier_fraction"
   ]
  },
  {
   "cell_type": "markdown",
   "id": "fd566eda",
   "metadata": {},
   "source": [
    "# Train Test Split"
   ]
  },
  {
   "cell_type": "code",
   "execution_count": 7,
   "id": "87d8789c",
   "metadata": {},
   "outputs": [
    {
     "name": "stdout",
     "output_type": "stream",
     "text": [
      "(69895, 30)\n",
      "(69895,)\n"
     ]
    }
   ],
   "source": [
    "# Split the data into target and feature variables\n",
    "columns = data1.columns.tolist()\n",
    "columns = [c for c in columns if c not in ['Class']]\n",
    "target  = 'Class'\n",
    "state = np.random.RandomState(101)\n",
    "x = data1[columns]\n",
    "y = data1[target]\n",
    "x_outlier = state.uniform(low=0, high=1, size=(x.shape[0], x.shape[1]))\n",
    "print(x.shape)\n",
    "print(y.shape)"
   ]
  },
  {
   "cell_type": "code",
   "execution_count": 8,
   "id": "908ee761",
   "metadata": {},
   "outputs": [],
   "source": [
    "x_train, x_test, y_train, y_test = train_test_split(x, y, test_size  = 0.2, random_state = 101)"
   ]
  },
  {
   "cell_type": "markdown",
   "id": "dceaa908",
   "metadata": {},
   "source": [
    "# +-+-+-+-+-+-+-+-+-+-+-+-+-+-+-+-+-+-+-+-+-+-+-+-+-+-+-+-+-+-+-+-+-+-+-+-+-+"
   ]
  },
  {
   "cell_type": "markdown",
   "id": "68f0c2ad",
   "metadata": {},
   "source": [
    "# Stacking Classifier"
   ]
  },
  {
   "cell_type": "code",
   "execution_count": 9,
   "id": "47d3d489",
   "metadata": {},
   "outputs": [],
   "source": [
    "from mlxtend.classifier import StackingClassifier\n",
    "from sklearn.ensemble import RandomForestClassifier\n",
    "from sklearn.tree import DecisionTreeClassifier\n",
    "from sklearn.neighbors import KNeighborsClassifier\n",
    "from sklearn.linear_model import LogisticRegression\n",
    "from sklearn.naive_bayes import GaussianNB\n",
    "from sklearn.model_selection import cross_val_score"
   ]
  },
  {
   "cell_type": "code",
   "execution_count": 10,
   "id": "01d05206",
   "metadata": {},
   "outputs": [
    {
     "name": "stdout",
     "output_type": "stream",
     "text": [
      "3-Fold Cross Validation :\n",
      "\n",
      "KNN\n",
      "------------------------------------------------\n",
      "Accuracy  : 1.00 (+/- 0.00)\n",
      "Precision : 0.00 (+/- 0.00)\n",
      "Recall    : 0.00 (+/- 0.00)\n",
      "F1 Score  : 0.00 (+/- 0.00)\n",
      "------------------------------------------------\n",
      "\n",
      "Naive Bayes\n",
      "------------------------------------------------\n",
      "Accuracy  : 0.99 (+/- 0.00)\n",
      "Precision : 0.12 (+/- 0.01)\n",
      "Recall    : 0.91 (+/- 0.03)\n",
      "F1 Score  : 0.21 (+/- 0.01)\n",
      "------------------------------------------------\n",
      "\n",
      "Logistic Regression\n",
      "------------------------------------------------\n",
      "Accuracy  : 1.00 (+/- 0.00)\n",
      "Precision : 0.72 (+/- 0.09)\n",
      "Recall    : 0.56 (+/- 0.04)\n",
      "F1 Score  : 0.63 (+/- 0.01)\n",
      "------------------------------------------------\n",
      "\n",
      "Decision Tree\n",
      "------------------------------------------------\n",
      "Accuracy  : 1.00 (+/- 0.00)\n",
      "Precision : 0.87 (+/- 0.05)\n",
      "Recall    : 0.79 (+/- 0.06)\n",
      "F1 Score  : 0.83 (+/- 0.01)\n",
      "------------------------------------------------\n",
      "\n",
      "Stacking Classifier\n",
      "------------------------------------------------\n",
      "Accuracy  : 1.00 (+/- 0.00)\n",
      "Precision : 0.96 (+/- 0.02)\n",
      "Recall    : 0.84 (+/- 0.05)\n",
      "F1 Score  : 0.90 (+/- 0.03)\n",
      "------------------------------------------------\n",
      "\n"
     ]
    },
    {
     "data": {
      "image/png": "[encoded data removed]",
      "text/plain": [
       "<Figure size 216x216 with 2 Axes>"
      ]
     },
     "metadata": {
      "needs_background": "light"
     },
     "output_type": "display_data"
    },
    {
     "data": {
      "image/png": "[encoded data removed]",
      "text/plain": [
       "<Figure size 216x216 with 2 Axes>"
      ]
     },
     "metadata": {
      "needs_background": "light"
     },
     "output_type": "display_data"
    },
    {
     "data": {
      "image/png": "[encoded data removed]",
      "text/plain": [
       "<Figure size 216x216 with 2 Axes>"
      ]
     },
     "metadata": {
      "needs_background": "light"
     },
     "output_type": "display_data"
    },
    {
     "data": {
      "image/png": "[encoded data removed]",
      "text/plain": [
       "<Figure size 216x216 with 2 Axes>"
      ]
     },
     "metadata": {
      "needs_background": "light"
     },
     "output_type": "display_data"
    },
    {
     "data": {
      "image/png": "[encoded data removed]",
      "text/plain": [
       "<Figure size 216x216 with 2 Axes>"
      ]
     },
     "metadata": {
      "needs_background": "light"
     },
     "output_type": "display_data"
    }
   ],
   "source": [
    "# Initialize the models to be used in Stacking Classifier:\n",
    "clf1 = KNeighborsClassifier(n_neighbors = 10)\n",
    "clf2 = GaussianNB()\n",
    "clf3 = RandomForestClassifier(random_state = 101)\n",
    "clf4 = LogisticRegression(random_state = 101)\n",
    "clf5 = DecisionTreeClassifier(random_state = 101)\n",
    "\n",
    "# Initialize the Stacking Classifier Instance\n",
    "sclf = StackingClassifier(classifiers = [clf1, clf2, clf3, clf4, clf5], \n",
    "                          meta_classifier = clf3,\n",
    "                          use_probas = True, \n",
    "                          use_features_in_secondary = True)\n",
    "\n",
    "print('3-Fold Cross Validation :\\n')\n",
    "\n",
    "for clf, label in zip([clf1, clf2, clf4, clf5, sclf], ['KNN', 'Naive Bayes', 'Logistic Regression', 'Decision Tree', 'Stacking Classifier']):\n",
    "    \n",
    "    print(label)\n",
    "    print('------------------------------------------------')\n",
    "    \n",
    "    scores_accuracy = cross_val_score(clf, x, y, cv = 3, scoring = 'accuracy', n_jobs = -1)\n",
    "    print(\"Accuracy  : %0.2f (+/- %0.2f)\" %(scores_accuracy.mean(), scores_accuracy.std()))\n",
    "    \n",
    "    scores_precision = cross_val_score(clf, x, y, cv = 3, scoring = 'precision', n_jobs = -1)\n",
    "    print(\"Precision : %0.2f (+/- %0.2f)\" %(scores_precision.mean(), scores_precision.std()))\n",
    "    \n",
    "    scores_recall = cross_val_score(clf, x, y, cv = 3, scoring = 'recall', n_jobs = -1)\n",
    "    print(\"Recall    : %0.2f (+/- %0.2f)\" %(scores_recall.mean(), scores_recall.std()))\n",
    "    \n",
    "    scores_f1 = cross_val_score(clf, x, y, cv = 3, scoring = 'f1', n_jobs = -1)\n",
    "    print(\"F1 Score  : %0.2f (+/- %0.2f)\" %(scores_f1.mean(), scores_f1.std()))\n",
    "    \n",
    "    fig, ax = plt.subplots(figsize=(3,3))\n",
    "    plot_confusion_matrix(clf.fit(x, y), x, y, cmap='hot', normalize=None, ax=ax)\n",
    "    ax.set_title(label)\n",
    "    plt.grid(False)\n",
    "    \n",
    "    print('------------------------------------------------', end = '\\n\\n')"
   ]
  },
  {
   "cell_type": "code",
   "execution_count": null,
   "id": "220381bc",
   "metadata": {},
   "outputs": [],
   "source": []
  },
  {
   "cell_type": "code",
   "execution_count": null,
   "id": "e29e5ca8",
   "metadata": {},
   "outputs": [],
   "source": []
  }
 ],
 "metadata": {
  "kernelspec": {
   "display_name": "Python 3 (ipykernel)",
   "language": "python",
   "name": "python3"
  },
  "language_info": {
   "codemirror_mode": {
    "name": "ipython",
    "version": 3
   },
   "file_extension": ".py",
   "mimetype": "text/x-python",
   "name": "python",
   "nbconvert_exporter": "python",
   "pygments_lexer": "ipython3",
   "version": "3.9.7"
  }
 },
 "nbformat": 4,
 "nbformat_minor": 5
}
