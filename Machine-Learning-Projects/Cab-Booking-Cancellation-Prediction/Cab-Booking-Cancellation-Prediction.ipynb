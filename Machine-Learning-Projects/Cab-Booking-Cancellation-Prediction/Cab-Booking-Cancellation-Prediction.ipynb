{
 "cells": [
  {
   "cell_type": "markdown",
   "metadata": {
    "id": "k8rpL6ufiR2L"
   },
   "source": [
    "# Import Libraries"
   ]
  },
  {
   "cell_type": "code",
   "execution_count": 1,
   "metadata": {
    "id": "VafjlOZQni18"
   },
   "outputs": [],
   "source": [
    "import time\n",
    "import random\n",
    "import pandas as pd\n",
    "%matplotlib inline\n",
    "import matplotlib.pyplot as plt\n",
    "import seaborn as sns\n",
    "import numpy as np\n",
    "from scipy.stats import norm\n",
    "from sklearn.preprocessing import StandardScaler   # same as preprocessing.scale(data)\n",
    "from scipy import stats\n",
    "import warnings\n",
    "warnings.filterwarnings('ignore')\n",
    "from sklearn import preprocessing\n",
    "from sklearn.model_selection import train_test_split\n",
    "from sklearn.tree import DecisionTreeClassifier\n",
    "from sklearn.metrics import confusion_matrix\n",
    "from sklearn.metrics import accuracy_score\n",
    "from sklearn.metrics import roc_curve, auc\n",
    "from sklearn.metrics import classification_report\n",
    "from sklearn.svm import SVC\n",
    "from sklearn import metrics\n",
    "from sklearn.model_selection import KFold, cross_val_score\n",
    "from sklearn.model_selection import train_test_split, GridSearchCV\n",
    "from sklearn.ensemble import RandomForestClassifier \n",
    "from sklearn.neighbors import KNeighborsClassifier\n",
    "from sklearn.linear_model import LogisticRegression\n",
    "from sklearn.naive_bayes import MultinomialNB, GaussianNB\n",
    "from IPython.display import Image  \n",
    "from sklearn.tree import export_graphviz\n",
    "import pydotplus\n",
    "from urllib.request import urlopen \n",
    "%matplotlib inline\n",
    "plt.style.use('ggplot')\n",
    "pd.set_option('display.max_columns', 500) "
   ]
  },
  {
   "cell_type": "code",
   "execution_count": 2,
   "metadata": {
    "id": "uUirWe6ftU_Q"
   },
   "outputs": [],
   "source": [
    "from geopy import distance"
   ]
  },
  {
   "cell_type": "markdown",
   "metadata": {
    "id": "EqTlE3OViaQU"
   },
   "source": [
    "# Importing Data"
   ]
  },
  {
   "cell_type": "code",
   "execution_count": 3,
   "metadata": {
    "id": "ldmT6ttInq9J"
   },
   "outputs": [
    {
     "data": {
      "text/html": [
       "<div>\n",
       "<style scoped>\n",
       "    .dataframe tbody tr th:only-of-type {\n",
       "        vertical-align: middle;\n",
       "    }\n",
       "\n",
       "    .dataframe tbody tr th {\n",
       "        vertical-align: top;\n",
       "    }\n",
       "\n",
       "    .dataframe thead th {\n",
       "        text-align: right;\n",
       "    }\n",
       "</style>\n",
       "<table border=\"1\" class=\"dataframe\">\n",
       "  <thead>\n",
       "    <tr style=\"text-align: right;\">\n",
       "      <th></th>\n",
       "      <th>id</th>\n",
       "      <th>user_id</th>\n",
       "      <th>vehicle_model_id</th>\n",
       "      <th>package_id</th>\n",
       "      <th>travel_type_id</th>\n",
       "      <th>from_area_id</th>\n",
       "      <th>to_area_id</th>\n",
       "      <th>from_city_id</th>\n",
       "      <th>to_city_id</th>\n",
       "      <th>from_date</th>\n",
       "      <th>to_date</th>\n",
       "      <th>online_booking</th>\n",
       "      <th>mobile_site_booking</th>\n",
       "      <th>booking_created</th>\n",
       "      <th>from_lat</th>\n",
       "      <th>from_long</th>\n",
       "      <th>to_lat</th>\n",
       "      <th>to_long</th>\n",
       "      <th>Car_Cancellation</th>\n",
       "      <th>Cost_of_error</th>\n",
       "    </tr>\n",
       "  </thead>\n",
       "  <tbody>\n",
       "    <tr>\n",
       "      <th>0</th>\n",
       "      <td>132512</td>\n",
       "      <td>22177</td>\n",
       "      <td>28</td>\n",
       "      <td>NaN</td>\n",
       "      <td>2</td>\n",
       "      <td>83.0</td>\n",
       "      <td>448.0</td>\n",
       "      <td>NaN</td>\n",
       "      <td>NaN</td>\n",
       "      <td>1/1/2013 2:00</td>\n",
       "      <td>NaN</td>\n",
       "      <td>0</td>\n",
       "      <td>0</td>\n",
       "      <td>1/1/2013 1:39</td>\n",
       "      <td>12.924150</td>\n",
       "      <td>77.672290</td>\n",
       "      <td>12.927320</td>\n",
       "      <td>77.635750</td>\n",
       "      <td>0</td>\n",
       "      <td>1.0</td>\n",
       "    </tr>\n",
       "    <tr>\n",
       "      <th>1</th>\n",
       "      <td>132513</td>\n",
       "      <td>21413</td>\n",
       "      <td>12</td>\n",
       "      <td>NaN</td>\n",
       "      <td>2</td>\n",
       "      <td>1010.0</td>\n",
       "      <td>540.0</td>\n",
       "      <td>NaN</td>\n",
       "      <td>NaN</td>\n",
       "      <td>1/1/2013 9:00</td>\n",
       "      <td>NaN</td>\n",
       "      <td>0</td>\n",
       "      <td>0</td>\n",
       "      <td>1/1/2013 2:25</td>\n",
       "      <td>12.966910</td>\n",
       "      <td>77.749350</td>\n",
       "      <td>12.927680</td>\n",
       "      <td>77.626640</td>\n",
       "      <td>0</td>\n",
       "      <td>1.0</td>\n",
       "    </tr>\n",
       "    <tr>\n",
       "      <th>2</th>\n",
       "      <td>132514</td>\n",
       "      <td>22178</td>\n",
       "      <td>12</td>\n",
       "      <td>NaN</td>\n",
       "      <td>2</td>\n",
       "      <td>1301.0</td>\n",
       "      <td>1034.0</td>\n",
       "      <td>NaN</td>\n",
       "      <td>NaN</td>\n",
       "      <td>1/1/2013 3:30</td>\n",
       "      <td>NaN</td>\n",
       "      <td>0</td>\n",
       "      <td>0</td>\n",
       "      <td>1/1/2013 3:08</td>\n",
       "      <td>12.937222</td>\n",
       "      <td>77.626915</td>\n",
       "      <td>13.047926</td>\n",
       "      <td>77.597766</td>\n",
       "      <td>0</td>\n",
       "      <td>1.0</td>\n",
       "    </tr>\n",
       "    <tr>\n",
       "      <th>3</th>\n",
       "      <td>132515</td>\n",
       "      <td>13034</td>\n",
       "      <td>12</td>\n",
       "      <td>NaN</td>\n",
       "      <td>2</td>\n",
       "      <td>768.0</td>\n",
       "      <td>398.0</td>\n",
       "      <td>NaN</td>\n",
       "      <td>NaN</td>\n",
       "      <td>1/1/2013 5:45</td>\n",
       "      <td>NaN</td>\n",
       "      <td>0</td>\n",
       "      <td>0</td>\n",
       "      <td>1/1/2013 4:39</td>\n",
       "      <td>12.989990</td>\n",
       "      <td>77.553320</td>\n",
       "      <td>12.971430</td>\n",
       "      <td>77.639140</td>\n",
       "      <td>0</td>\n",
       "      <td>1.0</td>\n",
       "    </tr>\n",
       "    <tr>\n",
       "      <th>4</th>\n",
       "      <td>132517</td>\n",
       "      <td>22180</td>\n",
       "      <td>12</td>\n",
       "      <td>NaN</td>\n",
       "      <td>2</td>\n",
       "      <td>1365.0</td>\n",
       "      <td>849.0</td>\n",
       "      <td>NaN</td>\n",
       "      <td>NaN</td>\n",
       "      <td>1/1/2013 9:00</td>\n",
       "      <td>NaN</td>\n",
       "      <td>0</td>\n",
       "      <td>0</td>\n",
       "      <td>1/1/2013 7:53</td>\n",
       "      <td>12.845653</td>\n",
       "      <td>77.677925</td>\n",
       "      <td>12.954340</td>\n",
       "      <td>77.600720</td>\n",
       "      <td>0</td>\n",
       "      <td>1.0</td>\n",
       "    </tr>\n",
       "  </tbody>\n",
       "</table>\n",
       "</div>"
      ],
      "text/plain": [
       "       id  user_id  vehicle_model_id  package_id  travel_type_id  \\\n",
       "0  132512    22177                28         NaN               2   \n",
       "1  132513    21413                12         NaN               2   \n",
       "2  132514    22178                12         NaN               2   \n",
       "3  132515    13034                12         NaN               2   \n",
       "4  132517    22180                12         NaN               2   \n",
       "\n",
       "   from_area_id  to_area_id  from_city_id  to_city_id      from_date  to_date  \\\n",
       "0          83.0       448.0           NaN         NaN  1/1/2013 2:00      NaN   \n",
       "1        1010.0       540.0           NaN         NaN  1/1/2013 9:00      NaN   \n",
       "2        1301.0      1034.0           NaN         NaN  1/1/2013 3:30      NaN   \n",
       "3         768.0       398.0           NaN         NaN  1/1/2013 5:45      NaN   \n",
       "4        1365.0       849.0           NaN         NaN  1/1/2013 9:00      NaN   \n",
       "\n",
       "   online_booking  mobile_site_booking booking_created   from_lat  from_long  \\\n",
       "0               0                    0   1/1/2013 1:39  12.924150  77.672290   \n",
       "1               0                    0   1/1/2013 2:25  12.966910  77.749350   \n",
       "2               0                    0   1/1/2013 3:08  12.937222  77.626915   \n",
       "3               0                    0   1/1/2013 4:39  12.989990  77.553320   \n",
       "4               0                    0   1/1/2013 7:53  12.845653  77.677925   \n",
       "\n",
       "      to_lat    to_long  Car_Cancellation  Cost_of_error  \n",
       "0  12.927320  77.635750                 0            1.0  \n",
       "1  12.927680  77.626640                 0            1.0  \n",
       "2  13.047926  77.597766                 0            1.0  \n",
       "3  12.971430  77.639140                 0            1.0  \n",
       "4  12.954340  77.600720                 0            1.0  "
      ]
     },
     "execution_count": 3,
     "metadata": {},
     "output_type": "execute_result"
    }
   ],
   "source": [
    "df = pd.read_csv('Data/YourCabs.csv')\n",
    "df.head(5)"
   ]
  },
  {
   "cell_type": "code",
   "execution_count": 4,
   "metadata": {
    "id": "RcqH5ijCnx9d"
   },
   "outputs": [],
   "source": [
    "# Dropping Target columns\n",
    "data = df.drop(['Car_Cancellation','Cost_of_error'],axis=1) "
   ]
  },
  {
   "cell_type": "code",
   "execution_count": 5,
   "metadata": {
    "id": "1u7JOkh6nzny"
   },
   "outputs": [],
   "source": [
    "# Set aside the Target Column\n",
    "target = df[['Car_Cancellation']]"
   ]
  },
  {
   "cell_type": "code",
   "execution_count": 6,
   "metadata": {
    "colab": {
     "base_uri": "https://localhost:8080/"
    },
    "id": "ZgYej2_BoCnR",
    "outputId": "ebe2d313-ea68-4e89-ac45-a6888a73793a"
   },
   "outputs": [
    {
     "name": "stdout",
     "output_type": "stream",
     "text": [
      "<class 'pandas.core.frame.DataFrame'>\n",
      "RangeIndex: 43431 entries, 0 to 43430\n",
      "Data columns (total 18 columns):\n",
      " #   Column               Non-Null Count  Dtype  \n",
      "---  ------               --------------  -----  \n",
      " 0   id                   43431 non-null  int64  \n",
      " 1   user_id              43431 non-null  int64  \n",
      " 2   vehicle_model_id     43431 non-null  int64  \n",
      " 3   package_id           7550 non-null   float64\n",
      " 4   travel_type_id       43431 non-null  int64  \n",
      " 5   from_area_id         43343 non-null  float64\n",
      " 6   to_area_id           34293 non-null  float64\n",
      " 7   from_city_id         16345 non-null  float64\n",
      " 8   to_city_id           1588 non-null   float64\n",
      " 9   from_date            43431 non-null  object \n",
      " 10  to_date              25541 non-null  float64\n",
      " 11  online_booking       43431 non-null  int64  \n",
      " 12  mobile_site_booking  43431 non-null  int64  \n",
      " 13  booking_created      43431 non-null  object \n",
      " 14  from_lat             43338 non-null  float64\n",
      " 15  from_long            43338 non-null  float64\n",
      " 16  to_lat               34293 non-null  float64\n",
      " 17  to_long              34293 non-null  float64\n",
      "dtypes: float64(10), int64(6), object(2)\n",
      "memory usage: 6.0+ MB\n"
     ]
    }
   ],
   "source": [
    "data.info()"
   ]
  },
  {
   "cell_type": "markdown",
   "metadata": {},
   "source": [
    "# Missing Values Check & Treatment"
   ]
  },
  {
   "cell_type": "code",
   "execution_count": 7,
   "metadata": {
    "colab": {
     "base_uri": "https://localhost:8080/"
    },
    "id": "cKuyYxxWqAvD",
    "outputId": "ec0a686a-f7ff-4604-926d-b236b587a5ec"
   },
   "outputs": [
    {
     "data": {
      "text/html": [
       "<div>\n",
       "<style scoped>\n",
       "    .dataframe tbody tr th:only-of-type {\n",
       "        vertical-align: middle;\n",
       "    }\n",
       "\n",
       "    .dataframe tbody tr th {\n",
       "        vertical-align: top;\n",
       "    }\n",
       "\n",
       "    .dataframe thead th {\n",
       "        text-align: right;\n",
       "    }\n",
       "</style>\n",
       "<table border=\"1\" class=\"dataframe\">\n",
       "  <thead>\n",
       "    <tr style=\"text-align: right;\">\n",
       "      <th></th>\n",
       "      <th>Total Missing Values</th>\n",
       "      <th>Percentage of Missing Values</th>\n",
       "    </tr>\n",
       "  </thead>\n",
       "  <tbody>\n",
       "    <tr>\n",
       "      <th>id</th>\n",
       "      <td>0</td>\n",
       "      <td>0.000000</td>\n",
       "    </tr>\n",
       "    <tr>\n",
       "      <th>user_id</th>\n",
       "      <td>0</td>\n",
       "      <td>0.000000</td>\n",
       "    </tr>\n",
       "    <tr>\n",
       "      <th>vehicle_model_id</th>\n",
       "      <td>0</td>\n",
       "      <td>0.000000</td>\n",
       "    </tr>\n",
       "    <tr>\n",
       "      <th>package_id</th>\n",
       "      <td>35881</td>\n",
       "      <td>82.616104</td>\n",
       "    </tr>\n",
       "    <tr>\n",
       "      <th>travel_type_id</th>\n",
       "      <td>0</td>\n",
       "      <td>0.000000</td>\n",
       "    </tr>\n",
       "    <tr>\n",
       "      <th>from_area_id</th>\n",
       "      <td>88</td>\n",
       "      <td>0.202620</td>\n",
       "    </tr>\n",
       "    <tr>\n",
       "      <th>to_area_id</th>\n",
       "      <td>9138</td>\n",
       "      <td>21.040271</td>\n",
       "    </tr>\n",
       "    <tr>\n",
       "      <th>from_city_id</th>\n",
       "      <td>27086</td>\n",
       "      <td>62.365591</td>\n",
       "    </tr>\n",
       "    <tr>\n",
       "      <th>to_city_id</th>\n",
       "      <td>41843</td>\n",
       "      <td>96.343626</td>\n",
       "    </tr>\n",
       "    <tr>\n",
       "      <th>from_date</th>\n",
       "      <td>0</td>\n",
       "      <td>0.000000</td>\n",
       "    </tr>\n",
       "    <tr>\n",
       "      <th>to_date</th>\n",
       "      <td>17890</td>\n",
       "      <td>41.191775</td>\n",
       "    </tr>\n",
       "    <tr>\n",
       "      <th>online_booking</th>\n",
       "      <td>0</td>\n",
       "      <td>0.000000</td>\n",
       "    </tr>\n",
       "    <tr>\n",
       "      <th>mobile_site_booking</th>\n",
       "      <td>0</td>\n",
       "      <td>0.000000</td>\n",
       "    </tr>\n",
       "    <tr>\n",
       "      <th>booking_created</th>\n",
       "      <td>0</td>\n",
       "      <td>0.000000</td>\n",
       "    </tr>\n",
       "    <tr>\n",
       "      <th>from_lat</th>\n",
       "      <td>93</td>\n",
       "      <td>0.214133</td>\n",
       "    </tr>\n",
       "    <tr>\n",
       "      <th>from_long</th>\n",
       "      <td>93</td>\n",
       "      <td>0.214133</td>\n",
       "    </tr>\n",
       "    <tr>\n",
       "      <th>to_lat</th>\n",
       "      <td>9138</td>\n",
       "      <td>21.040271</td>\n",
       "    </tr>\n",
       "    <tr>\n",
       "      <th>to_long</th>\n",
       "      <td>9138</td>\n",
       "      <td>21.040271</td>\n",
       "    </tr>\n",
       "  </tbody>\n",
       "</table>\n",
       "</div>"
      ],
      "text/plain": [
       "                     Total Missing Values  Percentage of Missing Values\n",
       "id                                      0                      0.000000\n",
       "user_id                                 0                      0.000000\n",
       "vehicle_model_id                        0                      0.000000\n",
       "package_id                          35881                     82.616104\n",
       "travel_type_id                          0                      0.000000\n",
       "from_area_id                           88                      0.202620\n",
       "to_area_id                           9138                     21.040271\n",
       "from_city_id                        27086                     62.365591\n",
       "to_city_id                          41843                     96.343626\n",
       "from_date                               0                      0.000000\n",
       "to_date                             17890                     41.191775\n",
       "online_booking                          0                      0.000000\n",
       "mobile_site_booking                     0                      0.000000\n",
       "booking_created                         0                      0.000000\n",
       "from_lat                               93                      0.214133\n",
       "from_long                              93                      0.214133\n",
       "to_lat                               9138                     21.040271\n",
       "to_long                              9138                     21.040271"
      ]
     },
     "execution_count": 7,
     "metadata": {},
     "output_type": "execute_result"
    }
   ],
   "source": [
    "# Check for Missing Data\n",
    "\n",
    "total = data.isnull().sum()\n",
    "percent = (data.isnull().sum() * 100 / data.isnull().count())\n",
    "missing_data = pd.concat([total, percent], axis=1, keys=['Total Missing Values', 'Percentage of Missing Values'])\n",
    "missing_data\n",
    "\n",
    "# Insight: 4 Columns have missing values."
   ]
  },
  {
   "cell_type": "markdown",
   "metadata": {
    "id": "KTQR-fSgipxk"
   },
   "source": [
    "# Data Cleaning"
   ]
  },
  {
   "cell_type": "code",
   "execution_count": 8,
   "metadata": {
    "id": "-3wqpSian67X"
   },
   "outputs": [],
   "source": [
    "# Dropping Identity columns\n",
    "# Dropping on null value percentage > 40\n",
    "# Dropping to_area_id as it is of no scope\n",
    "\n",
    "data=data.drop(['id','user_id','package_id','to_area_id','from_city_id','to_city_id','to_date'],axis=1)\n"
   ]
  },
  {
   "cell_type": "code",
   "execution_count": 9,
   "metadata": {
    "colab": {
     "base_uri": "https://localhost:8080/"
    },
    "id": "bQ5INj_PprFO",
    "outputId": "e0524829-9681-4022-c855-d3d9331bbdba"
   },
   "outputs": [
    {
     "data": {
      "text/plain": [
       "12    73.355437\n",
       "85     5.542124\n",
       "89     5.505284\n",
       "65     4.402385\n",
       "28     3.918860\n",
       "24     3.439939\n",
       "87     1.300914\n",
       "90     0.718381\n",
       "23     0.683843\n",
       "86     0.283208\n",
       "10     0.239460\n",
       "64     0.195713\n",
       "54     0.168083\n",
       "17     0.092100\n",
       "91     0.057563\n",
       "30     0.032235\n",
       "36     0.020723\n",
       "13     0.016118\n",
       "72     0.004605\n",
       "1      0.004605\n",
       "43     0.004605\n",
       "14     0.002303\n",
       "69     0.002303\n",
       "76     0.002303\n",
       "75     0.002303\n",
       "70     0.002303\n",
       "39     0.002303\n",
       "Name: vehicle_model_id, dtype: float64"
      ]
     },
     "execution_count": 9,
     "metadata": {},
     "output_type": "execute_result"
    }
   ],
   "source": [
    "data['vehicle_model_id'].value_counts(normalize=True)*100"
   ]
  },
  {
   "cell_type": "code",
   "execution_count": 10,
   "metadata": {
    "id": "HkrDhhv9p8H2"
   },
   "outputs": [
    {
     "data": {
      "text/html": [
       "<div>\n",
       "<style scoped>\n",
       "    .dataframe tbody tr th:only-of-type {\n",
       "        vertical-align: middle;\n",
       "    }\n",
       "\n",
       "    .dataframe tbody tr th {\n",
       "        vertical-align: top;\n",
       "    }\n",
       "\n",
       "    .dataframe thead th {\n",
       "        text-align: right;\n",
       "    }\n",
       "</style>\n",
       "<table border=\"1\" class=\"dataframe\">\n",
       "  <thead>\n",
       "    <tr style=\"text-align: right;\">\n",
       "      <th></th>\n",
       "      <th>travel_type_id</th>\n",
       "      <th>from_area_id</th>\n",
       "      <th>from_date</th>\n",
       "      <th>online_booking</th>\n",
       "      <th>mobile_site_booking</th>\n",
       "      <th>booking_created</th>\n",
       "      <th>from_lat</th>\n",
       "      <th>from_long</th>\n",
       "      <th>to_lat</th>\n",
       "      <th>to_long</th>\n",
       "    </tr>\n",
       "  </thead>\n",
       "  <tbody>\n",
       "    <tr>\n",
       "      <th>0</th>\n",
       "      <td>2</td>\n",
       "      <td>83.0</td>\n",
       "      <td>1/1/2013 2:00</td>\n",
       "      <td>0</td>\n",
       "      <td>0</td>\n",
       "      <td>1/1/2013 1:39</td>\n",
       "      <td>12.924150</td>\n",
       "      <td>77.672290</td>\n",
       "      <td>12.927320</td>\n",
       "      <td>77.635750</td>\n",
       "    </tr>\n",
       "    <tr>\n",
       "      <th>1</th>\n",
       "      <td>2</td>\n",
       "      <td>1010.0</td>\n",
       "      <td>1/1/2013 9:00</td>\n",
       "      <td>0</td>\n",
       "      <td>0</td>\n",
       "      <td>1/1/2013 2:25</td>\n",
       "      <td>12.966910</td>\n",
       "      <td>77.749350</td>\n",
       "      <td>12.927680</td>\n",
       "      <td>77.626640</td>\n",
       "    </tr>\n",
       "    <tr>\n",
       "      <th>2</th>\n",
       "      <td>2</td>\n",
       "      <td>1301.0</td>\n",
       "      <td>1/1/2013 3:30</td>\n",
       "      <td>0</td>\n",
       "      <td>0</td>\n",
       "      <td>1/1/2013 3:08</td>\n",
       "      <td>12.937222</td>\n",
       "      <td>77.626915</td>\n",
       "      <td>13.047926</td>\n",
       "      <td>77.597766</td>\n",
       "    </tr>\n",
       "    <tr>\n",
       "      <th>3</th>\n",
       "      <td>2</td>\n",
       "      <td>768.0</td>\n",
       "      <td>1/1/2013 5:45</td>\n",
       "      <td>0</td>\n",
       "      <td>0</td>\n",
       "      <td>1/1/2013 4:39</td>\n",
       "      <td>12.989990</td>\n",
       "      <td>77.553320</td>\n",
       "      <td>12.971430</td>\n",
       "      <td>77.639140</td>\n",
       "    </tr>\n",
       "    <tr>\n",
       "      <th>4</th>\n",
       "      <td>2</td>\n",
       "      <td>1365.0</td>\n",
       "      <td>1/1/2013 9:00</td>\n",
       "      <td>0</td>\n",
       "      <td>0</td>\n",
       "      <td>1/1/2013 7:53</td>\n",
       "      <td>12.845653</td>\n",
       "      <td>77.677925</td>\n",
       "      <td>12.954340</td>\n",
       "      <td>77.600720</td>\n",
       "    </tr>\n",
       "  </tbody>\n",
       "</table>\n",
       "</div>"
      ],
      "text/plain": [
       "   travel_type_id  from_area_id      from_date  online_booking  \\\n",
       "0               2          83.0  1/1/2013 2:00               0   \n",
       "1               2        1010.0  1/1/2013 9:00               0   \n",
       "2               2        1301.0  1/1/2013 3:30               0   \n",
       "3               2         768.0  1/1/2013 5:45               0   \n",
       "4               2        1365.0  1/1/2013 9:00               0   \n",
       "\n",
       "   mobile_site_booking booking_created   from_lat  from_long     to_lat  \\\n",
       "0                    0   1/1/2013 1:39  12.924150  77.672290  12.927320   \n",
       "1                    0   1/1/2013 2:25  12.966910  77.749350  12.927680   \n",
       "2                    0   1/1/2013 3:08  12.937222  77.626915  13.047926   \n",
       "3                    0   1/1/2013 4:39  12.989990  77.553320  12.971430   \n",
       "4                    0   1/1/2013 7:53  12.845653  77.677925  12.954340   \n",
       "\n",
       "     to_long  \n",
       "0  77.635750  \n",
       "1  77.626640  \n",
       "2  77.597766  \n",
       "3  77.639140  \n",
       "4  77.600720  "
      ]
     },
     "execution_count": 10,
     "metadata": {},
     "output_type": "execute_result"
    }
   ],
   "source": [
    "# Dropping 'vehicle_model_id' as single value has more weightage compared to remaining\n",
    "data=data.drop(['vehicle_model_id'],axis=1) \n",
    "data.head()"
   ]
  },
  {
   "cell_type": "markdown",
   "metadata": {
    "id": "Nt7DgCrCivfd"
   },
   "source": [
    "# Data Transforming"
   ]
  },
  {
   "cell_type": "code",
   "execution_count": 11,
   "metadata": {
    "colab": {
     "base_uri": "https://localhost:8080/"
    },
    "id": "w2zs1Ta4sEft",
    "outputId": "b8eece7c-ee33-41b7-9024-ab73118332e2"
   },
   "outputs": [
    {
     "name": "stdout",
     "output_type": "stream",
     "text": [
      "1044.0\n",
      "12.968887\n",
      "77.63575\n"
     ]
    }
   ],
   "source": [
    "# Print the max value of 'from_area_id' that corresponds to the median value of 'from_lat'\n",
    "print(data[data['from_lat'] == data['from_lat'].median()]['from_area_id'].max())\n",
    "\n",
    "# Print the median value of 'from_lat'\n",
    "print(data['from_lat'].median())\n",
    "\n",
    "# Print the median value of 'from_long'\n",
    "print(data['from_long'].median())"
   ]
  },
  {
   "cell_type": "code",
   "execution_count": 12,
   "metadata": {
    "id": "X9dgXJ-6mZlf"
   },
   "outputs": [],
   "source": [
    "# Impute NaN Values in 'from_lat' with the median value of 'from_lat'\n",
    "data['from_lat'] = data['from_lat'].fillna(data['from_lat'].median())\n",
    "\n",
    "# Impute NaN Values in 'from_long' with the median value of 'from_long'\n",
    "data['from_long'] = data['from_long'].fillna(data['from_long'].median())"
   ]
  },
  {
   "cell_type": "code",
   "execution_count": 13,
   "metadata": {
    "id": "DXIw-2wppeXM"
   },
   "outputs": [],
   "source": [
    "# Impute NaN Values in 'from_area_id' with the max value of 'from_area_id' that corresponds to the median value of 'from_lat'\n",
    "# We cannot take median of 'from_area_id' as it is a discrete variable.\n",
    "data['from_area_id'] = data['from_area_id'].fillna(data[data['from_lat'] == data['from_lat'].median()]['from_area_id'].max())"
   ]
  },
  {
   "cell_type": "code",
   "execution_count": 14,
   "metadata": {
    "id": "z-fmNXBModxM"
   },
   "outputs": [],
   "source": [
    "# Fill NaN Values with median for Continuous data and mode for Discrete data\n",
    "data['to_lat'] = data['to_lat'].fillna(df.groupby('from_area_id')['to_lat'].transform('median'))\n",
    "data['to_long'] = data['to_long'].fillna(df.groupby('from_area_id')['to_long'].transform('median'))"
   ]
  },
  {
   "cell_type": "code",
   "execution_count": 15,
   "metadata": {
    "colab": {
     "base_uri": "https://localhost:8080/",
     "height": 357
    },
    "id": "VAl1iFLiyCrU",
    "outputId": "c6853e16-3fe1-4f12-924d-fea6e51dcc6a"
   },
   "outputs": [
    {
     "data": {
      "text/html": [
       "<div>\n",
       "<style scoped>\n",
       "    .dataframe tbody tr th:only-of-type {\n",
       "        vertical-align: middle;\n",
       "    }\n",
       "\n",
       "    .dataframe tbody tr th {\n",
       "        vertical-align: top;\n",
       "    }\n",
       "\n",
       "    .dataframe thead th {\n",
       "        text-align: right;\n",
       "    }\n",
       "</style>\n",
       "<table border=\"1\" class=\"dataframe\">\n",
       "  <thead>\n",
       "    <tr style=\"text-align: right;\">\n",
       "      <th></th>\n",
       "      <th>travel_type_id</th>\n",
       "      <th>from_area_id</th>\n",
       "      <th>from_date</th>\n",
       "      <th>online_booking</th>\n",
       "      <th>mobile_site_booking</th>\n",
       "      <th>booking_created</th>\n",
       "      <th>from_lat</th>\n",
       "      <th>from_long</th>\n",
       "      <th>to_lat</th>\n",
       "      <th>to_long</th>\n",
       "    </tr>\n",
       "  </thead>\n",
       "  <tbody>\n",
       "    <tr>\n",
       "      <th>2158</th>\n",
       "      <td>1</td>\n",
       "      <td>483.0</td>\n",
       "      <td>1/25/2013 6:00</td>\n",
       "      <td>1</td>\n",
       "      <td>0</td>\n",
       "      <td>1/24/2013 15:32</td>\n",
       "      <td>12.953020</td>\n",
       "      <td>77.56333</td>\n",
       "      <td>NaN</td>\n",
       "      <td>NaN</td>\n",
       "    </tr>\n",
       "    <tr>\n",
       "      <th>3945</th>\n",
       "      <td>1</td>\n",
       "      <td>1397.0</td>\n",
       "      <td>2/10/2013 16:30</td>\n",
       "      <td>1</td>\n",
       "      <td>0</td>\n",
       "      <td>2/10/2013 13:26</td>\n",
       "      <td>12.968887</td>\n",
       "      <td>77.63575</td>\n",
       "      <td>NaN</td>\n",
       "      <td>NaN</td>\n",
       "    </tr>\n",
       "    <tr>\n",
       "      <th>4912</th>\n",
       "      <td>1</td>\n",
       "      <td>1397.0</td>\n",
       "      <td>2/23/2013 6:30</td>\n",
       "      <td>1</td>\n",
       "      <td>0</td>\n",
       "      <td>2/19/2013 21:29</td>\n",
       "      <td>12.968887</td>\n",
       "      <td>77.63575</td>\n",
       "      <td>NaN</td>\n",
       "      <td>NaN</td>\n",
       "    </tr>\n",
       "    <tr>\n",
       "      <th>5144</th>\n",
       "      <td>1</td>\n",
       "      <td>1397.0</td>\n",
       "      <td>2/22/2013 13:30</td>\n",
       "      <td>1</td>\n",
       "      <td>0</td>\n",
       "      <td>2/22/2013 10:22</td>\n",
       "      <td>12.968887</td>\n",
       "      <td>77.63575</td>\n",
       "      <td>NaN</td>\n",
       "      <td>NaN</td>\n",
       "    </tr>\n",
       "    <tr>\n",
       "      <th>5970</th>\n",
       "      <td>1</td>\n",
       "      <td>1397.0</td>\n",
       "      <td>3/4/2013 7:00</td>\n",
       "      <td>0</td>\n",
       "      <td>0</td>\n",
       "      <td>3/2/2013 17:48</td>\n",
       "      <td>12.968887</td>\n",
       "      <td>77.63575</td>\n",
       "      <td>NaN</td>\n",
       "      <td>NaN</td>\n",
       "    </tr>\n",
       "  </tbody>\n",
       "</table>\n",
       "</div>"
      ],
      "text/plain": [
       "      travel_type_id  from_area_id        from_date  online_booking  \\\n",
       "2158               1         483.0   1/25/2013 6:00               1   \n",
       "3945               1        1397.0  2/10/2013 16:30               1   \n",
       "4912               1        1397.0   2/23/2013 6:30               1   \n",
       "5144               1        1397.0  2/22/2013 13:30               1   \n",
       "5970               1        1397.0    3/4/2013 7:00               0   \n",
       "\n",
       "      mobile_site_booking  booking_created   from_lat  from_long  to_lat  \\\n",
       "2158                    0  1/24/2013 15:32  12.953020   77.56333     NaN   \n",
       "3945                    0  2/10/2013 13:26  12.968887   77.63575     NaN   \n",
       "4912                    0  2/19/2013 21:29  12.968887   77.63575     NaN   \n",
       "5144                    0  2/22/2013 10:22  12.968887   77.63575     NaN   \n",
       "5970                    0   3/2/2013 17:48  12.968887   77.63575     NaN   \n",
       "\n",
       "      to_long  \n",
       "2158      NaN  \n",
       "3945      NaN  \n",
       "4912      NaN  \n",
       "5144      NaN  \n",
       "5970      NaN  "
      ]
     },
     "execution_count": 15,
     "metadata": {},
     "output_type": "execute_result"
    }
   ],
   "source": [
    "data[data['to_lat'].isnull()].head()"
   ]
  },
  {
   "cell_type": "code",
   "execution_count": 16,
   "metadata": {
    "colab": {
     "base_uri": "https://localhost:8080/"
    },
    "id": "4vmBleuUsftC",
    "outputId": "cdfbe70c-c0cd-42bb-8c77-a285528c3316"
   },
   "outputs": [
    {
     "data": {
      "text/plain": [
       "1397.0    90\n",
       "1396.0     3\n",
       "173.0      2\n",
       "17.0       2\n",
       "483.0      1\n",
       "1215.0     1\n",
       "1265.0     1\n",
       "215.0      1\n",
       "1080.0     1\n",
       "802.0      1\n",
       "1164.0     1\n",
       "178.0      1\n",
       "Name: from_area_id, dtype: int64"
      ]
     },
     "execution_count": 16,
     "metadata": {},
     "output_type": "execute_result"
    }
   ],
   "source": [
    "data[data['to_lat'].isnull()]['from_area_id'].value_counts()"
   ]
  },
  {
   "cell_type": "code",
   "execution_count": 17,
   "metadata": {
    "colab": {
     "base_uri": "https://localhost:8080/"
    },
    "id": "R7UGrZJCzGcu",
    "outputId": "07233cc4-ba65-4770-ffe9-9c944847ffe2"
   },
   "outputs": [
    {
     "name": "stdout",
     "output_type": "stream",
     "text": [
      "12.98999\n",
      "77.649047\n"
     ]
    }
   ],
   "source": [
    "# Check Median Values of 'to_lat' and 'to_long' columns:\n",
    "print(data['to_lat'].median())\n",
    "print(data['to_long'].median())"
   ]
  },
  {
   "cell_type": "code",
   "execution_count": 18,
   "metadata": {
    "id": "M74NMTwPy8bE"
   },
   "outputs": [],
   "source": [
    "# Fill NaN values in 'to_lat' and 'to_long' with median values:\n",
    "data['to_lat'] = data['to_lat'].fillna(data['to_lat'].median())\n",
    "data['to_long'] = data['to_long'].fillna(data['to_long'].median())"
   ]
  },
  {
   "cell_type": "code",
   "execution_count": 19,
   "metadata": {
    "colab": {
     "base_uri": "https://localhost:8080/",
     "height": 601
    },
    "id": "kcctBA5oukVH",
    "outputId": "b7588bdc-d4f1-4823-b589-53c06cdb7979"
   },
   "outputs": [
    {
     "data": {
      "text/html": [
       "<div>\n",
       "<style scoped>\n",
       "    .dataframe tbody tr th:only-of-type {\n",
       "        vertical-align: middle;\n",
       "    }\n",
       "\n",
       "    .dataframe tbody tr th {\n",
       "        vertical-align: top;\n",
       "    }\n",
       "\n",
       "    .dataframe thead th {\n",
       "        text-align: right;\n",
       "    }\n",
       "</style>\n",
       "<table border=\"1\" class=\"dataframe\">\n",
       "  <thead>\n",
       "    <tr style=\"text-align: right;\">\n",
       "      <th></th>\n",
       "      <th>travel_type_id</th>\n",
       "      <th>from_area_id</th>\n",
       "      <th>from_date</th>\n",
       "      <th>online_booking</th>\n",
       "      <th>mobile_site_booking</th>\n",
       "      <th>booking_created</th>\n",
       "      <th>from_lat</th>\n",
       "      <th>from_long</th>\n",
       "      <th>to_lat</th>\n",
       "      <th>to_long</th>\n",
       "    </tr>\n",
       "  </thead>\n",
       "  <tbody>\n",
       "    <tr>\n",
       "      <th>6</th>\n",
       "      <td>1</td>\n",
       "      <td>571.0</td>\n",
       "      <td>1/1/2013 9:45</td>\n",
       "      <td>0</td>\n",
       "      <td>0</td>\n",
       "      <td>1/1/2013 9:21</td>\n",
       "      <td>12.95185</td>\n",
       "      <td>77.69642</td>\n",
       "      <td>12.986284</td>\n",
       "      <td>77.65530</td>\n",
       "    </tr>\n",
       "    <tr>\n",
       "      <th>43</th>\n",
       "      <td>2</td>\n",
       "      <td>571.0</td>\n",
       "      <td>1/2/2013 3:00</td>\n",
       "      <td>0</td>\n",
       "      <td>0</td>\n",
       "      <td>1/1/2013 19:00</td>\n",
       "      <td>12.95185</td>\n",
       "      <td>77.69642</td>\n",
       "      <td>13.199560</td>\n",
       "      <td>77.70688</td>\n",
       "    </tr>\n",
       "    <tr>\n",
       "      <th>78</th>\n",
       "      <td>2</td>\n",
       "      <td>571.0</td>\n",
       "      <td>1/3/2013 17:15</td>\n",
       "      <td>1</td>\n",
       "      <td>0</td>\n",
       "      <td>1/2/2013 9:31</td>\n",
       "      <td>12.95185</td>\n",
       "      <td>77.69642</td>\n",
       "      <td>13.199560</td>\n",
       "      <td>77.70688</td>\n",
       "    </tr>\n",
       "    <tr>\n",
       "      <th>156</th>\n",
       "      <td>2</td>\n",
       "      <td>571.0</td>\n",
       "      <td>1/4/2013 8:00</td>\n",
       "      <td>0</td>\n",
       "      <td>0</td>\n",
       "      <td>1/3/2013 10:29</td>\n",
       "      <td>12.95185</td>\n",
       "      <td>77.69642</td>\n",
       "      <td>13.028530</td>\n",
       "      <td>77.54625</td>\n",
       "    </tr>\n",
       "    <tr>\n",
       "      <th>159</th>\n",
       "      <td>2</td>\n",
       "      <td>571.0</td>\n",
       "      <td>1/4/2013 4:45</td>\n",
       "      <td>1</td>\n",
       "      <td>0</td>\n",
       "      <td>1/3/2013 13:00</td>\n",
       "      <td>12.95185</td>\n",
       "      <td>77.69642</td>\n",
       "      <td>12.976770</td>\n",
       "      <td>77.57270</td>\n",
       "    </tr>\n",
       "    <tr>\n",
       "      <th>212</th>\n",
       "      <td>3</td>\n",
       "      <td>571.0</td>\n",
       "      <td>1/4/2013 13:15</td>\n",
       "      <td>0</td>\n",
       "      <td>0</td>\n",
       "      <td>1/4/2013 8:36</td>\n",
       "      <td>12.95185</td>\n",
       "      <td>77.69642</td>\n",
       "      <td>12.986284</td>\n",
       "      <td>77.65530</td>\n",
       "    </tr>\n",
       "    <tr>\n",
       "      <th>225</th>\n",
       "      <td>2</td>\n",
       "      <td>571.0</td>\n",
       "      <td>1/4/2013 13:30</td>\n",
       "      <td>0</td>\n",
       "      <td>0</td>\n",
       "      <td>1/4/2013 10:32</td>\n",
       "      <td>12.95185</td>\n",
       "      <td>77.69642</td>\n",
       "      <td>13.199560</td>\n",
       "      <td>77.70688</td>\n",
       "    </tr>\n",
       "    <tr>\n",
       "      <th>261</th>\n",
       "      <td>2</td>\n",
       "      <td>571.0</td>\n",
       "      <td>1/4/2013 22:00</td>\n",
       "      <td>0</td>\n",
       "      <td>0</td>\n",
       "      <td>1/4/2013 18:07</td>\n",
       "      <td>12.95185</td>\n",
       "      <td>77.69642</td>\n",
       "      <td>12.907960</td>\n",
       "      <td>77.62418</td>\n",
       "    </tr>\n",
       "    <tr>\n",
       "      <th>278</th>\n",
       "      <td>3</td>\n",
       "      <td>571.0</td>\n",
       "      <td>1/5/2013 10:00</td>\n",
       "      <td>0</td>\n",
       "      <td>0</td>\n",
       "      <td>1/4/2013 20:19</td>\n",
       "      <td>12.95185</td>\n",
       "      <td>77.69642</td>\n",
       "      <td>12.986284</td>\n",
       "      <td>77.65530</td>\n",
       "    </tr>\n",
       "    <tr>\n",
       "      <th>297</th>\n",
       "      <td>2</td>\n",
       "      <td>571.0</td>\n",
       "      <td>1/5/2013 10:30</td>\n",
       "      <td>0</td>\n",
       "      <td>0</td>\n",
       "      <td>1/5/2013 8:59</td>\n",
       "      <td>12.95185</td>\n",
       "      <td>77.69642</td>\n",
       "      <td>13.022390</td>\n",
       "      <td>77.59492</td>\n",
       "    </tr>\n",
       "  </tbody>\n",
       "</table>\n",
       "</div>"
      ],
      "text/plain": [
       "     travel_type_id  from_area_id       from_date  online_booking  \\\n",
       "6                 1         571.0   1/1/2013 9:45               0   \n",
       "43                2         571.0   1/2/2013 3:00               0   \n",
       "78                2         571.0  1/3/2013 17:15               1   \n",
       "156               2         571.0   1/4/2013 8:00               0   \n",
       "159               2         571.0   1/4/2013 4:45               1   \n",
       "212               3         571.0  1/4/2013 13:15               0   \n",
       "225               2         571.0  1/4/2013 13:30               0   \n",
       "261               2         571.0  1/4/2013 22:00               0   \n",
       "278               3         571.0  1/5/2013 10:00               0   \n",
       "297               2         571.0  1/5/2013 10:30               0   \n",
       "\n",
       "     mobile_site_booking booking_created  from_lat  from_long     to_lat  \\\n",
       "6                      0   1/1/2013 9:21  12.95185   77.69642  12.986284   \n",
       "43                     0  1/1/2013 19:00  12.95185   77.69642  13.199560   \n",
       "78                     0   1/2/2013 9:31  12.95185   77.69642  13.199560   \n",
       "156                    0  1/3/2013 10:29  12.95185   77.69642  13.028530   \n",
       "159                    0  1/3/2013 13:00  12.95185   77.69642  12.976770   \n",
       "212                    0   1/4/2013 8:36  12.95185   77.69642  12.986284   \n",
       "225                    0  1/4/2013 10:32  12.95185   77.69642  13.199560   \n",
       "261                    0  1/4/2013 18:07  12.95185   77.69642  12.907960   \n",
       "278                    0  1/4/2013 20:19  12.95185   77.69642  12.986284   \n",
       "297                    0   1/5/2013 8:59  12.95185   77.69642  13.022390   \n",
       "\n",
       "      to_long  \n",
       "6    77.65530  \n",
       "43   77.70688  \n",
       "78   77.70688  \n",
       "156  77.54625  \n",
       "159  77.57270  \n",
       "212  77.65530  \n",
       "225  77.70688  \n",
       "261  77.62418  \n",
       "278  77.65530  \n",
       "297  77.59492  "
      ]
     },
     "execution_count": 19,
     "metadata": {},
     "output_type": "execute_result"
    }
   ],
   "source": [
    "data[data['from_area_id']==571.0].head(10)"
   ]
  },
  {
   "cell_type": "code",
   "execution_count": 20,
   "metadata": {
    "colab": {
     "base_uri": "https://localhost:8080/"
    },
    "id": "uOQ00BT7BBmt",
    "outputId": "1c326fe7-bf7c-4916-e3bb-2c8b69f0c112"
   },
   "outputs": [
    {
     "data": {
      "text/html": [
       "<div>\n",
       "<style scoped>\n",
       "    .dataframe tbody tr th:only-of-type {\n",
       "        vertical-align: middle;\n",
       "    }\n",
       "\n",
       "    .dataframe tbody tr th {\n",
       "        vertical-align: top;\n",
       "    }\n",
       "\n",
       "    .dataframe thead th {\n",
       "        text-align: right;\n",
       "    }\n",
       "</style>\n",
       "<table border=\"1\" class=\"dataframe\">\n",
       "  <thead>\n",
       "    <tr style=\"text-align: right;\">\n",
       "      <th></th>\n",
       "      <th>Total Missing Values</th>\n",
       "      <th>Percentage of Missing Values</th>\n",
       "    </tr>\n",
       "  </thead>\n",
       "  <tbody>\n",
       "    <tr>\n",
       "      <th>travel_type_id</th>\n",
       "      <td>0</td>\n",
       "      <td>0.0</td>\n",
       "    </tr>\n",
       "    <tr>\n",
       "      <th>from_area_id</th>\n",
       "      <td>0</td>\n",
       "      <td>0.0</td>\n",
       "    </tr>\n",
       "    <tr>\n",
       "      <th>from_date</th>\n",
       "      <td>0</td>\n",
       "      <td>0.0</td>\n",
       "    </tr>\n",
       "    <tr>\n",
       "      <th>online_booking</th>\n",
       "      <td>0</td>\n",
       "      <td>0.0</td>\n",
       "    </tr>\n",
       "    <tr>\n",
       "      <th>mobile_site_booking</th>\n",
       "      <td>0</td>\n",
       "      <td>0.0</td>\n",
       "    </tr>\n",
       "    <tr>\n",
       "      <th>booking_created</th>\n",
       "      <td>0</td>\n",
       "      <td>0.0</td>\n",
       "    </tr>\n",
       "    <tr>\n",
       "      <th>from_lat</th>\n",
       "      <td>0</td>\n",
       "      <td>0.0</td>\n",
       "    </tr>\n",
       "    <tr>\n",
       "      <th>from_long</th>\n",
       "      <td>0</td>\n",
       "      <td>0.0</td>\n",
       "    </tr>\n",
       "    <tr>\n",
       "      <th>to_lat</th>\n",
       "      <td>0</td>\n",
       "      <td>0.0</td>\n",
       "    </tr>\n",
       "    <tr>\n",
       "      <th>to_long</th>\n",
       "      <td>0</td>\n",
       "      <td>0.0</td>\n",
       "    </tr>\n",
       "  </tbody>\n",
       "</table>\n",
       "</div>"
      ],
      "text/plain": [
       "                     Total Missing Values  Percentage of Missing Values\n",
       "travel_type_id                          0                           0.0\n",
       "from_area_id                            0                           0.0\n",
       "from_date                               0                           0.0\n",
       "online_booking                          0                           0.0\n",
       "mobile_site_booking                     0                           0.0\n",
       "booking_created                         0                           0.0\n",
       "from_lat                                0                           0.0\n",
       "from_long                               0                           0.0\n",
       "to_lat                                  0                           0.0\n",
       "to_long                                 0                           0.0"
      ]
     },
     "execution_count": 20,
     "metadata": {},
     "output_type": "execute_result"
    }
   ],
   "source": [
    "# Check for Missing Data again\n",
    "\n",
    "total = data.isnull().sum()\n",
    "percent = (data.isnull().sum() * 100 / data.isnull().count())\n",
    "missing_data = pd.concat([total, percent], axis=1, keys=['Total Missing Values', 'Percentage of Missing Values'])\n",
    "missing_data\n",
    "\n",
    "# Insight: No more missing data"
   ]
  },
  {
   "cell_type": "code",
   "execution_count": 21,
   "metadata": {},
   "outputs": [
    {
     "data": {
      "text/html": [
       "<div>\n",
       "<style scoped>\n",
       "    .dataframe tbody tr th:only-of-type {\n",
       "        vertical-align: middle;\n",
       "    }\n",
       "\n",
       "    .dataframe tbody tr th {\n",
       "        vertical-align: top;\n",
       "    }\n",
       "\n",
       "    .dataframe thead th {\n",
       "        text-align: right;\n",
       "    }\n",
       "</style>\n",
       "<table border=\"1\" class=\"dataframe\">\n",
       "  <thead>\n",
       "    <tr style=\"text-align: right;\">\n",
       "      <th></th>\n",
       "      <th>travel_type_id</th>\n",
       "      <th>from_area_id</th>\n",
       "      <th>from_date</th>\n",
       "      <th>online_booking</th>\n",
       "      <th>mobile_site_booking</th>\n",
       "      <th>booking_created</th>\n",
       "      <th>from_lat</th>\n",
       "      <th>from_long</th>\n",
       "      <th>to_lat</th>\n",
       "      <th>to_long</th>\n",
       "    </tr>\n",
       "  </thead>\n",
       "  <tbody>\n",
       "    <tr>\n",
       "      <th>0</th>\n",
       "      <td>2</td>\n",
       "      <td>83.0</td>\n",
       "      <td>1/1/2013 2:00</td>\n",
       "      <td>0</td>\n",
       "      <td>0</td>\n",
       "      <td>1/1/2013 1:39</td>\n",
       "      <td>12.924150</td>\n",
       "      <td>77.672290</td>\n",
       "      <td>12.927320</td>\n",
       "      <td>77.635750</td>\n",
       "    </tr>\n",
       "    <tr>\n",
       "      <th>1</th>\n",
       "      <td>2</td>\n",
       "      <td>1010.0</td>\n",
       "      <td>1/1/2013 9:00</td>\n",
       "      <td>0</td>\n",
       "      <td>0</td>\n",
       "      <td>1/1/2013 2:25</td>\n",
       "      <td>12.966910</td>\n",
       "      <td>77.749350</td>\n",
       "      <td>12.927680</td>\n",
       "      <td>77.626640</td>\n",
       "    </tr>\n",
       "    <tr>\n",
       "      <th>2</th>\n",
       "      <td>2</td>\n",
       "      <td>1301.0</td>\n",
       "      <td>1/1/2013 3:30</td>\n",
       "      <td>0</td>\n",
       "      <td>0</td>\n",
       "      <td>1/1/2013 3:08</td>\n",
       "      <td>12.937222</td>\n",
       "      <td>77.626915</td>\n",
       "      <td>13.047926</td>\n",
       "      <td>77.597766</td>\n",
       "    </tr>\n",
       "    <tr>\n",
       "      <th>3</th>\n",
       "      <td>2</td>\n",
       "      <td>768.0</td>\n",
       "      <td>1/1/2013 5:45</td>\n",
       "      <td>0</td>\n",
       "      <td>0</td>\n",
       "      <td>1/1/2013 4:39</td>\n",
       "      <td>12.989990</td>\n",
       "      <td>77.553320</td>\n",
       "      <td>12.971430</td>\n",
       "      <td>77.639140</td>\n",
       "    </tr>\n",
       "    <tr>\n",
       "      <th>4</th>\n",
       "      <td>2</td>\n",
       "      <td>1365.0</td>\n",
       "      <td>1/1/2013 9:00</td>\n",
       "      <td>0</td>\n",
       "      <td>0</td>\n",
       "      <td>1/1/2013 7:53</td>\n",
       "      <td>12.845653</td>\n",
       "      <td>77.677925</td>\n",
       "      <td>12.954340</td>\n",
       "      <td>77.600720</td>\n",
       "    </tr>\n",
       "  </tbody>\n",
       "</table>\n",
       "</div>"
      ],
      "text/plain": [
       "   travel_type_id  from_area_id      from_date  online_booking  \\\n",
       "0               2          83.0  1/1/2013 2:00               0   \n",
       "1               2        1010.0  1/1/2013 9:00               0   \n",
       "2               2        1301.0  1/1/2013 3:30               0   \n",
       "3               2         768.0  1/1/2013 5:45               0   \n",
       "4               2        1365.0  1/1/2013 9:00               0   \n",
       "\n",
       "   mobile_site_booking booking_created   from_lat  from_long     to_lat  \\\n",
       "0                    0   1/1/2013 1:39  12.924150  77.672290  12.927320   \n",
       "1                    0   1/1/2013 2:25  12.966910  77.749350  12.927680   \n",
       "2                    0   1/1/2013 3:08  12.937222  77.626915  13.047926   \n",
       "3                    0   1/1/2013 4:39  12.989990  77.553320  12.971430   \n",
       "4                    0   1/1/2013 7:53  12.845653  77.677925  12.954340   \n",
       "\n",
       "     to_long  \n",
       "0  77.635750  \n",
       "1  77.626640  \n",
       "2  77.597766  \n",
       "3  77.639140  \n",
       "4  77.600720  "
      ]
     },
     "execution_count": 21,
     "metadata": {},
     "output_type": "execute_result"
    }
   ],
   "source": [
    "data.head()"
   ]
  },
  {
   "cell_type": "code",
   "execution_count": 22,
   "metadata": {
    "id": "2llnkj7VGtuk"
   },
   "outputs": [],
   "source": [
    "# # 'travel_type_id' column has 3 values - 1=long distance, 2= point to point, 3= hourly rental. Split them into 3 columns:\n",
    "\n",
    "# traveltype = pd.get_dummies(data['travel_type_id'])\n",
    "# #One Hot Encoding if number of distinct values is more than 5\n",
    "# #Label Encoding if number of distinct values is less than 5\n",
    "# traveltype"
   ]
  },
  {
   "cell_type": "code",
   "execution_count": 23,
   "metadata": {
    "id": "nZOFFFgeLMdg"
   },
   "outputs": [],
   "source": [
    "# # Concatenate the 3 new columns to the dataframe and drop the original column 'travel_type_id':\n",
    "# data = pd.concat([data,traveltype],axis=1)\n",
    "# data = data.drop(['travel_type_id'],axis=1)"
   ]
  },
  {
   "cell_type": "code",
   "execution_count": 24,
   "metadata": {
    "id": "hv6R509oLFl0"
   },
   "outputs": [],
   "source": [
    "# data.rename(columns={1:'long_distance', 2:'traveltype_pointtopoint', 3:'traveltype_hourly'},inplace=True)"
   ]
  },
  {
   "cell_type": "code",
   "execution_count": 25,
   "metadata": {
    "id": "7jalSY6dra5U"
   },
   "outputs": [],
   "source": [
    "# Function to calculate distance based on Latitude / Longitude Data:\n",
    "def cal_distance(from_lat,from_long,to_lat,to_long):\n",
    "  return distance.distance((from_lat,from_long),(to_lat,to_long)).km\n",
    "\n",
    "data['distance'] = data.apply(lambda row: cal_distance(row['from_lat'],row['from_long'],row['to_lat'],row['to_long']),axis=1)"
   ]
  },
  {
   "cell_type": "code",
   "execution_count": 26,
   "metadata": {
    "colab": {
     "base_uri": "https://localhost:8080/",
     "height": 113
    },
    "id": "hQb4L-43zrYM",
    "outputId": "064f3a90-4403-4ef9-fa91-127ea7459c2b"
   },
   "outputs": [
    {
     "data": {
      "text/html": [
       "<div>\n",
       "<style scoped>\n",
       "    .dataframe tbody tr th:only-of-type {\n",
       "        vertical-align: middle;\n",
       "    }\n",
       "\n",
       "    .dataframe tbody tr th {\n",
       "        vertical-align: top;\n",
       "    }\n",
       "\n",
       "    .dataframe thead th {\n",
       "        text-align: right;\n",
       "    }\n",
       "</style>\n",
       "<table border=\"1\" class=\"dataframe\">\n",
       "  <thead>\n",
       "    <tr style=\"text-align: right;\">\n",
       "      <th></th>\n",
       "      <th>travel_type_id</th>\n",
       "      <th>from_area_id</th>\n",
       "      <th>from_date</th>\n",
       "      <th>online_booking</th>\n",
       "      <th>mobile_site_booking</th>\n",
       "      <th>booking_created</th>\n",
       "      <th>from_lat</th>\n",
       "      <th>from_long</th>\n",
       "      <th>to_lat</th>\n",
       "      <th>to_long</th>\n",
       "      <th>distance</th>\n",
       "    </tr>\n",
       "  </thead>\n",
       "  <tbody>\n",
       "  </tbody>\n",
       "</table>\n",
       "</div>"
      ],
      "text/plain": [
       "Empty DataFrame\n",
       "Columns: [travel_type_id, from_area_id, from_date, online_booking, mobile_site_booking, booking_created, from_lat, from_long, to_lat, to_long, distance]\n",
       "Index: []"
      ]
     },
     "execution_count": 26,
     "metadata": {},
     "output_type": "execute_result"
    }
   ],
   "source": [
    "# Verify if any of the distances calculated based on Latitude / Longitude data < 0 as Negative values means error\n",
    "data[data['distance'] < 0]"
   ]
  },
  {
   "cell_type": "code",
   "execution_count": 27,
   "metadata": {},
   "outputs": [
    {
     "data": {
      "text/html": [
       "<div>\n",
       "<style scoped>\n",
       "    .dataframe tbody tr th:only-of-type {\n",
       "        vertical-align: middle;\n",
       "    }\n",
       "\n",
       "    .dataframe tbody tr th {\n",
       "        vertical-align: top;\n",
       "    }\n",
       "\n",
       "    .dataframe thead th {\n",
       "        text-align: right;\n",
       "    }\n",
       "</style>\n",
       "<table border=\"1\" class=\"dataframe\">\n",
       "  <thead>\n",
       "    <tr style=\"text-align: right;\">\n",
       "      <th></th>\n",
       "      <th>travel_type_id</th>\n",
       "      <th>from_area_id</th>\n",
       "      <th>from_date</th>\n",
       "      <th>online_booking</th>\n",
       "      <th>mobile_site_booking</th>\n",
       "      <th>booking_created</th>\n",
       "      <th>from_lat</th>\n",
       "      <th>from_long</th>\n",
       "      <th>to_lat</th>\n",
       "      <th>to_long</th>\n",
       "      <th>distance</th>\n",
       "    </tr>\n",
       "  </thead>\n",
       "  <tbody>\n",
       "    <tr>\n",
       "      <th>0</th>\n",
       "      <td>2</td>\n",
       "      <td>83.0</td>\n",
       "      <td>1/1/2013 2:00</td>\n",
       "      <td>0</td>\n",
       "      <td>0</td>\n",
       "      <td>1/1/2013 1:39</td>\n",
       "      <td>12.924150</td>\n",
       "      <td>77.672290</td>\n",
       "      <td>12.927320</td>\n",
       "      <td>77.635750</td>\n",
       "      <td>3.980687</td>\n",
       "    </tr>\n",
       "    <tr>\n",
       "      <th>1</th>\n",
       "      <td>2</td>\n",
       "      <td>1010.0</td>\n",
       "      <td>1/1/2013 9:00</td>\n",
       "      <td>0</td>\n",
       "      <td>0</td>\n",
       "      <td>1/1/2013 2:25</td>\n",
       "      <td>12.966910</td>\n",
       "      <td>77.749350</td>\n",
       "      <td>12.927680</td>\n",
       "      <td>77.626640</td>\n",
       "      <td>14.004432</td>\n",
       "    </tr>\n",
       "    <tr>\n",
       "      <th>2</th>\n",
       "      <td>2</td>\n",
       "      <td>1301.0</td>\n",
       "      <td>1/1/2013 3:30</td>\n",
       "      <td>0</td>\n",
       "      <td>0</td>\n",
       "      <td>1/1/2013 3:08</td>\n",
       "      <td>12.937222</td>\n",
       "      <td>77.626915</td>\n",
       "      <td>13.047926</td>\n",
       "      <td>77.597766</td>\n",
       "      <td>12.648909</td>\n",
       "    </tr>\n",
       "    <tr>\n",
       "      <th>3</th>\n",
       "      <td>2</td>\n",
       "      <td>768.0</td>\n",
       "      <td>1/1/2013 5:45</td>\n",
       "      <td>0</td>\n",
       "      <td>0</td>\n",
       "      <td>1/1/2013 4:39</td>\n",
       "      <td>12.989990</td>\n",
       "      <td>77.553320</td>\n",
       "      <td>12.971430</td>\n",
       "      <td>77.639140</td>\n",
       "      <td>9.534596</td>\n",
       "    </tr>\n",
       "    <tr>\n",
       "      <th>4</th>\n",
       "      <td>2</td>\n",
       "      <td>1365.0</td>\n",
       "      <td>1/1/2013 9:00</td>\n",
       "      <td>0</td>\n",
       "      <td>0</td>\n",
       "      <td>1/1/2013 7:53</td>\n",
       "      <td>12.845653</td>\n",
       "      <td>77.677925</td>\n",
       "      <td>12.954340</td>\n",
       "      <td>77.600720</td>\n",
       "      <td>14.655467</td>\n",
       "    </tr>\n",
       "    <tr>\n",
       "      <th>...</th>\n",
       "      <td>...</td>\n",
       "      <td>...</td>\n",
       "      <td>...</td>\n",
       "      <td>...</td>\n",
       "      <td>...</td>\n",
       "      <td>...</td>\n",
       "      <td>...</td>\n",
       "      <td>...</td>\n",
       "      <td>...</td>\n",
       "      <td>...</td>\n",
       "      <td>...</td>\n",
       "    </tr>\n",
       "    <tr>\n",
       "      <th>43426</th>\n",
       "      <td>2</td>\n",
       "      <td>1147.0</td>\n",
       "      <td>11/24/2013 18:00</td>\n",
       "      <td>1</td>\n",
       "      <td>0</td>\n",
       "      <td>11/24/2013 14:25</td>\n",
       "      <td>13.030640</td>\n",
       "      <td>77.649100</td>\n",
       "      <td>12.952780</td>\n",
       "      <td>77.590880</td>\n",
       "      <td>10.681284</td>\n",
       "    </tr>\n",
       "    <tr>\n",
       "      <th>43427</th>\n",
       "      <td>2</td>\n",
       "      <td>393.0</td>\n",
       "      <td>11/26/2013 1:00</td>\n",
       "      <td>1</td>\n",
       "      <td>0</td>\n",
       "      <td>11/24/2013 14:30</td>\n",
       "      <td>13.199560</td>\n",
       "      <td>77.706880</td>\n",
       "      <td>13.017436</td>\n",
       "      <td>77.644580</td>\n",
       "      <td>21.251031</td>\n",
       "    </tr>\n",
       "    <tr>\n",
       "      <th>43428</th>\n",
       "      <td>3</td>\n",
       "      <td>974.0</td>\n",
       "      <td>11/24/2013 18:30</td>\n",
       "      <td>0</td>\n",
       "      <td>0</td>\n",
       "      <td>11/24/2013 14:35</td>\n",
       "      <td>13.075570</td>\n",
       "      <td>77.559040</td>\n",
       "      <td>13.022390</td>\n",
       "      <td>77.601190</td>\n",
       "      <td>7.450810</td>\n",
       "    </tr>\n",
       "    <tr>\n",
       "      <th>43429</th>\n",
       "      <td>2</td>\n",
       "      <td>1263.0</td>\n",
       "      <td>11/24/2013 16:00</td>\n",
       "      <td>0</td>\n",
       "      <td>0</td>\n",
       "      <td>11/24/2013 14:43</td>\n",
       "      <td>12.968970</td>\n",
       "      <td>77.594560</td>\n",
       "      <td>12.938230</td>\n",
       "      <td>77.622890</td>\n",
       "      <td>4.584142</td>\n",
       "    </tr>\n",
       "    <tr>\n",
       "      <th>43430</th>\n",
       "      <td>2</td>\n",
       "      <td>689.0</td>\n",
       "      <td>11/25/2013 5:00</td>\n",
       "      <td>0</td>\n",
       "      <td>1</td>\n",
       "      <td>11/24/2013 14:50</td>\n",
       "      <td>12.976720</td>\n",
       "      <td>77.649270</td>\n",
       "      <td>13.199560</td>\n",
       "      <td>77.706880</td>\n",
       "      <td>25.432381</td>\n",
       "    </tr>\n",
       "  </tbody>\n",
       "</table>\n",
       "<p>43431 rows × 11 columns</p>\n",
       "</div>"
      ],
      "text/plain": [
       "       travel_type_id  from_area_id         from_date  online_booking  \\\n",
       "0                   2          83.0     1/1/2013 2:00               0   \n",
       "1                   2        1010.0     1/1/2013 9:00               0   \n",
       "2                   2        1301.0     1/1/2013 3:30               0   \n",
       "3                   2         768.0     1/1/2013 5:45               0   \n",
       "4                   2        1365.0     1/1/2013 9:00               0   \n",
       "...               ...           ...               ...             ...   \n",
       "43426               2        1147.0  11/24/2013 18:00               1   \n",
       "43427               2         393.0   11/26/2013 1:00               1   \n",
       "43428               3         974.0  11/24/2013 18:30               0   \n",
       "43429               2        1263.0  11/24/2013 16:00               0   \n",
       "43430               2         689.0   11/25/2013 5:00               0   \n",
       "\n",
       "       mobile_site_booking   booking_created   from_lat  from_long     to_lat  \\\n",
       "0                        0     1/1/2013 1:39  12.924150  77.672290  12.927320   \n",
       "1                        0     1/1/2013 2:25  12.966910  77.749350  12.927680   \n",
       "2                        0     1/1/2013 3:08  12.937222  77.626915  13.047926   \n",
       "3                        0     1/1/2013 4:39  12.989990  77.553320  12.971430   \n",
       "4                        0     1/1/2013 7:53  12.845653  77.677925  12.954340   \n",
       "...                    ...               ...        ...        ...        ...   \n",
       "43426                    0  11/24/2013 14:25  13.030640  77.649100  12.952780   \n",
       "43427                    0  11/24/2013 14:30  13.199560  77.706880  13.017436   \n",
       "43428                    0  11/24/2013 14:35  13.075570  77.559040  13.022390   \n",
       "43429                    0  11/24/2013 14:43  12.968970  77.594560  12.938230   \n",
       "43430                    1  11/24/2013 14:50  12.976720  77.649270  13.199560   \n",
       "\n",
       "         to_long   distance  \n",
       "0      77.635750   3.980687  \n",
       "1      77.626640  14.004432  \n",
       "2      77.597766  12.648909  \n",
       "3      77.639140   9.534596  \n",
       "4      77.600720  14.655467  \n",
       "...          ...        ...  \n",
       "43426  77.590880  10.681284  \n",
       "43427  77.644580  21.251031  \n",
       "43428  77.601190   7.450810  \n",
       "43429  77.622890   4.584142  \n",
       "43430  77.706880  25.432381  \n",
       "\n",
       "[43431 rows x 11 columns]"
      ]
     },
     "execution_count": 27,
     "metadata": {},
     "output_type": "execute_result"
    }
   ],
   "source": [
    "data"
   ]
  },
  {
   "cell_type": "code",
   "execution_count": 28,
   "metadata": {
    "id": "UpXgpvIztxsO"
   },
   "outputs": [],
   "source": [
    "# Drop the latitude / Longitude columns as we have converted them to distance:\n",
    "data = data.drop(['from_lat','from_long','to_lat','to_long'],axis=1)"
   ]
  },
  {
   "cell_type": "code",
   "execution_count": 29,
   "metadata": {
    "id": "f0w7AUZJ0Fj_"
   },
   "outputs": [],
   "source": [
    "# Format the Date Time columns to true Date Time using String Formatting\n",
    "\n",
    "data['from_date_dt'] = pd.to_datetime(data['from_date']).dt.strftime('%m/%d/%Y')\n",
    "data['from_time_tm'] = pd.to_datetime(data['from_date']).dt.strftime('%H:%M')\n",
    "data['booking_created_dt'] = pd.to_datetime(data['booking_created']).dt.strftime('%m/%d/%Y')\n",
    "data['booking_created_tm'] = pd.to_datetime(data['booking_created']).dt.strftime('%H:%M')"
   ]
  },
  {
   "cell_type": "code",
   "execution_count": 30,
   "metadata": {
    "id": "cM74voTI67Zn"
   },
   "outputs": [],
   "source": [
    "# Extract Day from 'from_date_dt':\n",
    "data['from_date_day'] = pd.to_datetime(data['from_date_dt']).dt.day_name()\n",
    "\n",
    "# Extract Day from 'booking_created_dt':\n",
    "data['booking_created_day'] = pd.to_datetime(data['booking_created_dt']).dt.day_name()\n",
    "\n",
    "# Extract Month from 'from_date_dt'\n",
    "data['from_date_month'] = pd.to_datetime(data['from_date_dt']).dt.month_name()\n",
    "\n",
    "# Extract Month from 'booking_created_dt':\n",
    "data['booking_created_month'] = pd.to_datetime(data['booking_created_dt']).dt.month_name()\n",
    "\n",
    "# Extract Weekday / Weekend information from 'from_date_day'\n",
    "data['from_date_week'] = np.where((data['from_date_day']=='Saturday') | (data['from_date_day']=='Sunday'),'Weekend','Weekday',)\n",
    "\n",
    "# Extract Weekday / Weekend information from 'booking_created_day'\n",
    "data['booking_created_week'] = np.where((data['booking_created_day']=='Saturday') | (data['booking_created_day']=='Sunday'),'Weekend','Weekday',)"
   ]
  },
  {
   "cell_type": "code",
   "execution_count": 31,
   "metadata": {
    "id": "LDldkHt1cuR9"
   },
   "outputs": [],
   "source": [
    "# Bin the trip start time into ['Early Morning','Morning','Afternoon','Evening','Night','Late Night']\n",
    "cond = [(pd.to_datetime(data['from_time_tm']).dt.hour.between(5, 8)),\n",
    "        (pd.to_datetime(data['from_time_tm']).dt.hour.between(9, 12)),\n",
    "        (pd.to_datetime(data['from_time_tm']).dt.hour.between(13, 16)),\n",
    "        (pd.to_datetime(data['from_time_tm']).dt.hour.between(17, 20)),\n",
    "        ((pd.to_datetime(data['from_time_tm']).dt.hour.between(21, 24)) | (pd.to_datetime(data['from_time_tm']).dt.hour==0)),\n",
    "        (pd.to_datetime(data['from_time_tm']).dt.hour.between(1, 4))]\n",
    "values = ['Early Morning','Morning','Afternoon','Evening','Night','Late Night']\n",
    "data['from_date_session'] = np.select(cond,values)"
   ]
  },
  {
   "cell_type": "code",
   "execution_count": 32,
   "metadata": {
    "id": "TaHpLefPbRDh"
   },
   "outputs": [],
   "source": [
    "# Bin the Booking time into ['Early Morning','Morning','Afternoon','Evening','Night','Late Night']\n",
    "cond = [(pd.to_datetime(data['booking_created_tm']).dt.hour.between(5, 8)),\n",
    "        (pd.to_datetime(data['booking_created_tm']).dt.hour.between(9, 12)),\n",
    "        (pd.to_datetime(data['booking_created_tm']).dt.hour.between(13, 16)),\n",
    "        (pd.to_datetime(data['booking_created_tm']).dt.hour.between(17, 20)),\n",
    "        ((pd.to_datetime(data['booking_created_tm']).dt.hour.between(21, 24)) | (pd.to_datetime(data['booking_created_tm']).dt.hour==0)),\n",
    "        (pd.to_datetime(data['booking_created_tm']).dt.hour.between(1, 4))]\n",
    "values = ['Early Morning','Morning','Afternoon','Evening','Night','Late Night']\n",
    "data['booking_created_session'] = np.select(cond,values)"
   ]
  },
  {
   "cell_type": "code",
   "execution_count": 33,
   "metadata": {
    "id": "jiDLljroEoJH"
   },
   "outputs": [],
   "source": [
    "# Create a new column for Time Difference between Booking Datetime and Trip Datetime:\n",
    "data['time_diff'] = (pd.to_datetime(data['from_date']) - pd.to_datetime(data['booking_created'])).astype('timedelta64[m]')"
   ]
  },
  {
   "cell_type": "code",
   "execution_count": 34,
   "metadata": {
    "colab": {
     "base_uri": "https://localhost:8080/"
    },
    "id": "l0w1NUbomc6p",
    "outputId": "d870f9f7-d559-42ce-de4b-9f82ddf24049"
   },
   "outputs": [
    {
     "data": {
      "text/plain": [
       "42"
      ]
     },
     "execution_count": 34,
     "metadata": {},
     "output_type": "execute_result"
    }
   ],
   "source": [
    "# Check if any of the time differences between Booking and Trip is Negative:\n",
    "data[data['time_diff'] < 0]['time_diff'].count()"
   ]
  },
  {
   "cell_type": "code",
   "execution_count": 35,
   "metadata": {
    "id": "SsQsj1honXx-"
   },
   "outputs": [],
   "source": [
    "# Drop the columns with Negative Difference\n",
    "data = data.drop(['from_date','booking_created'],axis=1)"
   ]
  },
  {
   "cell_type": "code",
   "execution_count": 36,
   "metadata": {
    "id": "DeD7e_GMbTev"
   },
   "outputs": [],
   "source": [
    "# Drop the columns 'from_date_dt','from_time_tm','booking_created_dt','booking_created_tm'\n",
    "# As we have converted them to Time Difference\n",
    "\n",
    "data = data.drop(['from_date_dt','from_time_tm','booking_created_dt','booking_created_tm'],axis=1)"
   ]
  },
  {
   "cell_type": "code",
   "execution_count": 37,
   "metadata": {
    "id": "ySf4s12ym1QC"
   },
   "outputs": [
    {
     "data": {
      "text/html": [
       "<div>\n",
       "<style scoped>\n",
       "    .dataframe tbody tr th:only-of-type {\n",
       "        vertical-align: middle;\n",
       "    }\n",
       "\n",
       "    .dataframe tbody tr th {\n",
       "        vertical-align: top;\n",
       "    }\n",
       "\n",
       "    .dataframe thead th {\n",
       "        text-align: right;\n",
       "    }\n",
       "</style>\n",
       "<table border=\"1\" class=\"dataframe\">\n",
       "  <thead>\n",
       "    <tr style=\"text-align: right;\">\n",
       "      <th></th>\n",
       "      <th>travel_type_id</th>\n",
       "      <th>from_area_id</th>\n",
       "      <th>online_booking</th>\n",
       "      <th>mobile_site_booking</th>\n",
       "      <th>distance</th>\n",
       "      <th>from_date_day</th>\n",
       "      <th>booking_created_day</th>\n",
       "      <th>from_date_month</th>\n",
       "      <th>booking_created_month</th>\n",
       "      <th>from_date_week</th>\n",
       "      <th>booking_created_week</th>\n",
       "      <th>from_date_session</th>\n",
       "      <th>booking_created_session</th>\n",
       "      <th>time_diff</th>\n",
       "      <th>Car_Cancellation</th>\n",
       "    </tr>\n",
       "  </thead>\n",
       "  <tbody>\n",
       "    <tr>\n",
       "      <th>0</th>\n",
       "      <td>2</td>\n",
       "      <td>83.0</td>\n",
       "      <td>0</td>\n",
       "      <td>0</td>\n",
       "      <td>3.980687</td>\n",
       "      <td>Tuesday</td>\n",
       "      <td>Tuesday</td>\n",
       "      <td>January</td>\n",
       "      <td>January</td>\n",
       "      <td>Weekday</td>\n",
       "      <td>Weekday</td>\n",
       "      <td>Late Night</td>\n",
       "      <td>Late Night</td>\n",
       "      <td>21.0</td>\n",
       "      <td>0</td>\n",
       "    </tr>\n",
       "    <tr>\n",
       "      <th>1</th>\n",
       "      <td>2</td>\n",
       "      <td>1010.0</td>\n",
       "      <td>0</td>\n",
       "      <td>0</td>\n",
       "      <td>14.004432</td>\n",
       "      <td>Tuesday</td>\n",
       "      <td>Tuesday</td>\n",
       "      <td>January</td>\n",
       "      <td>January</td>\n",
       "      <td>Weekday</td>\n",
       "      <td>Weekday</td>\n",
       "      <td>Morning</td>\n",
       "      <td>Late Night</td>\n",
       "      <td>395.0</td>\n",
       "      <td>0</td>\n",
       "    </tr>\n",
       "    <tr>\n",
       "      <th>2</th>\n",
       "      <td>2</td>\n",
       "      <td>1301.0</td>\n",
       "      <td>0</td>\n",
       "      <td>0</td>\n",
       "      <td>12.648909</td>\n",
       "      <td>Tuesday</td>\n",
       "      <td>Tuesday</td>\n",
       "      <td>January</td>\n",
       "      <td>January</td>\n",
       "      <td>Weekday</td>\n",
       "      <td>Weekday</td>\n",
       "      <td>Late Night</td>\n",
       "      <td>Late Night</td>\n",
       "      <td>22.0</td>\n",
       "      <td>0</td>\n",
       "    </tr>\n",
       "    <tr>\n",
       "      <th>3</th>\n",
       "      <td>2</td>\n",
       "      <td>768.0</td>\n",
       "      <td>0</td>\n",
       "      <td>0</td>\n",
       "      <td>9.534596</td>\n",
       "      <td>Tuesday</td>\n",
       "      <td>Tuesday</td>\n",
       "      <td>January</td>\n",
       "      <td>January</td>\n",
       "      <td>Weekday</td>\n",
       "      <td>Weekday</td>\n",
       "      <td>Early Morning</td>\n",
       "      <td>Late Night</td>\n",
       "      <td>66.0</td>\n",
       "      <td>0</td>\n",
       "    </tr>\n",
       "    <tr>\n",
       "      <th>4</th>\n",
       "      <td>2</td>\n",
       "      <td>1365.0</td>\n",
       "      <td>0</td>\n",
       "      <td>0</td>\n",
       "      <td>14.655467</td>\n",
       "      <td>Tuesday</td>\n",
       "      <td>Tuesday</td>\n",
       "      <td>January</td>\n",
       "      <td>January</td>\n",
       "      <td>Weekday</td>\n",
       "      <td>Weekday</td>\n",
       "      <td>Morning</td>\n",
       "      <td>Early Morning</td>\n",
       "      <td>67.0</td>\n",
       "      <td>0</td>\n",
       "    </tr>\n",
       "    <tr>\n",
       "      <th>...</th>\n",
       "      <td>...</td>\n",
       "      <td>...</td>\n",
       "      <td>...</td>\n",
       "      <td>...</td>\n",
       "      <td>...</td>\n",
       "      <td>...</td>\n",
       "      <td>...</td>\n",
       "      <td>...</td>\n",
       "      <td>...</td>\n",
       "      <td>...</td>\n",
       "      <td>...</td>\n",
       "      <td>...</td>\n",
       "      <td>...</td>\n",
       "      <td>...</td>\n",
       "      <td>...</td>\n",
       "    </tr>\n",
       "    <tr>\n",
       "      <th>43426</th>\n",
       "      <td>2</td>\n",
       "      <td>1147.0</td>\n",
       "      <td>1</td>\n",
       "      <td>0</td>\n",
       "      <td>10.681284</td>\n",
       "      <td>Sunday</td>\n",
       "      <td>Sunday</td>\n",
       "      <td>November</td>\n",
       "      <td>November</td>\n",
       "      <td>Weekend</td>\n",
       "      <td>Weekend</td>\n",
       "      <td>Evening</td>\n",
       "      <td>Afternoon</td>\n",
       "      <td>215.0</td>\n",
       "      <td>0</td>\n",
       "    </tr>\n",
       "    <tr>\n",
       "      <th>43427</th>\n",
       "      <td>2</td>\n",
       "      <td>393.0</td>\n",
       "      <td>1</td>\n",
       "      <td>0</td>\n",
       "      <td>21.251031</td>\n",
       "      <td>Tuesday</td>\n",
       "      <td>Sunday</td>\n",
       "      <td>November</td>\n",
       "      <td>November</td>\n",
       "      <td>Weekday</td>\n",
       "      <td>Weekend</td>\n",
       "      <td>Late Night</td>\n",
       "      <td>Afternoon</td>\n",
       "      <td>2070.0</td>\n",
       "      <td>0</td>\n",
       "    </tr>\n",
       "    <tr>\n",
       "      <th>43428</th>\n",
       "      <td>3</td>\n",
       "      <td>974.0</td>\n",
       "      <td>0</td>\n",
       "      <td>0</td>\n",
       "      <td>7.450810</td>\n",
       "      <td>Sunday</td>\n",
       "      <td>Sunday</td>\n",
       "      <td>November</td>\n",
       "      <td>November</td>\n",
       "      <td>Weekend</td>\n",
       "      <td>Weekend</td>\n",
       "      <td>Evening</td>\n",
       "      <td>Afternoon</td>\n",
       "      <td>235.0</td>\n",
       "      <td>0</td>\n",
       "    </tr>\n",
       "    <tr>\n",
       "      <th>43429</th>\n",
       "      <td>2</td>\n",
       "      <td>1263.0</td>\n",
       "      <td>0</td>\n",
       "      <td>0</td>\n",
       "      <td>4.584142</td>\n",
       "      <td>Sunday</td>\n",
       "      <td>Sunday</td>\n",
       "      <td>November</td>\n",
       "      <td>November</td>\n",
       "      <td>Weekend</td>\n",
       "      <td>Weekend</td>\n",
       "      <td>Afternoon</td>\n",
       "      <td>Afternoon</td>\n",
       "      <td>77.0</td>\n",
       "      <td>0</td>\n",
       "    </tr>\n",
       "    <tr>\n",
       "      <th>43430</th>\n",
       "      <td>2</td>\n",
       "      <td>689.0</td>\n",
       "      <td>0</td>\n",
       "      <td>1</td>\n",
       "      <td>25.432381</td>\n",
       "      <td>Monday</td>\n",
       "      <td>Sunday</td>\n",
       "      <td>November</td>\n",
       "      <td>November</td>\n",
       "      <td>Weekday</td>\n",
       "      <td>Weekend</td>\n",
       "      <td>Early Morning</td>\n",
       "      <td>Afternoon</td>\n",
       "      <td>850.0</td>\n",
       "      <td>0</td>\n",
       "    </tr>\n",
       "  </tbody>\n",
       "</table>\n",
       "<p>43431 rows × 15 columns</p>\n",
       "</div>"
      ],
      "text/plain": [
       "       travel_type_id  from_area_id  online_booking  mobile_site_booking  \\\n",
       "0                   2          83.0               0                    0   \n",
       "1                   2        1010.0               0                    0   \n",
       "2                   2        1301.0               0                    0   \n",
       "3                   2         768.0               0                    0   \n",
       "4                   2        1365.0               0                    0   \n",
       "...               ...           ...             ...                  ...   \n",
       "43426               2        1147.0               1                    0   \n",
       "43427               2         393.0               1                    0   \n",
       "43428               3         974.0               0                    0   \n",
       "43429               2        1263.0               0                    0   \n",
       "43430               2         689.0               0                    1   \n",
       "\n",
       "        distance from_date_day booking_created_day from_date_month  \\\n",
       "0       3.980687       Tuesday             Tuesday         January   \n",
       "1      14.004432       Tuesday             Tuesday         January   \n",
       "2      12.648909       Tuesday             Tuesday         January   \n",
       "3       9.534596       Tuesday             Tuesday         January   \n",
       "4      14.655467       Tuesday             Tuesday         January   \n",
       "...          ...           ...                 ...             ...   \n",
       "43426  10.681284        Sunday              Sunday        November   \n",
       "43427  21.251031       Tuesday              Sunday        November   \n",
       "43428   7.450810        Sunday              Sunday        November   \n",
       "43429   4.584142        Sunday              Sunday        November   \n",
       "43430  25.432381        Monday              Sunday        November   \n",
       "\n",
       "      booking_created_month from_date_week booking_created_week  \\\n",
       "0                   January        Weekday              Weekday   \n",
       "1                   January        Weekday              Weekday   \n",
       "2                   January        Weekday              Weekday   \n",
       "3                   January        Weekday              Weekday   \n",
       "4                   January        Weekday              Weekday   \n",
       "...                     ...            ...                  ...   \n",
       "43426              November        Weekend              Weekend   \n",
       "43427              November        Weekday              Weekend   \n",
       "43428              November        Weekend              Weekend   \n",
       "43429              November        Weekend              Weekend   \n",
       "43430              November        Weekday              Weekend   \n",
       "\n",
       "      from_date_session booking_created_session  time_diff  Car_Cancellation  \n",
       "0            Late Night              Late Night       21.0                 0  \n",
       "1               Morning              Late Night      395.0                 0  \n",
       "2            Late Night              Late Night       22.0                 0  \n",
       "3         Early Morning              Late Night       66.0                 0  \n",
       "4               Morning           Early Morning       67.0                 0  \n",
       "...                 ...                     ...        ...               ...  \n",
       "43426           Evening               Afternoon      215.0                 0  \n",
       "43427        Late Night               Afternoon     2070.0                 0  \n",
       "43428           Evening               Afternoon      235.0                 0  \n",
       "43429         Afternoon               Afternoon       77.0                 0  \n",
       "43430     Early Morning               Afternoon      850.0                 0  \n",
       "\n",
       "[43431 rows x 15 columns]"
      ]
     },
     "execution_count": 37,
     "metadata": {},
     "output_type": "execute_result"
    }
   ],
   "source": [
    "# Inner Join the Independent and Target Variables based on Index (default)\n",
    "data_merged = pd.concat([data,target],axis=1,join='inner')\n",
    "data_merged"
   ]
  },
  {
   "cell_type": "code",
   "execution_count": 38,
   "metadata": {},
   "outputs": [
    {
     "data": {
      "text/plain": [
       "from_area_id\n",
       "2.0       4\n",
       "6.0       0\n",
       "15.0      0\n",
       "16.0      0\n",
       "17.0      0\n",
       "         ..\n",
       "1397.0    2\n",
       "1398.0    3\n",
       "1399.0    9\n",
       "1401.0    2\n",
       "1403.0    0\n",
       "Name: Car_Cancellation, Length: 598, dtype: int64"
      ]
     },
     "execution_count": 38,
     "metadata": {},
     "output_type": "execute_result"
    }
   ],
   "source": [
    "# Total number of cancellations from each unique 'from_area_id':\n",
    "data_merged.groupby('from_area_id')['Car_Cancellation'].sum()"
   ]
  },
  {
   "cell_type": "code",
   "execution_count": 39,
   "metadata": {},
   "outputs": [
    {
     "data": {
      "text/plain": [
       "from_area_id\n",
       "2.0       31\n",
       "6.0        7\n",
       "15.0       6\n",
       "16.0       5\n",
       "17.0       2\n",
       "          ..\n",
       "1397.0    90\n",
       "1398.0    17\n",
       "1399.0    86\n",
       "1401.0     8\n",
       "1403.0     1\n",
       "Name: Car_Cancellation, Length: 598, dtype: int64"
      ]
     },
     "execution_count": 39,
     "metadata": {},
     "output_type": "execute_result"
    }
   ],
   "source": [
    "# Total Number of Values (non missing) in 'Car_Cancellation' for each unique 'from_area_id'\n",
    "data_merged.groupby('from_area_id')['Car_Cancellation'].count()"
   ]
  },
  {
   "cell_type": "code",
   "execution_count": 40,
   "metadata": {},
   "outputs": [],
   "source": [
    "# Calculate percentage of true 'Car_Cancellation' from each 'from_area_id'\n",
    "data['from_area_id'] = round(data_merged.groupby('from_area_id')['Car_Cancellation'].sum()/data_merged.groupby('from_area_id')['Car_Cancellation'].count(),2)"
   ]
  },
  {
   "cell_type": "code",
   "execution_count": 41,
   "metadata": {},
   "outputs": [],
   "source": [
    "# Replace all NaN Values with 0\n",
    "data['from_area_id'].replace(np.nan, 0, inplace=True)"
   ]
  },
  {
   "cell_type": "code",
   "execution_count": 42,
   "metadata": {
    "id": "F4JyNPUSogg1"
   },
   "outputs": [],
   "source": [
    "# Replace the data in 'from_area-id' with the percentage of cancellations categorised into Low, Medium, High\n",
    "cond = [(data['from_area_id'].astype('float').between(0,0.33)),\n",
    "        (data['from_area_id'].astype('float').between(0.34,0.66)),\n",
    "        (data['from_area_id'].astype('float').between(0.67,1.0))]\n",
    "values = ['Low Cancellation','Medium Cancellation','High Cancellation']\n",
    "data['from_area_id'] = np.select(cond,values)\n",
    "data.rename(columns={'from_area_id':'cancellation_rate'},inplace=True)"
   ]
  },
  {
   "cell_type": "markdown",
   "metadata": {
    "id": "U8ThjueDi6Zi"
   },
   "source": [
    "# Data Visualization"
   ]
  },
  {
   "cell_type": "code",
   "execution_count": 43,
   "metadata": {
    "colab": {
     "base_uri": "https://localhost:8080/",
     "height": 357
    },
    "id": "dwPfvpIn1MBh",
    "outputId": "943bfa40-07da-487e-8639-41c0b9900fcd"
   },
   "outputs": [
    {
     "data": {
      "text/html": [
       "<div>\n",
       "<style scoped>\n",
       "    .dataframe tbody tr th:only-of-type {\n",
       "        vertical-align: middle;\n",
       "    }\n",
       "\n",
       "    .dataframe tbody tr th {\n",
       "        vertical-align: top;\n",
       "    }\n",
       "\n",
       "    .dataframe thead th {\n",
       "        text-align: right;\n",
       "    }\n",
       "</style>\n",
       "<table border=\"1\" class=\"dataframe\">\n",
       "  <thead>\n",
       "    <tr style=\"text-align: right;\">\n",
       "      <th></th>\n",
       "      <th>travel_type_id</th>\n",
       "      <th>cancellation_rate</th>\n",
       "      <th>online_booking</th>\n",
       "      <th>mobile_site_booking</th>\n",
       "      <th>distance</th>\n",
       "      <th>from_date_day</th>\n",
       "      <th>booking_created_day</th>\n",
       "      <th>from_date_month</th>\n",
       "      <th>booking_created_month</th>\n",
       "      <th>from_date_week</th>\n",
       "      <th>booking_created_week</th>\n",
       "      <th>from_date_session</th>\n",
       "      <th>booking_created_session</th>\n",
       "      <th>time_diff</th>\n",
       "    </tr>\n",
       "  </thead>\n",
       "  <tbody>\n",
       "    <tr>\n",
       "      <th>0</th>\n",
       "      <td>2</td>\n",
       "      <td>Low Cancellation</td>\n",
       "      <td>0</td>\n",
       "      <td>0</td>\n",
       "      <td>3.980687</td>\n",
       "      <td>Tuesday</td>\n",
       "      <td>Tuesday</td>\n",
       "      <td>January</td>\n",
       "      <td>January</td>\n",
       "      <td>Weekday</td>\n",
       "      <td>Weekday</td>\n",
       "      <td>Late Night</td>\n",
       "      <td>Late Night</td>\n",
       "      <td>21.0</td>\n",
       "    </tr>\n",
       "    <tr>\n",
       "      <th>1</th>\n",
       "      <td>2</td>\n",
       "      <td>Low Cancellation</td>\n",
       "      <td>0</td>\n",
       "      <td>0</td>\n",
       "      <td>14.004432</td>\n",
       "      <td>Tuesday</td>\n",
       "      <td>Tuesday</td>\n",
       "      <td>January</td>\n",
       "      <td>January</td>\n",
       "      <td>Weekday</td>\n",
       "      <td>Weekday</td>\n",
       "      <td>Morning</td>\n",
       "      <td>Late Night</td>\n",
       "      <td>395.0</td>\n",
       "    </tr>\n",
       "    <tr>\n",
       "      <th>2</th>\n",
       "      <td>2</td>\n",
       "      <td>Low Cancellation</td>\n",
       "      <td>0</td>\n",
       "      <td>0</td>\n",
       "      <td>12.648909</td>\n",
       "      <td>Tuesday</td>\n",
       "      <td>Tuesday</td>\n",
       "      <td>January</td>\n",
       "      <td>January</td>\n",
       "      <td>Weekday</td>\n",
       "      <td>Weekday</td>\n",
       "      <td>Late Night</td>\n",
       "      <td>Late Night</td>\n",
       "      <td>22.0</td>\n",
       "    </tr>\n",
       "    <tr>\n",
       "      <th>3</th>\n",
       "      <td>2</td>\n",
       "      <td>Low Cancellation</td>\n",
       "      <td>0</td>\n",
       "      <td>0</td>\n",
       "      <td>9.534596</td>\n",
       "      <td>Tuesday</td>\n",
       "      <td>Tuesday</td>\n",
       "      <td>January</td>\n",
       "      <td>January</td>\n",
       "      <td>Weekday</td>\n",
       "      <td>Weekday</td>\n",
       "      <td>Early Morning</td>\n",
       "      <td>Late Night</td>\n",
       "      <td>66.0</td>\n",
       "    </tr>\n",
       "    <tr>\n",
       "      <th>4</th>\n",
       "      <td>2</td>\n",
       "      <td>Low Cancellation</td>\n",
       "      <td>0</td>\n",
       "      <td>0</td>\n",
       "      <td>14.655467</td>\n",
       "      <td>Tuesday</td>\n",
       "      <td>Tuesday</td>\n",
       "      <td>January</td>\n",
       "      <td>January</td>\n",
       "      <td>Weekday</td>\n",
       "      <td>Weekday</td>\n",
       "      <td>Morning</td>\n",
       "      <td>Early Morning</td>\n",
       "      <td>67.0</td>\n",
       "    </tr>\n",
       "  </tbody>\n",
       "</table>\n",
       "</div>"
      ],
      "text/plain": [
       "   travel_type_id cancellation_rate  online_booking  mobile_site_booking  \\\n",
       "0               2  Low Cancellation               0                    0   \n",
       "1               2  Low Cancellation               0                    0   \n",
       "2               2  Low Cancellation               0                    0   \n",
       "3               2  Low Cancellation               0                    0   \n",
       "4               2  Low Cancellation               0                    0   \n",
       "\n",
       "    distance from_date_day booking_created_day from_date_month  \\\n",
       "0   3.980687       Tuesday             Tuesday         January   \n",
       "1  14.004432       Tuesday             Tuesday         January   \n",
       "2  12.648909       Tuesday             Tuesday         January   \n",
       "3   9.534596       Tuesday             Tuesday         January   \n",
       "4  14.655467       Tuesday             Tuesday         January   \n",
       "\n",
       "  booking_created_month from_date_week booking_created_week from_date_session  \\\n",
       "0               January        Weekday              Weekday        Late Night   \n",
       "1               January        Weekday              Weekday           Morning   \n",
       "2               January        Weekday              Weekday        Late Night   \n",
       "3               January        Weekday              Weekday     Early Morning   \n",
       "4               January        Weekday              Weekday           Morning   \n",
       "\n",
       "  booking_created_session  time_diff  \n",
       "0              Late Night       21.0  \n",
       "1              Late Night      395.0  \n",
       "2              Late Night       22.0  \n",
       "3              Late Night       66.0  \n",
       "4           Early Morning       67.0  "
      ]
     },
     "execution_count": 43,
     "metadata": {},
     "output_type": "execute_result"
    }
   ],
   "source": [
    "data.head()"
   ]
  },
  {
   "cell_type": "code",
   "execution_count": 44,
   "metadata": {
    "colab": {
     "base_uri": "https://localhost:8080/"
    },
    "id": "LxhE3EoKtdGu",
    "outputId": "847ed792-9426-498c-8e3e-ebe60bb7d367"
   },
   "outputs": [
    {
     "name": "stdout",
     "output_type": "stream",
     "text": [
      "<class 'pandas.core.frame.DataFrame'>\n",
      "RangeIndex: 43431 entries, 0 to 43430\n",
      "Data columns (total 14 columns):\n",
      " #   Column                   Non-Null Count  Dtype  \n",
      "---  ------                   --------------  -----  \n",
      " 0   travel_type_id           43431 non-null  int64  \n",
      " 1   cancellation_rate        43431 non-null  object \n",
      " 2   online_booking           43431 non-null  int64  \n",
      " 3   mobile_site_booking      43431 non-null  int64  \n",
      " 4   distance                 43431 non-null  float64\n",
      " 5   from_date_day            43431 non-null  object \n",
      " 6   booking_created_day      43431 non-null  object \n",
      " 7   from_date_month          43431 non-null  object \n",
      " 8   booking_created_month    43431 non-null  object \n",
      " 9   from_date_week           43431 non-null  object \n",
      " 10  booking_created_week     43431 non-null  object \n",
      " 11  from_date_session        43431 non-null  object \n",
      " 12  booking_created_session  43431 non-null  object \n",
      " 13  time_diff                43431 non-null  float64\n",
      "dtypes: float64(2), int64(3), object(9)\n",
      "memory usage: 4.6+ MB\n"
     ]
    }
   ],
   "source": [
    "data.info()"
   ]
  },
  {
   "cell_type": "code",
   "execution_count": 45,
   "metadata": {
    "colab": {
     "base_uri": "https://localhost:8080/"
    },
    "id": "8mm-RpKrR7Yw",
    "outputId": "43d3997e-07df-43d3-87a5-32208943c37b"
   },
   "outputs": [
    {
     "data": {
      "text/plain": [
       "Low Cancellation       43415\n",
       "Medium Cancellation       11\n",
       "High Cancellation          5\n",
       "Name: cancellation_rate, dtype: int64"
      ]
     },
     "execution_count": 45,
     "metadata": {},
     "output_type": "execute_result"
    }
   ],
   "source": [
    "data['cancellation_rate'].value_counts()"
   ]
  },
  {
   "cell_type": "code",
   "execution_count": 46,
   "metadata": {},
   "outputs": [
    {
     "data": {
      "text/html": [
       "<div>\n",
       "<style scoped>\n",
       "    .dataframe tbody tr th:only-of-type {\n",
       "        vertical-align: middle;\n",
       "    }\n",
       "\n",
       "    .dataframe tbody tr th {\n",
       "        vertical-align: top;\n",
       "    }\n",
       "\n",
       "    .dataframe thead th {\n",
       "        text-align: right;\n",
       "    }\n",
       "</style>\n",
       "<table border=\"1\" class=\"dataframe\">\n",
       "  <thead>\n",
       "    <tr style=\"text-align: right;\">\n",
       "      <th></th>\n",
       "      <th>travel_type_id</th>\n",
       "      <th>cancellation_rate</th>\n",
       "      <th>online_booking</th>\n",
       "      <th>mobile_site_booking</th>\n",
       "      <th>distance</th>\n",
       "      <th>from_date_day</th>\n",
       "      <th>booking_created_day</th>\n",
       "      <th>from_date_month</th>\n",
       "      <th>booking_created_month</th>\n",
       "      <th>from_date_week</th>\n",
       "      <th>booking_created_week</th>\n",
       "      <th>from_date_session</th>\n",
       "      <th>booking_created_session</th>\n",
       "      <th>time_diff</th>\n",
       "    </tr>\n",
       "  </thead>\n",
       "  <tbody>\n",
       "    <tr>\n",
       "      <th>0</th>\n",
       "      <td>2</td>\n",
       "      <td>Low Cancellation</td>\n",
       "      <td>0</td>\n",
       "      <td>0</td>\n",
       "      <td>3.980687</td>\n",
       "      <td>Tuesday</td>\n",
       "      <td>Tuesday</td>\n",
       "      <td>January</td>\n",
       "      <td>January</td>\n",
       "      <td>Weekday</td>\n",
       "      <td>Weekday</td>\n",
       "      <td>Late Night</td>\n",
       "      <td>Late Night</td>\n",
       "      <td>21.0</td>\n",
       "    </tr>\n",
       "    <tr>\n",
       "      <th>1</th>\n",
       "      <td>2</td>\n",
       "      <td>Low Cancellation</td>\n",
       "      <td>0</td>\n",
       "      <td>0</td>\n",
       "      <td>14.004432</td>\n",
       "      <td>Tuesday</td>\n",
       "      <td>Tuesday</td>\n",
       "      <td>January</td>\n",
       "      <td>January</td>\n",
       "      <td>Weekday</td>\n",
       "      <td>Weekday</td>\n",
       "      <td>Morning</td>\n",
       "      <td>Late Night</td>\n",
       "      <td>395.0</td>\n",
       "    </tr>\n",
       "    <tr>\n",
       "      <th>2</th>\n",
       "      <td>2</td>\n",
       "      <td>Low Cancellation</td>\n",
       "      <td>0</td>\n",
       "      <td>0</td>\n",
       "      <td>12.648909</td>\n",
       "      <td>Tuesday</td>\n",
       "      <td>Tuesday</td>\n",
       "      <td>January</td>\n",
       "      <td>January</td>\n",
       "      <td>Weekday</td>\n",
       "      <td>Weekday</td>\n",
       "      <td>Late Night</td>\n",
       "      <td>Late Night</td>\n",
       "      <td>22.0</td>\n",
       "    </tr>\n",
       "    <tr>\n",
       "      <th>3</th>\n",
       "      <td>2</td>\n",
       "      <td>Low Cancellation</td>\n",
       "      <td>0</td>\n",
       "      <td>0</td>\n",
       "      <td>9.534596</td>\n",
       "      <td>Tuesday</td>\n",
       "      <td>Tuesday</td>\n",
       "      <td>January</td>\n",
       "      <td>January</td>\n",
       "      <td>Weekday</td>\n",
       "      <td>Weekday</td>\n",
       "      <td>Early Morning</td>\n",
       "      <td>Late Night</td>\n",
       "      <td>66.0</td>\n",
       "    </tr>\n",
       "    <tr>\n",
       "      <th>4</th>\n",
       "      <td>2</td>\n",
       "      <td>Low Cancellation</td>\n",
       "      <td>0</td>\n",
       "      <td>0</td>\n",
       "      <td>14.655467</td>\n",
       "      <td>Tuesday</td>\n",
       "      <td>Tuesday</td>\n",
       "      <td>January</td>\n",
       "      <td>January</td>\n",
       "      <td>Weekday</td>\n",
       "      <td>Weekday</td>\n",
       "      <td>Morning</td>\n",
       "      <td>Early Morning</td>\n",
       "      <td>67.0</td>\n",
       "    </tr>\n",
       "  </tbody>\n",
       "</table>\n",
       "</div>"
      ],
      "text/plain": [
       "   travel_type_id cancellation_rate  online_booking  mobile_site_booking  \\\n",
       "0               2  Low Cancellation               0                    0   \n",
       "1               2  Low Cancellation               0                    0   \n",
       "2               2  Low Cancellation               0                    0   \n",
       "3               2  Low Cancellation               0                    0   \n",
       "4               2  Low Cancellation               0                    0   \n",
       "\n",
       "    distance from_date_day booking_created_day from_date_month  \\\n",
       "0   3.980687       Tuesday             Tuesday         January   \n",
       "1  14.004432       Tuesday             Tuesday         January   \n",
       "2  12.648909       Tuesday             Tuesday         January   \n",
       "3   9.534596       Tuesday             Tuesday         January   \n",
       "4  14.655467       Tuesday             Tuesday         January   \n",
       "\n",
       "  booking_created_month from_date_week booking_created_week from_date_session  \\\n",
       "0               January        Weekday              Weekday        Late Night   \n",
       "1               January        Weekday              Weekday           Morning   \n",
       "2               January        Weekday              Weekday        Late Night   \n",
       "3               January        Weekday              Weekday     Early Morning   \n",
       "4               January        Weekday              Weekday           Morning   \n",
       "\n",
       "  booking_created_session  time_diff  \n",
       "0              Late Night       21.0  \n",
       "1              Late Night      395.0  \n",
       "2              Late Night       22.0  \n",
       "3              Late Night       66.0  \n",
       "4           Early Morning       67.0  "
      ]
     },
     "execution_count": 46,
     "metadata": {},
     "output_type": "execute_result"
    }
   ],
   "source": [
    "data.head()"
   ]
  },
  {
   "cell_type": "code",
   "execution_count": 47,
   "metadata": {
    "scrolled": false
   },
   "outputs": [
    {
     "data": {
      "image/png": "[encoded data removed]",
      "text/plain": [
       "<Figure size 432x288 with 1 Axes>"
      ]
     },
     "metadata": {},
     "output_type": "display_data"
    },
    {
     "data": {
      "image/png": "[encoded data removed]",
      "text/plain": [
       "<Figure size 432x288 with 1 Axes>"
      ]
     },
     "metadata": {},
     "output_type": "display_data"
    },
    {
     "data": {
      "image/png": "[encoded data removed]",
      "text/plain": [
       "<Figure size 432x288 with 1 Axes>"
      ]
     },
     "metadata": {},
     "output_type": "display_data"
    },
    {
     "data": {
      "image/png": "[encoded data removed]",
      "text/plain": [
       "<Figure size 432x288 with 1 Axes>"
      ]
     },
     "metadata": {},
     "output_type": "display_data"
    },
    {
     "data": {
      "image/png": "[encoded data removed]",
      "text/plain": [
       "<Figure size 432x288 with 1 Axes>"
      ]
     },
     "metadata": {},
     "output_type": "display_data"
    },
    {
     "data": {
      "image/png": "[encoded data removed]",
      "text/plain": [
       "<Figure size 432x288 with 1 Axes>"
      ]
     },
     "metadata": {},
     "output_type": "display_data"
    },
    {
     "data": {
      "image/png": "[encoded data removed]",
      "text/plain": [
       "<Figure size 432x288 with 1 Axes>"
      ]
     },
     "metadata": {},
     "output_type": "display_data"
    },
    {
     "data": {
      "image/png": "[encoded data removed]",
      "text/plain": [
       "<Figure size 432x288 with 1 Axes>"
      ]
     },
     "metadata": {},
     "output_type": "display_data"
    },
    {
     "data": {
      "image/png": "[encoded data removed]",
      "text/plain": [
       "<Figure size 432x288 with 1 Axes>"
      ]
     },
     "metadata": {},
     "output_type": "display_data"
    }
   ],
   "source": [
    "for col in data.columns:\n",
    "  if data[col].dtype == 'object':\n",
    "    data[col].value_counts().plot.bar()\n",
    "    plt.title(col)\n",
    "    plt.show()"
   ]
  },
  {
   "cell_type": "code",
   "execution_count": 48,
   "metadata": {},
   "outputs": [],
   "source": [
    "merged_data = pd.concat([data,target], axis=1, join='inner')\n",
    "char = merged_data.select_dtypes(include='object')"
   ]
  },
  {
   "cell_type": "code",
   "execution_count": 49,
   "metadata": {
    "scrolled": false
   },
   "outputs": [
    {
     "data": {
      "image/png": "[encoded data removed]",
      "text/plain": [
       "<Figure size 1440x288 with 1 Axes>"
      ]
     },
     "metadata": {},
     "output_type": "display_data"
    },
    {
     "data": {
      "image/png": "[encoded data removed]",
      "text/plain": [
       "<Figure size 1440x288 with 1 Axes>"
      ]
     },
     "metadata": {},
     "output_type": "display_data"
    },
    {
     "data": {
      "image/png": "[encoded data removed]",
      "text/plain": [
       "<Figure size 1440x288 with 1 Axes>"
      ]
     },
     "metadata": {},
     "output_type": "display_data"
    },
    {
     "data": {
      "image/png": "[encoded data removed]",
      "text/plain": [
       "<Figure size 1440x288 with 1 Axes>"
      ]
     },
     "metadata": {},
     "output_type": "display_data"
    },
    {
     "data": {
      "image/png": "[encoded data removed]",
      "text/plain": [
       "<Figure size 1440x288 with 1 Axes>"
      ]
     },
     "metadata": {},
     "output_type": "display_data"
    },
    {
     "data": {
      "image/png": "[encoded data removed]",
      "text/plain": [
       "<Figure size 1440x288 with 1 Axes>"
      ]
     },
     "metadata": {},
     "output_type": "display_data"
    },
    {
     "data": {
      "image/png": "[encoded data removed]",
      "text/plain": [
       "<Figure size 1440x288 with 1 Axes>"
      ]
     },
     "metadata": {},
     "output_type": "display_data"
    },
    {
     "data": {
      "image/png": "[encoded data removed]",
      "text/plain": [
       "<Figure size 1440x288 with 1 Axes>"
      ]
     },
     "metadata": {},
     "output_type": "display_data"
    },
    {
     "data": {
      "image/png": "[encoded data removed]",
      "text/plain": [
       "<Figure size 1440x288 with 1 Axes>"
      ]
     },
     "metadata": {},
     "output_type": "display_data"
    }
   ],
   "source": [
    "for col in (char.columns):\n",
    "    plt.figure(figsize = (20,4))\n",
    "    sns.barplot(x=col, y='Car_Cancellation', data=merged_data, estimator=np.mean)"
   ]
  },
  {
   "cell_type": "code",
   "execution_count": 50,
   "metadata": {},
   "outputs": [
    {
     "data": {
      "text/html": [
       "<div>\n",
       "<style scoped>\n",
       "    .dataframe tbody tr th:only-of-type {\n",
       "        vertical-align: middle;\n",
       "    }\n",
       "\n",
       "    .dataframe tbody tr th {\n",
       "        vertical-align: top;\n",
       "    }\n",
       "\n",
       "    .dataframe thead th {\n",
       "        text-align: right;\n",
       "    }\n",
       "</style>\n",
       "<table border=\"1\" class=\"dataframe\">\n",
       "  <thead>\n",
       "    <tr style=\"text-align: right;\">\n",
       "      <th></th>\n",
       "      <th>travel_type_id</th>\n",
       "      <th>cancellation_rate</th>\n",
       "      <th>online_booking</th>\n",
       "      <th>mobile_site_booking</th>\n",
       "      <th>distance</th>\n",
       "      <th>from_date_day</th>\n",
       "      <th>booking_created_day</th>\n",
       "      <th>from_date_month</th>\n",
       "      <th>booking_created_month</th>\n",
       "      <th>from_date_week</th>\n",
       "      <th>booking_created_week</th>\n",
       "      <th>from_date_session</th>\n",
       "      <th>booking_created_session</th>\n",
       "      <th>time_diff</th>\n",
       "    </tr>\n",
       "  </thead>\n",
       "  <tbody>\n",
       "    <tr>\n",
       "      <th>0</th>\n",
       "      <td>2</td>\n",
       "      <td>Low Cancellation</td>\n",
       "      <td>0</td>\n",
       "      <td>0</td>\n",
       "      <td>3.980687</td>\n",
       "      <td>Tuesday</td>\n",
       "      <td>Tuesday</td>\n",
       "      <td>January</td>\n",
       "      <td>January</td>\n",
       "      <td>Weekday</td>\n",
       "      <td>Weekday</td>\n",
       "      <td>Late Night</td>\n",
       "      <td>Late Night</td>\n",
       "      <td>21.0</td>\n",
       "    </tr>\n",
       "    <tr>\n",
       "      <th>1</th>\n",
       "      <td>2</td>\n",
       "      <td>Low Cancellation</td>\n",
       "      <td>0</td>\n",
       "      <td>0</td>\n",
       "      <td>14.004432</td>\n",
       "      <td>Tuesday</td>\n",
       "      <td>Tuesday</td>\n",
       "      <td>January</td>\n",
       "      <td>January</td>\n",
       "      <td>Weekday</td>\n",
       "      <td>Weekday</td>\n",
       "      <td>Morning</td>\n",
       "      <td>Late Night</td>\n",
       "      <td>395.0</td>\n",
       "    </tr>\n",
       "    <tr>\n",
       "      <th>2</th>\n",
       "      <td>2</td>\n",
       "      <td>Low Cancellation</td>\n",
       "      <td>0</td>\n",
       "      <td>0</td>\n",
       "      <td>12.648909</td>\n",
       "      <td>Tuesday</td>\n",
       "      <td>Tuesday</td>\n",
       "      <td>January</td>\n",
       "      <td>January</td>\n",
       "      <td>Weekday</td>\n",
       "      <td>Weekday</td>\n",
       "      <td>Late Night</td>\n",
       "      <td>Late Night</td>\n",
       "      <td>22.0</td>\n",
       "    </tr>\n",
       "  </tbody>\n",
       "</table>\n",
       "</div>"
      ],
      "text/plain": [
       "   travel_type_id cancellation_rate  online_booking  mobile_site_booking  \\\n",
       "0               2  Low Cancellation               0                    0   \n",
       "1               2  Low Cancellation               0                    0   \n",
       "2               2  Low Cancellation               0                    0   \n",
       "\n",
       "    distance from_date_day booking_created_day from_date_month  \\\n",
       "0   3.980687       Tuesday             Tuesday         January   \n",
       "1  14.004432       Tuesday             Tuesday         January   \n",
       "2  12.648909       Tuesday             Tuesday         January   \n",
       "\n",
       "  booking_created_month from_date_week booking_created_week from_date_session  \\\n",
       "0               January        Weekday              Weekday        Late Night   \n",
       "1               January        Weekday              Weekday           Morning   \n",
       "2               January        Weekday              Weekday        Late Night   \n",
       "\n",
       "  booking_created_session  time_diff  \n",
       "0              Late Night       21.0  \n",
       "1              Late Night      395.0  \n",
       "2              Late Night       22.0  "
      ]
     },
     "execution_count": 50,
     "metadata": {},
     "output_type": "execute_result"
    }
   ],
   "source": [
    "data.head(3)"
   ]
  },
  {
   "cell_type": "markdown",
   "metadata": {
    "id": "OcQF4oES0C2N"
   },
   "source": [
    "# Data Encoding"
   ]
  },
  {
   "cell_type": "markdown",
   "metadata": {},
   "source": [
    "Convert Categorical Variables to Numeric using Label Encoder"
   ]
  },
  {
   "cell_type": "code",
   "execution_count": 51,
   "metadata": {},
   "outputs": [],
   "source": [
    "# Function to convert categorical variables to numeric using preprocessing.LabelEncoder()\n",
    "\n",
    "def preprocessor(df1):\n",
    "    res_df = df1.copy()\n",
    "    le = preprocessing.LabelEncoder()\n",
    "    \n",
    "    # Pass only Categorical / String column names here\n",
    "    res_df['cancellation_rate'] = le.fit_transform(res_df['cancellation_rate'])\n",
    "    res_df['from_date_day'] = le.fit_transform(res_df['from_date_day'])\n",
    "    res_df['booking_created_day'] = le.fit_transform(res_df['booking_created_day'])\n",
    "    res_df['from_date_month'] = le.fit_transform(res_df['from_date_month'])\n",
    "    res_df['booking_created_month'] = le.fit_transform(res_df['booking_created_month'])\n",
    "    res_df['from_date_week'] = le.fit_transform(res_df['from_date_week'])\n",
    "    res_df['booking_created_week'] = le.fit_transform(res_df['booking_created_week'])\n",
    "    res_df['from_date_session'] = le.fit_transform(res_df['from_date_session'])\n",
    "    res_df['booking_created_session'] = le.fit_transform(res_df['booking_created_session'])\n",
    "\n",
    "    return res_df"
   ]
  },
  {
   "cell_type": "code",
   "execution_count": 52,
   "metadata": {},
   "outputs": [
    {
     "data": {
      "text/html": [
       "<div>\n",
       "<style scoped>\n",
       "    .dataframe tbody tr th:only-of-type {\n",
       "        vertical-align: middle;\n",
       "    }\n",
       "\n",
       "    .dataframe tbody tr th {\n",
       "        vertical-align: top;\n",
       "    }\n",
       "\n",
       "    .dataframe thead th {\n",
       "        text-align: right;\n",
       "    }\n",
       "</style>\n",
       "<table border=\"1\" class=\"dataframe\">\n",
       "  <thead>\n",
       "    <tr style=\"text-align: right;\">\n",
       "      <th></th>\n",
       "      <th>travel_type_id</th>\n",
       "      <th>cancellation_rate</th>\n",
       "      <th>online_booking</th>\n",
       "      <th>mobile_site_booking</th>\n",
       "      <th>distance</th>\n",
       "      <th>from_date_day</th>\n",
       "      <th>booking_created_day</th>\n",
       "      <th>from_date_month</th>\n",
       "      <th>booking_created_month</th>\n",
       "      <th>from_date_week</th>\n",
       "      <th>booking_created_week</th>\n",
       "      <th>from_date_session</th>\n",
       "      <th>booking_created_session</th>\n",
       "      <th>time_diff</th>\n",
       "    </tr>\n",
       "  </thead>\n",
       "  <tbody>\n",
       "    <tr>\n",
       "      <th>0</th>\n",
       "      <td>2</td>\n",
       "      <td>1</td>\n",
       "      <td>0</td>\n",
       "      <td>0</td>\n",
       "      <td>3.980687</td>\n",
       "      <td>5</td>\n",
       "      <td>5</td>\n",
       "      <td>4</td>\n",
       "      <td>3</td>\n",
       "      <td>0</td>\n",
       "      <td>0</td>\n",
       "      <td>3</td>\n",
       "      <td>3</td>\n",
       "      <td>21.0</td>\n",
       "    </tr>\n",
       "    <tr>\n",
       "      <th>1</th>\n",
       "      <td>2</td>\n",
       "      <td>1</td>\n",
       "      <td>0</td>\n",
       "      <td>0</td>\n",
       "      <td>14.004432</td>\n",
       "      <td>5</td>\n",
       "      <td>5</td>\n",
       "      <td>4</td>\n",
       "      <td>3</td>\n",
       "      <td>0</td>\n",
       "      <td>0</td>\n",
       "      <td>4</td>\n",
       "      <td>3</td>\n",
       "      <td>395.0</td>\n",
       "    </tr>\n",
       "    <tr>\n",
       "      <th>2</th>\n",
       "      <td>2</td>\n",
       "      <td>1</td>\n",
       "      <td>0</td>\n",
       "      <td>0</td>\n",
       "      <td>12.648909</td>\n",
       "      <td>5</td>\n",
       "      <td>5</td>\n",
       "      <td>4</td>\n",
       "      <td>3</td>\n",
       "      <td>0</td>\n",
       "      <td>0</td>\n",
       "      <td>3</td>\n",
       "      <td>3</td>\n",
       "      <td>22.0</td>\n",
       "    </tr>\n",
       "    <tr>\n",
       "      <th>3</th>\n",
       "      <td>2</td>\n",
       "      <td>1</td>\n",
       "      <td>0</td>\n",
       "      <td>0</td>\n",
       "      <td>9.534596</td>\n",
       "      <td>5</td>\n",
       "      <td>5</td>\n",
       "      <td>4</td>\n",
       "      <td>3</td>\n",
       "      <td>0</td>\n",
       "      <td>0</td>\n",
       "      <td>1</td>\n",
       "      <td>3</td>\n",
       "      <td>66.0</td>\n",
       "    </tr>\n",
       "    <tr>\n",
       "      <th>4</th>\n",
       "      <td>2</td>\n",
       "      <td>1</td>\n",
       "      <td>0</td>\n",
       "      <td>0</td>\n",
       "      <td>14.655467</td>\n",
       "      <td>5</td>\n",
       "      <td>5</td>\n",
       "      <td>4</td>\n",
       "      <td>3</td>\n",
       "      <td>0</td>\n",
       "      <td>0</td>\n",
       "      <td>4</td>\n",
       "      <td>1</td>\n",
       "      <td>67.0</td>\n",
       "    </tr>\n",
       "    <tr>\n",
       "      <th>...</th>\n",
       "      <td>...</td>\n",
       "      <td>...</td>\n",
       "      <td>...</td>\n",
       "      <td>...</td>\n",
       "      <td>...</td>\n",
       "      <td>...</td>\n",
       "      <td>...</td>\n",
       "      <td>...</td>\n",
       "      <td>...</td>\n",
       "      <td>...</td>\n",
       "      <td>...</td>\n",
       "      <td>...</td>\n",
       "      <td>...</td>\n",
       "      <td>...</td>\n",
       "    </tr>\n",
       "    <tr>\n",
       "      <th>43426</th>\n",
       "      <td>2</td>\n",
       "      <td>1</td>\n",
       "      <td>1</td>\n",
       "      <td>0</td>\n",
       "      <td>10.681284</td>\n",
       "      <td>3</td>\n",
       "      <td>3</td>\n",
       "      <td>9</td>\n",
       "      <td>8</td>\n",
       "      <td>1</td>\n",
       "      <td>1</td>\n",
       "      <td>2</td>\n",
       "      <td>0</td>\n",
       "      <td>215.0</td>\n",
       "    </tr>\n",
       "    <tr>\n",
       "      <th>43427</th>\n",
       "      <td>2</td>\n",
       "      <td>1</td>\n",
       "      <td>1</td>\n",
       "      <td>0</td>\n",
       "      <td>21.251031</td>\n",
       "      <td>5</td>\n",
       "      <td>3</td>\n",
       "      <td>9</td>\n",
       "      <td>8</td>\n",
       "      <td>0</td>\n",
       "      <td>1</td>\n",
       "      <td>3</td>\n",
       "      <td>0</td>\n",
       "      <td>2070.0</td>\n",
       "    </tr>\n",
       "    <tr>\n",
       "      <th>43428</th>\n",
       "      <td>3</td>\n",
       "      <td>1</td>\n",
       "      <td>0</td>\n",
       "      <td>0</td>\n",
       "      <td>7.450810</td>\n",
       "      <td>3</td>\n",
       "      <td>3</td>\n",
       "      <td>9</td>\n",
       "      <td>8</td>\n",
       "      <td>1</td>\n",
       "      <td>1</td>\n",
       "      <td>2</td>\n",
       "      <td>0</td>\n",
       "      <td>235.0</td>\n",
       "    </tr>\n",
       "    <tr>\n",
       "      <th>43429</th>\n",
       "      <td>2</td>\n",
       "      <td>1</td>\n",
       "      <td>0</td>\n",
       "      <td>0</td>\n",
       "      <td>4.584142</td>\n",
       "      <td>3</td>\n",
       "      <td>3</td>\n",
       "      <td>9</td>\n",
       "      <td>8</td>\n",
       "      <td>1</td>\n",
       "      <td>1</td>\n",
       "      <td>0</td>\n",
       "      <td>0</td>\n",
       "      <td>77.0</td>\n",
       "    </tr>\n",
       "    <tr>\n",
       "      <th>43430</th>\n",
       "      <td>2</td>\n",
       "      <td>1</td>\n",
       "      <td>0</td>\n",
       "      <td>1</td>\n",
       "      <td>25.432381</td>\n",
       "      <td>1</td>\n",
       "      <td>3</td>\n",
       "      <td>9</td>\n",
       "      <td>8</td>\n",
       "      <td>0</td>\n",
       "      <td>1</td>\n",
       "      <td>1</td>\n",
       "      <td>0</td>\n",
       "      <td>850.0</td>\n",
       "    </tr>\n",
       "  </tbody>\n",
       "</table>\n",
       "<p>43431 rows × 14 columns</p>\n",
       "</div>"
      ],
      "text/plain": [
       "       travel_type_id  cancellation_rate  online_booking  mobile_site_booking  \\\n",
       "0                   2                  1               0                    0   \n",
       "1                   2                  1               0                    0   \n",
       "2                   2                  1               0                    0   \n",
       "3                   2                  1               0                    0   \n",
       "4                   2                  1               0                    0   \n",
       "...               ...                ...             ...                  ...   \n",
       "43426               2                  1               1                    0   \n",
       "43427               2                  1               1                    0   \n",
       "43428               3                  1               0                    0   \n",
       "43429               2                  1               0                    0   \n",
       "43430               2                  1               0                    1   \n",
       "\n",
       "        distance  from_date_day  booking_created_day  from_date_month  \\\n",
       "0       3.980687              5                    5                4   \n",
       "1      14.004432              5                    5                4   \n",
       "2      12.648909              5                    5                4   \n",
       "3       9.534596              5                    5                4   \n",
       "4      14.655467              5                    5                4   \n",
       "...          ...            ...                  ...              ...   \n",
       "43426  10.681284              3                    3                9   \n",
       "43427  21.251031              5                    3                9   \n",
       "43428   7.450810              3                    3                9   \n",
       "43429   4.584142              3                    3                9   \n",
       "43430  25.432381              1                    3                9   \n",
       "\n",
       "       booking_created_month  from_date_week  booking_created_week  \\\n",
       "0                          3               0                     0   \n",
       "1                          3               0                     0   \n",
       "2                          3               0                     0   \n",
       "3                          3               0                     0   \n",
       "4                          3               0                     0   \n",
       "...                      ...             ...                   ...   \n",
       "43426                      8               1                     1   \n",
       "43427                      8               0                     1   \n",
       "43428                      8               1                     1   \n",
       "43429                      8               1                     1   \n",
       "43430                      8               0                     1   \n",
       "\n",
       "       from_date_session  booking_created_session  time_diff  \n",
       "0                      3                        3       21.0  \n",
       "1                      4                        3      395.0  \n",
       "2                      3                        3       22.0  \n",
       "3                      1                        3       66.0  \n",
       "4                      4                        1       67.0  \n",
       "...                  ...                      ...        ...  \n",
       "43426                  2                        0      215.0  \n",
       "43427                  3                        0     2070.0  \n",
       "43428                  2                        0      235.0  \n",
       "43429                  0                        0       77.0  \n",
       "43430                  1                        0      850.0  \n",
       "\n",
       "[43431 rows x 14 columns]"
      ]
     },
     "execution_count": 52,
     "metadata": {},
     "output_type": "execute_result"
    }
   ],
   "source": [
    "encoded_df = preprocessor(data)\n",
    "encoded_df"
   ]
  },
  {
   "cell_type": "markdown",
   "metadata": {},
   "source": [
    "# Correlation Check"
   ]
  },
  {
   "cell_type": "code",
   "execution_count": 53,
   "metadata": {},
   "outputs": [
    {
     "data": {
      "image/png": "[encoded data removed]",
      "text/plain": [
       "<Figure size 1440x1080 with 2 Axes>"
      ]
     },
     "metadata": {},
     "output_type": "display_data"
    }
   ],
   "source": [
    "# Create Correlation Matrix\n",
    "corrmat = encoded_df.corr()\n",
    "cols = corrmat.columns\n",
    "\n",
    "# Correlation Matrix\n",
    "cm = np.corrcoef(encoded_df[cols].values.T)\n",
    "f, ax = plt.subplots(figsize=(20, 15))\n",
    "sns.set(font_scale=1.25)\n",
    "\n",
    "# Plot the Heatmap\n",
    "hm = sns.heatmap(cm, cbar=True, annot=True, square=True, fmt='.2f', annot_kws={'size': 15}, \n",
    "                 yticklabels=cols.values, xticklabels=cols.values)\n",
    "\n",
    "# Insights: None of the columns are strongly correlated"
   ]
  },
  {
   "cell_type": "code",
   "execution_count": 54,
   "metadata": {},
   "outputs": [],
   "source": [
    "# Drop booking_created_month as it has strong positive correlation with from_date_month\n",
    "encoded_df = encoded_df.drop(['booking_created_month'], axis = 1)"
   ]
  },
  {
   "cell_type": "markdown",
   "metadata": {},
   "source": [
    "# Feature Scaling / Standardization"
   ]
  },
  {
   "cell_type": "code",
   "execution_count": 55,
   "metadata": {},
   "outputs": [
    {
     "data": {
      "text/html": [
       "<div>\n",
       "<style scoped>\n",
       "    .dataframe tbody tr th:only-of-type {\n",
       "        vertical-align: middle;\n",
       "    }\n",
       "\n",
       "    .dataframe tbody tr th {\n",
       "        vertical-align: top;\n",
       "    }\n",
       "\n",
       "    .dataframe thead th {\n",
       "        text-align: right;\n",
       "    }\n",
       "</style>\n",
       "<table border=\"1\" class=\"dataframe\">\n",
       "  <thead>\n",
       "    <tr style=\"text-align: right;\">\n",
       "      <th></th>\n",
       "      <th>travel_type_id</th>\n",
       "      <th>cancellation_rate</th>\n",
       "      <th>online_booking</th>\n",
       "      <th>mobile_site_booking</th>\n",
       "      <th>distance</th>\n",
       "      <th>from_date_day</th>\n",
       "      <th>booking_created_day</th>\n",
       "      <th>from_date_month</th>\n",
       "      <th>from_date_week</th>\n",
       "      <th>booking_created_week</th>\n",
       "      <th>from_date_session</th>\n",
       "      <th>booking_created_session</th>\n",
       "      <th>time_diff</th>\n",
       "    </tr>\n",
       "  </thead>\n",
       "  <tbody>\n",
       "    <tr>\n",
       "      <th>0</th>\n",
       "      <td>-0.313571</td>\n",
       "      <td>-0.007198</td>\n",
       "      <td>-0.736369</td>\n",
       "      <td>-0.212592</td>\n",
       "      <td>-1.194644</td>\n",
       "      <td>1.061077</td>\n",
       "      <td>1.053674</td>\n",
       "      <td>-0.560268</td>\n",
       "      <td>-0.660211</td>\n",
       "      <td>-0.645038</td>\n",
       "      <td>0.416200</td>\n",
       "      <td>0.287546</td>\n",
       "      <td>-0.356472</td>\n",
       "    </tr>\n",
       "    <tr>\n",
       "      <th>1</th>\n",
       "      <td>-0.313571</td>\n",
       "      <td>-0.007198</td>\n",
       "      <td>-0.736369</td>\n",
       "      <td>-0.212592</td>\n",
       "      <td>-0.209824</td>\n",
       "      <td>1.061077</td>\n",
       "      <td>1.053674</td>\n",
       "      <td>-0.560268</td>\n",
       "      <td>-0.660211</td>\n",
       "      <td>-0.645038</td>\n",
       "      <td>1.032118</td>\n",
       "      <td>0.287546</td>\n",
       "      <td>-0.290325</td>\n",
       "    </tr>\n",
       "    <tr>\n",
       "      <th>2</th>\n",
       "      <td>-0.313571</td>\n",
       "      <td>-0.007198</td>\n",
       "      <td>-0.736369</td>\n",
       "      <td>-0.212592</td>\n",
       "      <td>-0.343003</td>\n",
       "      <td>1.061077</td>\n",
       "      <td>1.053674</td>\n",
       "      <td>-0.560268</td>\n",
       "      <td>-0.660211</td>\n",
       "      <td>-0.645038</td>\n",
       "      <td>0.416200</td>\n",
       "      <td>0.287546</td>\n",
       "      <td>-0.356295</td>\n",
       "    </tr>\n",
       "    <tr>\n",
       "      <th>3</th>\n",
       "      <td>-0.313571</td>\n",
       "      <td>-0.007198</td>\n",
       "      <td>-0.736369</td>\n",
       "      <td>-0.212592</td>\n",
       "      <td>-0.648980</td>\n",
       "      <td>1.061077</td>\n",
       "      <td>1.053674</td>\n",
       "      <td>-0.560268</td>\n",
       "      <td>-0.660211</td>\n",
       "      <td>-0.645038</td>\n",
       "      <td>-0.815637</td>\n",
       "      <td>0.287546</td>\n",
       "      <td>-0.348513</td>\n",
       "    </tr>\n",
       "    <tr>\n",
       "      <th>4</th>\n",
       "      <td>-0.313571</td>\n",
       "      <td>-0.007198</td>\n",
       "      <td>-0.736369</td>\n",
       "      <td>-0.212592</td>\n",
       "      <td>-0.145861</td>\n",
       "      <td>1.061077</td>\n",
       "      <td>1.053674</td>\n",
       "      <td>-0.560268</td>\n",
       "      <td>-0.660211</td>\n",
       "      <td>-0.645038</td>\n",
       "      <td>1.032118</td>\n",
       "      <td>-0.810096</td>\n",
       "      <td>-0.348337</td>\n",
       "    </tr>\n",
       "  </tbody>\n",
       "</table>\n",
       "</div>"
      ],
      "text/plain": [
       "   travel_type_id  cancellation_rate  online_booking  mobile_site_booking  \\\n",
       "0       -0.313571          -0.007198       -0.736369            -0.212592   \n",
       "1       -0.313571          -0.007198       -0.736369            -0.212592   \n",
       "2       -0.313571          -0.007198       -0.736369            -0.212592   \n",
       "3       -0.313571          -0.007198       -0.736369            -0.212592   \n",
       "4       -0.313571          -0.007198       -0.736369            -0.212592   \n",
       "\n",
       "   distance  from_date_day  booking_created_day  from_date_month  \\\n",
       "0 -1.194644       1.061077             1.053674        -0.560268   \n",
       "1 -0.209824       1.061077             1.053674        -0.560268   \n",
       "2 -0.343003       1.061077             1.053674        -0.560268   \n",
       "3 -0.648980       1.061077             1.053674        -0.560268   \n",
       "4 -0.145861       1.061077             1.053674        -0.560268   \n",
       "\n",
       "   from_date_week  booking_created_week  from_date_session  \\\n",
       "0       -0.660211             -0.645038           0.416200   \n",
       "1       -0.660211             -0.645038           1.032118   \n",
       "2       -0.660211             -0.645038           0.416200   \n",
       "3       -0.660211             -0.645038          -0.815637   \n",
       "4       -0.660211             -0.645038           1.032118   \n",
       "\n",
       "   booking_created_session  time_diff  \n",
       "0                 0.287546  -0.356472  \n",
       "1                 0.287546  -0.290325  \n",
       "2                 0.287546  -0.356295  \n",
       "3                 0.287546  -0.348513  \n",
       "4                -0.810096  -0.348337  "
      ]
     },
     "execution_count": 55,
     "metadata": {},
     "output_type": "execute_result"
    }
   ],
   "source": [
    "cols = list(encoded_df.columns)\n",
    "\n",
    "#standardize the data to normal distribution\n",
    "dataset1_standardized = preprocessing.scale(encoded_df)\n",
    "encoded_df1 = pd.DataFrame(dataset1_standardized, columns = cols)    # encoded_df1 is the dataset without the target variable\n",
    "encoded_df1.head()"
   ]
  },
  {
   "cell_type": "markdown",
   "metadata": {},
   "source": [
    "# Train Test Split"
   ]
  },
  {
   "cell_type": "code",
   "execution_count": 56,
   "metadata": {},
   "outputs": [],
   "source": [
    "x_train, x_test, y_train, y_test = train_test_split(encoded_df, target, test_size = 0.2, random_state=42)"
   ]
  },
  {
   "cell_type": "code",
   "execution_count": 57,
   "metadata": {},
   "outputs": [],
   "source": [
    "# Creating copies of the original values\n",
    "x_train1 = x_train.copy(deep=True) \n",
    "x_test1 = x_test.copy(deep=True) \n",
    "y_train1 = y_train.copy(deep=True) \n",
    "y_test1 = y_test.copy(deep=True) "
   ]
  },
  {
   "cell_type": "code",
   "execution_count": 58,
   "metadata": {},
   "outputs": [],
   "source": [
    "# Cleaning test sets to avoid future warning messages\n",
    "y_train1 = y_train1.values.ravel() \n",
    "y_test1 = y_test1.values.ravel() "
   ]
  },
  {
   "cell_type": "markdown",
   "metadata": {},
   "source": [
    "# Function to plot Confusion Matrix"
   ]
  },
  {
   "cell_type": "code",
   "execution_count": 59,
   "metadata": {},
   "outputs": [],
   "source": [
    "# Function to plot Confusion Matrix. Callable in future from all models\n",
    "\n",
    "def create_conf_mat(ytest, pred, model_name):\n",
    "    sns.set(rc = {'figure.figsize':(2,2)})\n",
    "    if (len(ytest .shape) != len(pred.shape) == 1):\n",
    "        return print('Arrays entered are not 1-D.\\nPlease enter the correctly sized sets.')\n",
    "    elif (ytest .shape != pred.shape):\n",
    "        return print('Number of values inside the Arrays are not equal to each other.\\nPlease make sure the array has the same number of instances.')\n",
    "    else:\n",
    "        # Set Metrics\n",
    "        test_crosstb_comp = pd.crosstab(index = ytest, columns = pred)\n",
    "        # Changed for Future deprecation of as_matrix\n",
    "        test_crosstb = test_crosstb_comp.values\n",
    "   \n",
    "        sns.heatmap(test_crosstb, annot=True, fmt='d', cbar=False)\n",
    "        plt.xlabel('Predicted Values')\n",
    "        plt.ylabel('Actual Values')\n",
    "        plt.title(model_name)\n",
    "        plt.show()"
   ]
  },
  {
   "cell_type": "markdown",
   "metadata": {},
   "source": [
    "# Function to plot Area Under Curve"
   ]
  },
  {
   "cell_type": "code",
   "execution_count": 60,
   "metadata": {},
   "outputs": [],
   "source": [
    "\n",
    "# Function to plot AUC (Area Under Curve). Callable in future from all models\n",
    "\n",
    "def plot_roc_curve(fpr, tpr, auc, estimator, xlim=None, ylim=None):\n",
    "\n",
    "    my_estimators = {'knn': ['Kth Nearest Neighbor', 'deeppink'],\n",
    "              'rf': ['Random Forest', 'red'],\n",
    "              'dt': ['Decision Tree', 'darkgreen'],\n",
    "              'nn': ['Neural Network', 'purple'],\n",
    "              'svm':['Support Vector Machines', 'blue'],\n",
    "              'log':['Logistic Regression', 'orange'],\n",
    "              'nb' :['Naive Bayes Classifier', 'brown']}\n",
    "\n",
    "    try:\n",
    "        plot_title = my_estimators[estimator][0]\n",
    "        color_value = my_estimators[estimator][1]\n",
    "    except KeyError as e:\n",
    "        print(\"'{0}' does not correspond with the appropriate key inside the estimators dictionary. \\\n",
    "\\nPlease refer to function to check `my_estimators` dictionary.\".format(estimator))\n",
    "        raise\n",
    "\n",
    "    fig, ax = plt.subplots(figsize=(10, 10))\n",
    "    ax.set_facecolor('#fafafa')\n",
    "\n",
    "    plt.plot(fpr, tpr,\n",
    "             color=color_value,\n",
    "             linewidth=1)\n",
    "    plt.title('ROC Curve For {0} (AUC = {1: 0.2f})'\\\n",
    "              .format(plot_title, auc))\n",
    "\n",
    "    plt.plot([0, 1], [0, 1], 'k--', lw=2)                          # Add Diagonal line\n",
    "    plt.plot([0, 0], [1, 0], 'k--', lw=2, color = 'black')\n",
    "    plt.plot([1, 0], [1, 1], 'k--', lw=2, color = 'black')\n",
    "    if xlim is not None:\n",
    "        plt.xlim(*xlim)\n",
    "    if ylim is not None:\n",
    "        plt.ylim(*ylim)\n",
    "    plt.xlabel('False Positive Rate')\n",
    "    plt.ylabel('True Positive Rate')\n",
    "    plt.show()\n",
    "    plt.close()"
   ]
  },
  {
   "cell_type": "markdown",
   "metadata": {},
   "source": [
    "# Function to plot Classification Report"
   ]
  },
  {
   "cell_type": "code",
   "execution_count": 61,
   "metadata": {},
   "outputs": [],
   "source": [
    "# Function to print Classification Report. Callable in future from all models\n",
    "\n",
    "def print_class_report(predictions, y_t, target, alg_name):\n",
    "    print('Classification Report for {0}:'.format(alg_name))\n",
    "    print(classification_report(predictions, y_t, target_names = target))"
   ]
  },
  {
   "cell_type": "markdown",
   "metadata": {},
   "source": [
    "# -+-+-+-+-+-+-+-+-+-+-+-+-+-+-+-+-+-+-+-+-+-+-+-+-+-+-+-+-+-+-+-+-+-+-+-+-+-+-"
   ]
  },
  {
   "cell_type": "markdown",
   "metadata": {},
   "source": [
    "# Decision Tree Classifier"
   ]
  },
  {
   "cell_type": "code",
   "execution_count": 62,
   "metadata": {},
   "outputs": [],
   "source": [
    "model_dt = DecisionTreeClassifier(random_state=42)"
   ]
  },
  {
   "cell_type": "markdown",
   "metadata": {},
   "source": [
    "# Hyper-Parameter Optimization using GridSearchCV (Cross Validation)"
   ]
  },
  {
   "cell_type": "code",
   "execution_count": 63,
   "metadata": {},
   "outputs": [],
   "source": [
    "# # Execute this code snippet only to find the optimal values of parameters. Comment it out afterwards\n",
    "# # Automatically find the best parameters instead of manual hit and try\n",
    "\n",
    "# np.random.seed(42)\n",
    "# start = time.time()\n",
    "\n",
    "# param_dist = {'max_depth': [5, 6, 7, 8, 9, 10, 12],\n",
    "#               'max_features': ['auto', 'sqrt', 'log2', None],\n",
    "#               'criterion': ['gini', 'entropy'],\n",
    "#               'min_samples_split' : [3, 4, 5, 7, 9, 11, 13, 15, 17, 19, 21, 23, 25, 27, 29],\n",
    "#               'min_samples_leaf' : [2, 4, 6, 8, 9, 10, 11, 12]}\n",
    "\n",
    "# # n_jobs should be 1 less than number of CPU cores. -1 means all cores\n",
    "# cv_dt = GridSearchCV(model_dt, cv = 20, param_grid=param_dist, n_jobs = -1)                 \n",
    "\n",
    "# cv_dt.fit(x_train1, y_train1)\n",
    "# print('Best Parameters using grid search: \\n', cv_dt.best_params_)\n",
    "# end = time.time()\n",
    "# print('Time taken in grid search: {0: .2f}'.format(end - start))"
   ]
  },
  {
   "cell_type": "markdown",
   "metadata": {},
   "source": [
    "# Decision Tree Classifier Model"
   ]
  },
  {
   "cell_type": "code",
   "execution_count": 64,
   "metadata": {},
   "outputs": [
    {
     "name": "stdout",
     "output_type": "stream",
     "text": [
      "Training score:  0.9470124338015197\n",
      "Testing score:  0.9300103603085069\n"
     ]
    }
   ],
   "source": [
    "\n",
    "# Set best parameters given by grid search CV\n",
    "model_dt.set_params(max_depth=13 ,\n",
    "                    criterion=\"gini\", \n",
    "                    min_samples_split=13, \n",
    "                    min_samples_leaf=6, \n",
    "                    max_features = None)\n",
    "\n",
    "model_dt.fit(x_train1, y_train1)\n",
    "\n",
    "model_dt_score_train = model_dt.score(x_train1, y_train1)\n",
    "print(\"Training score: \", model_dt_score_train)\n",
    "\n",
    "model_dt_score_test = model_dt.score(x_test1, y_test1)\n",
    "print(\"Testing score: \",model_dt_score_test)"
   ]
  },
  {
   "cell_type": "markdown",
   "metadata": {},
   "source": [
    "# Predictions & Evaluations (AUC, Confusion Matrix & Classification Report)"
   ]
  },
  {
   "cell_type": "code",
   "execution_count": 65,
   "metadata": {},
   "outputs": [],
   "source": [
    "y_pred_dt = model_dt.predict(x_test)            # Actual Predictions"
   ]
  },
  {
   "cell_type": "code",
   "execution_count": 66,
   "metadata": {},
   "outputs": [
    {
     "name": "stdout",
     "output_type": "stream",
     "text": [
      "Accuracy: 0.9300103603085069\n",
      "Precision (Weighted Average): 0.9180305789657409\n",
      "Recall (Weighted Average): 0.9300103603085069\n"
     ]
    }
   ],
   "source": [
    "accuracy_dt = metrics.accuracy_score(y_test, y_pred_dt)\n",
    "Precision_dt = metrics.precision_score(y_test, y_pred_dt,average='weighted')\n",
    "recall_dt = metrics.recall_score(y_test, y_pred_dt,average='weighted')\n",
    "\n",
    "print(\"Accuracy:\",accuracy_dt)\n",
    "print(\"Precision (Weighted Average):\",Precision_dt)\n",
    "print(\"Recall (Weighted Average):\",recall_dt)"
   ]
  },
  {
   "cell_type": "code",
   "execution_count": 67,
   "metadata": {},
   "outputs": [
    {
     "data": {
      "image/png": "[encoded data removed]",
      "text/plain": [
       "<Figure size 144x144 with 1 Axes>"
      ]
     },
     "metadata": {},
     "output_type": "display_data"
    }
   ],
   "source": [
    "# Call Confusion Matrix Plotting function\n",
    "# print(confusion_matrix(y_test, predictions))  \n",
    "create_conf_mat(y_test1, y_pred_dt, \"Confusion Matrix - Decision Tree\")"
   ]
  },
  {
   "cell_type": "code",
   "execution_count": 68,
   "metadata": {},
   "outputs": [],
   "source": [
    "# Calculate Performance Metrics\n",
    "fpr_dt, tpr_dt, _ = roc_curve(y_test1, y_pred_dt)\n",
    "auc_dt = auc(fpr_dt, tpr_dt)"
   ]
  },
  {
   "cell_type": "code",
   "execution_count": 69,
   "metadata": {},
   "outputs": [
    {
     "name": "stdout",
     "output_type": "stream",
     "text": [
      "Here is our mean accuracy on the test set:\n",
      " 0.930\n",
      "\n",
      "The test error rate for our model is:\n",
      "  0.0700\n"
     ]
    }
   ],
   "source": [
    "# Calculate Accuracy and Error Rate\n",
    "\n",
    "test_error_rate_dt = 1 - model_dt_score_test\n",
    "\n",
    "print(\"Here is our mean accuracy on the test set:\\n {0:.3f}\"\\\n",
    "      .format(model_dt_score_test))\n",
    "print(\"\\nThe test error rate for our model is:\\n {0: .4f}\"\\\n",
    "      .format(test_error_rate_dt))"
   ]
  },
  {
   "cell_type": "code",
   "execution_count": 70,
   "metadata": {},
   "outputs": [
    {
     "name": "stdout",
     "output_type": "stream",
     "text": [
      "Classification Report for Decision Tree:\n",
      "               precision    recall  f1-score   support\n",
      "\n",
      "Not Cancelled       0.95      0.98      0.96      8052\n",
      "    Cancelled       0.54      0.32      0.40       635\n",
      "\n",
      "     accuracy                           0.93      8687\n",
      "    macro avg       0.74      0.65      0.68      8687\n",
      " weighted avg       0.92      0.93      0.92      8687\n",
      "\n"
     ]
    }
   ],
   "source": [
    "class_report = print_class_report(y_test, y_pred_dt, ['Not Cancelled', 'Cancelled'], 'Decision Tree')"
   ]
  },
  {
   "cell_type": "code",
   "execution_count": 71,
   "metadata": {},
   "outputs": [
    {
     "data": {
      "image/png": "[encoded data removed]",
      "text/plain": [
       "<Figure size 720x720 with 1 Axes>"
      ]
     },
     "metadata": {},
     "output_type": "display_data"
    }
   ],
   "source": [
    "# Call function to plot Area Under Curve (AUC)\n",
    "plot_roc_curve(fpr_dt, tpr_dt, auc_dt, 'dt')"
   ]
  },
  {
   "cell_type": "markdown",
   "metadata": {},
   "source": [
    "# -+-+-+-+-+-+-+-+-+-+-+-+-+-+-+-+-+-+-+-+-+-+-+-+-+-+-+-+-+-+-+-+-+-+-+-+-+-+-"
   ]
  },
  {
   "cell_type": "markdown",
   "metadata": {},
   "source": [
    "# Random Forest Classifier"
   ]
  },
  {
   "cell_type": "code",
   "execution_count": 72,
   "metadata": {},
   "outputs": [],
   "source": [
    "# Random Forest Classifier: Set the random state for reproducibility\n",
    "fit_rf = RandomForestClassifier(random_state=42)"
   ]
  },
  {
   "cell_type": "markdown",
   "metadata": {},
   "source": [
    "# Hyper-Parameter Optimization using GridSearchCV (Cross Validation)"
   ]
  },
  {
   "cell_type": "code",
   "execution_count": 73,
   "metadata": {},
   "outputs": [],
   "source": [
    "# # Execute this code snippet only to find the optimal values of parameters. Comment it out afterwards\n",
    "# # Automatically find the best parameters instead of manual hit and try\n",
    "\n",
    "# np.random.seed(42)\n",
    "# start = time.time()\n",
    "\n",
    "# param_dist = {'max_depth': [12, 13, 14, 15],\n",
    "#               'n_estimators':[120,130,140,150],\n",
    "#               'bootstrap': [True, False],\n",
    "#               'oob_score': [True, False],\n",
    "#               'max_features': ['auto', None],\n",
    "#               'criterion': ['gini', 'entropy'],\n",
    "#               'min_samples_split' : [3,4,5,6],\n",
    "#               'min_samples_leaf' : [2,3,4,5]}\n",
    "\n",
    "# # Here we can add 'n_estimator' : [400, 500, 600...], 'min_samples_split' : [5, 10, 15, 20, 30], \n",
    "# # 'min_samples_leaf' : [2, 3, 4, 5, 7] but that will consume lot of resources and increase computational time\n",
    "# # Hence calculate OOB Error Rate and manually put the n_estimator value later\n",
    "# cv_rf = GridSearchCV(fit_rf, cv = 10,\n",
    "#                      param_grid=param_dist, \n",
    "#                      n_jobs = -1)                 # n_jobs should be 1 less than number of CPU cores. -1 means all cores\n",
    "\n",
    "# cv_rf.fit(x_train1, y_train1)\n",
    "# print('Best Parameters using grid search: \\n', cv_rf.best_params_)\n",
    "# end = time.time()\n",
    "# print('Time taken in grid search: {0: .2f}'.format(end - start))\n",
    "\n",
    "# # Insight: Best Parameters: \n",
    "# # 'bootstrap':True, 'criterion':'gini', 'max_depth':4, 'max_features':'auto', 'min_samples_leaf':2, 'min_samples_split':3"
   ]
  },
  {
   "cell_type": "code",
   "execution_count": 74,
   "metadata": {},
   "outputs": [
    {
     "data": {
      "text/plain": [
       "RandomForestClassifier(max_depth=13, max_features=None, min_samples_leaf=6,\n",
       "                       min_samples_split=13, random_state=42)"
      ]
     },
     "execution_count": 74,
     "metadata": {},
     "output_type": "execute_result"
    }
   ],
   "source": [
    "# Set best parameters given by grid search \n",
    "fit_rf.set_params(max_depth=13, \n",
    "                  criterion=\"gini\", \n",
    "                  min_samples_split=13, \n",
    "                  bootstrap = True,\n",
    "                  min_samples_leaf=6, \n",
    "                  max_features = None)"
   ]
  },
  {
   "cell_type": "markdown",
   "metadata": {},
   "source": [
    "# OOB (Out of Bag) Error Rate"
   ]
  },
  {
   "cell_type": "code",
   "execution_count": 75,
   "metadata": {},
   "outputs": [],
   "source": [
    "# fit_rf.set_params(warm_start=False, oob_score=True)\n",
    " \n",
    "# min_estimators = 100\n",
    "# max_estimators = 300\n",
    "\n",
    "# error_rate = {}\n",
    "\n",
    "# for i in range(min_estimators, max_estimators + 1):\n",
    "#     fit_rf.set_params(n_estimators=i)\n",
    "#     fit_rf.fit(x_train1, y_train1)\n",
    "\n",
    "#     oob_error = 1 - fit_rf.oob_score_\n",
    "#     error_rate[i] = oob_error\n",
    "    \n",
    "# # Convert dictionary to a pandas series for easy plotting \n",
    "# oob_series = pd.Series(error_rate)\n",
    "    \n",
    "# # Insights: Stable n_estimator is found to be around 139 from the OOB plot\n",
    "\n",
    "# fig, ax = plt.subplots(figsize=(10, 10))\n",
    "\n",
    "# ax.set_facecolor('#fafafa')\n",
    "\n",
    "# oob_series.plot(kind='line',color = 'red')\n",
    "# plt.xlabel('n_estimators')\n",
    "# plt.ylabel('OOB Error Rate')\n",
    "# plt.title('OOB Error Rate Across various Forest sizes \\n(From 15 to 1500 trees)')"
   ]
  },
  {
   "cell_type": "code",
   "execution_count": 76,
   "metadata": {},
   "outputs": [],
   "source": [
    "# print('OOB Error rate for 650 trees is: {0:.5f}'.format(oob_series[36]))"
   ]
  },
  {
   "cell_type": "code",
   "execution_count": 77,
   "metadata": {},
   "outputs": [
    {
     "data": {
      "text/plain": [
       "RandomForestClassifier(bootstrap=False, max_depth=13, max_features=None,\n",
       "                       min_samples_leaf=6, min_samples_split=13,\n",
       "                       n_estimators=178, random_state=42)"
      ]
     },
     "execution_count": 77,
     "metadata": {},
     "output_type": "execute_result"
    }
   ],
   "source": [
    "# Refine the tree via OOB Output for n_estimators and grid search CV\n",
    "# n_estimators is the number of trees we want to build before taking the maximum voting or averages of predictions\n",
    "fit_rf.set_params(max_depth=13, \n",
    "                  criterion=\"gini\", \n",
    "                  min_samples_split=13, \n",
    "                  min_samples_leaf=6, \n",
    "                  max_features = None,\n",
    "                  n_estimators=178,\n",
    "                  bootstrap = False,\n",
    "                  warm_start=False, \n",
    "                  oob_score=False)"
   ]
  },
  {
   "cell_type": "code",
   "execution_count": 78,
   "metadata": {},
   "outputs": [
    {
     "data": {
      "text/plain": [
       "RandomForestClassifier(bootstrap=False, max_depth=13, max_features=None,\n",
       "                       min_samples_leaf=6, min_samples_split=13,\n",
       "                       n_estimators=178, random_state=42)"
      ]
     },
     "execution_count": 78,
     "metadata": {},
     "output_type": "execute_result"
    }
   ],
   "source": [
    "# Train the Random Forest\n",
    "fit_rf.fit(x_train1, y_train1)"
   ]
  },
  {
   "cell_type": "markdown",
   "metadata": {},
   "source": [
    "# Predictions & Evaluations (Confusion Matrix and Classification Report)"
   ]
  },
  {
   "cell_type": "code",
   "execution_count": 79,
   "metadata": {},
   "outputs": [],
   "source": [
    "y_pred_rf = fit_rf.predict(x_test1)"
   ]
  },
  {
   "cell_type": "code",
   "execution_count": 80,
   "metadata": {},
   "outputs": [
    {
     "name": "stdout",
     "output_type": "stream",
     "text": [
      "Accuracy: 0.9302405893864395\n",
      "Precision (Weighted Average): 0.9181621835568453\n",
      "Recall (Weighted Average): 0.9302405893864395\n"
     ]
    }
   ],
   "source": [
    "accuracy_rf = metrics.accuracy_score(y_test1, y_pred_rf)\n",
    "Precision_rf = metrics.precision_score(y_test1, y_pred_rf,average='weighted')\n",
    "recall_rf = metrics.recall_score(y_test1, y_pred_rf,average='weighted')\n",
    "\n",
    "print(\"Accuracy:\",accuracy_rf)\n",
    "print(\"Precision (Weighted Average):\",Precision_rf)\n",
    "print(\"Recall (Weighted Average):\",recall_rf)"
   ]
  },
  {
   "cell_type": "code",
   "execution_count": 81,
   "metadata": {},
   "outputs": [
    {
     "data": {
      "image/png": "[encoded data removed]",
      "text/plain": [
       "<Figure size 144x144 with 1 Axes>"
      ]
     },
     "metadata": {},
     "output_type": "display_data"
    }
   ],
   "source": [
    "# Call Confusion Matrix Plotting function\n",
    "create_conf_mat(y_test1, y_pred_rf, \"Confusion Matrix - Random Forest\")"
   ]
  },
  {
   "cell_type": "markdown",
   "metadata": {},
   "source": [
    "# Accuracy & Error Rate"
   ]
  },
  {
   "cell_type": "code",
   "execution_count": 82,
   "metadata": {},
   "outputs": [
    {
     "name": "stdout",
     "output_type": "stream",
     "text": [
      "Here is our mean accuracy on the test set:\n",
      " 0.930\n",
      "\n",
      "The test error rate for our model is:\n",
      "  0.0698\n"
     ]
    }
   ],
   "source": [
    "# Calculate Accuracy and Error Rate\n",
    "\n",
    "accuracy_rf = fit_rf.score(x_test1, y_test1)\n",
    "test_error_rate_rf = 1 - accuracy_rf\n",
    "\n",
    "print(\"Here is our mean accuracy on the test set:\\n {0:.3f}\"\\\n",
    "      .format(accuracy_rf))\n",
    "print(\"\\nThe test error rate for our model is:\\n {0: .4f}\"\\\n",
    "      .format(test_error_rate_rf))"
   ]
  },
  {
   "cell_type": "markdown",
   "metadata": {},
   "source": [
    "# Area Under Curve (AUC)"
   ]
  },
  {
   "cell_type": "code",
   "execution_count": 83,
   "metadata": {},
   "outputs": [],
   "source": [
    "# We grab the second array from the output which corresponds to\n",
    "# the predicted probabilites of positive classes \n",
    "# Ordered wrt fit.classes_ in our case [0, 1] where 1 is our positive class\n",
    "\n",
    "predictions_prob = fit_rf.predict_proba(x_test1)[:, 1]\n",
    "fpr2, tpr2, _ = roc_curve(y_test1, predictions_prob, pos_label = 1)"
   ]
  },
  {
   "cell_type": "code",
   "execution_count": 84,
   "metadata": {},
   "outputs": [],
   "source": [
    "auc_rf = auc(fpr2, tpr2)"
   ]
  },
  {
   "cell_type": "code",
   "execution_count": 85,
   "metadata": {},
   "outputs": [
    {
     "data": {
      "image/png": "[encoded data removed]",
      "text/plain": [
       "<Figure size 720x720 with 1 Axes>"
      ]
     },
     "metadata": {},
     "output_type": "display_data"
    }
   ],
   "source": [
    "# Call function to plot Area Under Curve (AUC)\n",
    "plot_roc_curve(fpr2, tpr2, auc_rf, 'rf', xlim=(-0.01, 1.05), ylim=(0.001, 1.05))"
   ]
  },
  {
   "cell_type": "code",
   "execution_count": 86,
   "metadata": {},
   "outputs": [
    {
     "name": "stdout",
     "output_type": "stream",
     "text": [
      "Classification Report for Random Forest:\n",
      "               precision    recall  f1-score   support\n",
      "\n",
      "Not Cancelled       0.98      0.95      0.96      8308\n",
      "    Cancelled       0.32      0.54      0.40       379\n",
      "\n",
      "     accuracy                           0.93      8687\n",
      "    macro avg       0.65      0.74      0.68      8687\n",
      " weighted avg       0.95      0.93      0.94      8687\n",
      "\n"
     ]
    }
   ],
   "source": [
    "# Call functiont to print Classification Report\n",
    "class_report = print_class_report(y_pred_rf, y_test1, ['Not Cancelled', 'Cancelled'], 'Random Forest')"
   ]
  },
  {
   "cell_type": "markdown",
   "metadata": {},
   "source": [
    "# -+-+-+-+-+-+-+-+-+-+-+-+-+-+-+-+-+-+-+-+-+-+-+-+-+-+-+-+-+-+-+-+-+-+-+-+-+-+-"
   ]
  },
  {
   "cell_type": "markdown",
   "metadata": {},
   "source": [
    "# K Nearest Neighbor (KNN)"
   ]
  },
  {
   "cell_type": "markdown",
   "metadata": {},
   "source": [
    "# Detection of Optimal Value for K Neighnours"
   ]
  },
  {
   "cell_type": "code",
   "execution_count": 87,
   "metadata": {},
   "outputs": [],
   "source": [
    "# error = []\n",
    "\n",
    "# # Calculating error for K values between 1 and 40\n",
    "# for i in range(1, 250):  \n",
    "#     knn = KNeighborsClassifier(n_neighbors=i)\n",
    "#     knn.fit(x_train1, y_train1)\n",
    "#     pred_i = knn.predict(x_test1)\n",
    "#     error.append(np.mean(pred_i != y_test1))\n",
    "    \n",
    "# plt.figure(figsize=(16, 6))  \n",
    "# plt.plot(range(1, 250), error, color='red', linestyle='dashed', marker='o',  \n",
    "#          markerfacecolor='blue', markersize=8)\n",
    "# plt.title('Error Rate K Value')  \n",
    "# plt.xlabel('K Value')  \n",
    "# plt.ylabel('Mean Error')  \n",
    "# plt.show()\n",
    "\n",
    "# # Insights: The value of K for highest accuracy is 80"
   ]
  },
  {
   "cell_type": "markdown",
   "metadata": {},
   "source": [
    "# K-Nearest Neighbours Classifier"
   ]
  },
  {
   "cell_type": "code",
   "execution_count": 88,
   "metadata": {},
   "outputs": [
    {
     "data": {
      "text/plain": [
       "KNeighborsClassifier(n_neighbors=81)"
      ]
     },
     "execution_count": 88,
     "metadata": {},
     "output_type": "execute_result"
    }
   ],
   "source": [
    "# In the Detection of Optimal Value for K Neighnours plot 76 shows stable result\n",
    "\n",
    "classifier = KNeighborsClassifier(n_neighbors=81)\n",
    "classifier.fit(x_train1, y_train1)  "
   ]
  },
  {
   "cell_type": "markdown",
   "metadata": {},
   "source": [
    "# Predictions & Evaluations (Confusion Matrix and Classification Report)"
   ]
  },
  {
   "cell_type": "code",
   "execution_count": 89,
   "metadata": {},
   "outputs": [],
   "source": [
    "y_pred_knn = classifier.predict(x_test1)"
   ]
  },
  {
   "cell_type": "code",
   "execution_count": 90,
   "metadata": {},
   "outputs": [
    {
     "name": "stdout",
     "output_type": "stream",
     "text": [
      "Accuracy: 0.9269022677564176\n",
      "Precision (Weighted Average): 0.8591478139719897\n",
      "Recall (Weighted Average): 0.9269022677564176\n"
     ]
    }
   ],
   "source": [
    "accuracy_knn = metrics.accuracy_score(y_test1, y_pred_knn)\n",
    "Precision_knn = metrics.precision_score(y_test1, y_pred_knn,average='weighted')\n",
    "recall_knn = metrics.recall_score(y_test1, y_pred_knn,average='weighted')\n",
    "\n",
    "print(\"Accuracy:\",accuracy_knn)\n",
    "print(\"Precision (Weighted Average):\",Precision_knn)\n",
    "print(\"Recall (Weighted Average):\",recall_knn)"
   ]
  },
  {
   "cell_type": "code",
   "execution_count": 91,
   "metadata": {},
   "outputs": [],
   "source": [
    "# We grab the second array from the output which corresponds to\n",
    "# the predicted probabilites of positive classes \n",
    "# Ordered wrt fit.classes_ in our case [0, 1] where 1 is our positive class\n",
    "\n",
    "pred_prob = classifier.predict_proba(x_test1)[:, 1]\n",
    "fpr3, tpr3, _ = roc_curve(y_test1, pred_prob, pos_label = 1)"
   ]
  },
  {
   "cell_type": "markdown",
   "metadata": {},
   "source": [
    "# Accuracy and Error Rate"
   ]
  },
  {
   "cell_type": "code",
   "execution_count": 92,
   "metadata": {},
   "outputs": [
    {
     "name": "stdout",
     "output_type": "stream",
     "text": [
      "Here is our mean accuracy on the test set:\n",
      " 0.927\n",
      "\n",
      "The test error rate for our model is:\n",
      "  0.0731\n"
     ]
    }
   ],
   "source": [
    "# Calculate Accuracy and Error Rate\n",
    "\n",
    "accuracy_knn = classifier.score(x_test1, y_test1)\n",
    "test_error_rate_knn = 1 - accuracy_knn\n",
    "\n",
    "print(\"Here is our mean accuracy on the test set:\\n {0:.3f}\"\\\n",
    "      .format(accuracy_knn))\n",
    "print(\"\\nThe test error rate for our model is:\\n {0: .4f}\"\\\n",
    "      .format(test_error_rate_knn))"
   ]
  },
  {
   "cell_type": "code",
   "execution_count": 93,
   "metadata": {},
   "outputs": [
    {
     "name": "stdout",
     "output_type": "stream",
     "text": [
      "Training score:  0.9281602578862538\n",
      "Testing score:  0.9269022677564176\n"
     ]
    }
   ],
   "source": [
    "model_knn_score_train = classifier.score(x_train1, y_train1)\n",
    "print(\"Training score: \", model_knn_score_train)\n",
    "\n",
    "model_knn_score_test = classifier.score(x_test1, y_test1)\n",
    "print(\"Testing score: \",model_knn_score_test)"
   ]
  },
  {
   "cell_type": "code",
   "execution_count": 94,
   "metadata": {},
   "outputs": [],
   "source": [
    "auc_knn = auc(fpr3, tpr3)"
   ]
  },
  {
   "cell_type": "code",
   "execution_count": 95,
   "metadata": {},
   "outputs": [
    {
     "data": {
      "image/png": "[encoded data removed]",
      "text/plain": [
       "<Figure size 720x720 with 1 Axes>"
      ]
     },
     "metadata": {},
     "output_type": "display_data"
    }
   ],
   "source": [
    "# Call function to plot Area Under Curve (AUC)\n",
    "plot_roc_curve(fpr3, tpr3, auc_knn, 'knn', xlim=(-0.01, 1.05), ylim=(0.001, 1.05))"
   ]
  },
  {
   "cell_type": "code",
   "execution_count": 96,
   "metadata": {},
   "outputs": [
    {
     "data": {
      "image/png": "[encoded data removed]",
      "text/plain": [
       "<Figure size 144x144 with 1 Axes>"
      ]
     },
     "metadata": {},
     "output_type": "display_data"
    }
   ],
   "source": [
    "# Call function to plot Confusion Matrix\n",
    "# print(confusion_matrix(y_test, y_pred_knn))  \n",
    "conf_mat = create_conf_mat(y_test1, y_pred_knn, \"Confusion Matrix - KNN\")"
   ]
  },
  {
   "cell_type": "code",
   "execution_count": 97,
   "metadata": {},
   "outputs": [
    {
     "name": "stdout",
     "output_type": "stream",
     "text": [
      "Accuracy: 0.9269022677564176\n",
      "Precision 0.0\n",
      "Recall 0.0\n",
      "f1_score 0.0\n"
     ]
    }
   ],
   "source": [
    "print(\"Accuracy:\", metrics.accuracy_score(y_test1, y_pred_knn))\n",
    "print(\"Precision\", metrics.precision_score(y_test1, y_pred_knn))\n",
    "print(\"Recall\", metrics.recall_score(y_test1, y_pred_knn))\n",
    "print(\"f1_score\", metrics.f1_score(y_test1, y_pred_knn))"
   ]
  },
  {
   "cell_type": "code",
   "execution_count": 98,
   "metadata": {},
   "outputs": [
    {
     "name": "stdout",
     "output_type": "stream",
     "text": [
      "Classification Report for K Nearest Neighbor:\n",
      "               precision    recall  f1-score   support\n",
      "\n",
      "Not Cancelled       1.00      0.93      0.96      8687\n",
      "    Cancelled       0.00      0.00      0.00         0\n",
      "\n",
      "     accuracy                           0.93      8687\n",
      "    macro avg       0.50      0.46      0.48      8687\n",
      " weighted avg       1.00      0.93      0.96      8687\n",
      "\n"
     ]
    }
   ],
   "source": [
    "# Print Classification Report:\n",
    "\n",
    "class_report = print_class_report(y_pred_knn, y_test1, ['Not Cancelled', 'Cancelled'], 'K Nearest Neighbor')\n",
    "# f1 Score = 2 * (precision * recall)/ (precision + recall) ie how good my model is in predicting 1 as 1 and 0 as 0"
   ]
  },
  {
   "cell_type": "markdown",
   "metadata": {},
   "source": [
    "Insights: K-Nearest Neighbors is not fit for this dataset as it is unable to predict True Positives and hence f1-Score is 0"
   ]
  },
  {
   "cell_type": "markdown",
   "metadata": {},
   "source": [
    "# -+-+-+-+-+-+-+-+-+-+-+-+-+-+-+-+-+-+-+-+-+-+-+-+-+-+-+-+-+-+-+-+-+-+-+-+-+-+-"
   ]
  },
  {
   "cell_type": "markdown",
   "metadata": {},
   "source": [
    "# Support Vector Machines (SVM)"
   ]
  },
  {
   "cell_type": "markdown",
   "metadata": {},
   "source": [
    "Model training takes extremely long time and performance is lower than Random Forest. Henct this is not a preferred model for this dataset"
   ]
  },
  {
   "cell_type": "markdown",
   "metadata": {},
   "source": [
    "# Kernel Parameter"
   ]
  },
  {
   "cell_type": "code",
   "execution_count": 99,
   "metadata": {},
   "outputs": [],
   "source": [
    "# # Execute this code snippet only to find the optimal values of parameters. Comment it out afterwards\n",
    "\n",
    "# # Linear Kernel:\n",
    "# svc=SVC(kernel='linear')\n",
    "# svc.fit(x_train1,y_train1)\n",
    "# y_pred_svm=svc.predict(x_test1)\n",
    "# print('\\nAccuracy Score for Linear Kernel: ', metrics.accuracy_score(y_test1,y_pred_svm))\n",
    "\n",
    "# # Polynomial Kernel:\n",
    "# svc=SVC(kernel='poly')\n",
    "# svc.fit(x_train1,y_train1)\n",
    "# y_pred_svm=svc.predict(x_test1)\n",
    "# print('Accuracy Score for Polynomial Kernel: ', metrics.accuracy_score(y_test1,y_pred_svm))\n",
    "\n",
    "# # rbf Kernel:\n",
    "# svc=SVC(kernel='rbf')\n",
    "# svc.fit(x_train1,y_train1)\n",
    "# y_pred_svm=svc.predict(x_test1)\n",
    "# print('Accuracy Score for rbf Kernel: ', metrics.accuracy_score(y_test1,y_pred_svm))\n",
    "\n",
    "# # sigmoid Kernel:\n",
    "# svc=SVC(kernel='sigmoid')\n",
    "# svc.fit(x_train1,y_train1)\n",
    "# y_pred_svm=svc.predict(x_test1)\n",
    "# print('Accuracy Score for sigmoid Kernel: ', metrics.accuracy_score(y_test1,y_pred_svm))\n",
    "\n",
    "# # Insights: 'Linear' kernel gives the best accuracy"
   ]
  },
  {
   "cell_type": "markdown",
   "metadata": {},
   "source": [
    "# Optimizing Hyper Parameter C"
   ]
  },
  {
   "cell_type": "code",
   "execution_count": 100,
   "metadata": {},
   "outputs": [],
   "source": [
    "# # Execute this code snippet only to find the optimal values of parameters. Comment it out afterwards\n",
    "# # Optimizing the HyperParameter C\n",
    "\n",
    "# C_range=list(range(1,10,1))\n",
    "# acc_score=[]\n",
    "# for c in C_range:\n",
    "#     svc = SVC(kernel='rbf', C=c)\n",
    "#     scores = cross_val_score(svc, encoded_df, target, cv=5, scoring='accuracy', n_jobs = -1)\n",
    "#     acc_score.append(scores.mean())\n",
    "# print(acc_score)\n",
    "# ind = acc_score.index(max(acc_score))\n",
    "# print(\"\\nOptimal Integer Value of C ~\", C_range[ind])\n",
    "\n",
    "# # plot the value of C for SVM (x-axis) versus the cross-validated accuracy (y-axis)\n",
    "\n",
    "# C_values=list(range(1,10))\n",
    "# plt.figure(figsize = (20,6))\n",
    "# plt.plot(C_values,acc_score)\n",
    "# plt.xticks(np.arange(0,12,2))\n",
    "# plt.xlabel('Value of C for SVC')\n",
    "# plt.ylabel('Cross-Validated Accuracy')\n",
    "\n",
    "# # Optimal Integer Value of C ~ 2"
   ]
  },
  {
   "cell_type": "code",
   "execution_count": 101,
   "metadata": {},
   "outputs": [],
   "source": [
    "# # Execute this code snippet only to find the optimal values of parameters. Comment it out afterwards\n",
    "# # Find the exact value of C up to 1 place of decimal\n",
    "\n",
    "# C_range=list(np.arange(1,3,0.1))\n",
    "# acc_score=[]\n",
    "# for c in C_range:\n",
    "#     svc = SVC(kernel='linear', C=c)\n",
    "#     scores = cross_val_score(svc, encoded_df, target, cv=10, scoring='accuracy', n_jobs = -1)\n",
    "#     acc_score.append(scores.mean())\n",
    "# #print(acc_score)    \n",
    "\n",
    "\n",
    "# # plot the value of C for SVM (x-axis) versus the cross-validated accuracy (y-axis)\n",
    "\n",
    "# C_values=list(np.arange(0,4,0.1))\n",
    "# plt.figure(figsize = (20,6))\n",
    "# plt.plot(C_values,acc_score)\n",
    "# plt.xticks(np.arange(0,4,0.2))\n",
    "# plt.xlabel('Value of C for SVC ')\n",
    "# plt.ylabel('Cross-Validated Accuracy')\n",
    "\n",
    "# # Insights: Optimal Vaue of C = 0.2"
   ]
  },
  {
   "cell_type": "markdown",
   "metadata": {},
   "source": [
    "# Optimizing Hyper Parameter Gamma"
   ]
  },
  {
   "cell_type": "code",
   "execution_count": 102,
   "metadata": {},
   "outputs": [],
   "source": [
    "# # Execute this code snippet only to find the optimal values of parameters. Comment it out afterwards\n",
    "# # Optimizing the HyperParameter Gamma\n",
    "\n",
    "# gamma_range=[0.0001,0.001,0.01,0.1,1,5,10]\n",
    "# acc_score=[]\n",
    "# for g in gamma_range:\n",
    "#     svc = SVC(kernel='rbf', gamma=g)\n",
    "#     scores = cross_val_score(svc, encoded_df, target, cv=5, scoring='accuracy', n_jobs = -1)\n",
    "#     acc_score.append(scores.mean())\n",
    "# print(acc_score)  \n",
    "# # Insights: Optimal Vaue of gamma = 1\n",
    "\n",
    "# # plot the value of C for SVM (x-axis) versus the cross-validated accuracy (y-axis)\n",
    "\n",
    "# gamma_range=[0.0001,0.001,0.01,0.1,1,5,10]\n",
    "# plt.figure(figsize = (20,6))\n",
    "# plt.plot(gamma_range,acc_score)\n",
    "# plt.xlabel('Value of gamma for SVC ')\n",
    "# plt.xticks(np.arange(0,10,0.2))\n",
    "# plt.ylabel('Cross-Validated Accuracy')"
   ]
  },
  {
   "cell_type": "markdown",
   "metadata": {},
   "source": [
    "# Hyper-Parameter Optimization using GridSearchCV (Cross Validation)"
   ]
  },
  {
   "cell_type": "code",
   "execution_count": 103,
   "metadata": {},
   "outputs": [],
   "source": [
    "# # Execute this code snippet only to find the optimal values of parameters. Comment it out afterwards\n",
    "# # Automatically find the best parameters instead of manual hit and try\n",
    "\n",
    "# svm_model= SVC()\n",
    "# tuned_parameters = {'C': (np.arange(0,2,0.05)), \n",
    "#                     'gamma': [0.01, 0.02, 0.03, 0.04, 0.05, 0.06, 0.07], \n",
    "#                     'kernel':['rbf'], \n",
    "#                     'degree': [1, 2]}\n",
    "\n",
    "# fit_svm = GridSearchCV(svm_model, tuned_parameters, cv=10, scoring='accuracy', n_jobs = -1)\n",
    "# fit_svm.fit(x_train1, y_train1)\n",
    "# print(\"Accuracy: \", fit_svm.best_score_)\n",
    "# print(\"Parameters: \", fit_svm.best_params_)\n",
    "\n",
    "# # Accuracy:  0.8891824526420737\n"
   ]
  },
  {
   "cell_type": "markdown",
   "metadata": {},
   "source": [
    "# Support Vector Machine (SVM) Classifier"
   ]
  },
  {
   "cell_type": "code",
   "execution_count": 104,
   "metadata": {},
   "outputs": [],
   "source": [
    "# svm_model= SVC(probability=True)\n",
    "# tuned_parameters = {'C': [2] , 'kernel': ['linear'], 'gamma': [1], 'degree': [1]}\n",
    "\n",
    "# fit_svm = GridSearchCV(svm_model, tuned_parameters, cv=2, scoring='accuracy', n_jobs = -1)\n",
    "# fit_svm.fit(x_train1, y_train1)\n",
    "# print(\"Accuracy: \", fit_svm.best_score_)\n",
    "# print(\"Parameters: \", fit_svm.best_params_)"
   ]
  },
  {
   "cell_type": "markdown",
   "metadata": {},
   "source": [
    "# Predictions & Evaluations (Confusion Matrix and Classification Report)"
   ]
  },
  {
   "cell_type": "code",
   "execution_count": 105,
   "metadata": {},
   "outputs": [],
   "source": [
    "# y_pred_svm = fit_svm.predict(x_test1)"
   ]
  },
  {
   "cell_type": "code",
   "execution_count": 106,
   "metadata": {},
   "outputs": [],
   "source": [
    "# accuracy_svm = metrics.accuracy_score(y_test1, y_pred_svm)\n",
    "# Precision_svm = metrics.precision_score(y_test1, y_pred_svm,average='weighted')\n",
    "# recall_svm = metrics.recall_score(y_test1, y_pred_svm,average='weighted')\n",
    "\n",
    "# print(\"Accuracy:\",accuracy_svm)\n",
    "# print(\"Precision (Weighted Average):\",Precision_svm)\n",
    "# print(\"Recall (Weighted Average):\",recall_svm)"
   ]
  },
  {
   "cell_type": "code",
   "execution_count": 107,
   "metadata": {},
   "outputs": [],
   "source": [
    "# # Call function to plot Confusion Matrix\n",
    "# # print(confusion_matrix(y_test, y_pred_svm))  \n",
    "# conf_mat = create_conf_mat(y_test1, y_pred_svm, \"Confusion Matrix - SVM\")"
   ]
  },
  {
   "cell_type": "markdown",
   "metadata": {},
   "source": [
    "# Accuracy and Error Rate"
   ]
  },
  {
   "cell_type": "code",
   "execution_count": 108,
   "metadata": {},
   "outputs": [],
   "source": [
    "# # We grab the second array from the output which corresponds to\n",
    "# # the predicted probabilites of positive classes \n",
    "# # Ordered wrt fit.classes_ in our case [0, 1] where 1 is our positive class\n",
    "\n",
    "# pred_prob = fit_svm.predict_proba(x_test1)[:, 1]\n",
    "# fpr4, tpr4, _ = roc_curve(y_test1, pred_prob, pos_label = 1)"
   ]
  },
  {
   "cell_type": "code",
   "execution_count": 109,
   "metadata": {},
   "outputs": [],
   "source": [
    "# # Calculate Accuracy and Error Rate\n",
    "\n",
    "# accuracy_svm = fit_svm.score(x_test1, y_test1)\n",
    "# test_error_rate_svm = 1 - accuracy_svm\n",
    "\n",
    "# print(\"Here is our mean accuracy on the test set:\\n {0:.3f}\"\\\n",
    "#       .format(accuracy_svm))\n",
    "# print(\"\\nThe test error rate for our model is:\\n {0: .4f}\"\\\n",
    "#       .format(test_error_rate_svm))"
   ]
  },
  {
   "cell_type": "code",
   "execution_count": 110,
   "metadata": {},
   "outputs": [],
   "source": [
    "# model_svm_score_train = fit_svm.score(x_train1, y_train1)\n",
    "# print(\"Training score: \", model_svm_score_train)\n",
    "\n",
    "# model_svm_score_test = fit_svm.score(x_test1, y_test1)\n",
    "# print(\"Testing score: \",model_svm_score_test)"
   ]
  },
  {
   "cell_type": "markdown",
   "metadata": {},
   "source": [
    "# Area Under Curve (AUC)"
   ]
  },
  {
   "cell_type": "code",
   "execution_count": 111,
   "metadata": {},
   "outputs": [],
   "source": [
    "# auc_svm = auc(fpr4, tpr4)"
   ]
  },
  {
   "cell_type": "code",
   "execution_count": 112,
   "metadata": {},
   "outputs": [],
   "source": [
    "# # Call function to plot Area Under Curve (AUC)\n",
    "# plot_roc_curve(fpr4, tpr4, auc_svm, 'svm', xlim=(-0.01, 1.05), ylim=(0.001, 1.05))"
   ]
  },
  {
   "cell_type": "code",
   "execution_count": 113,
   "metadata": {},
   "outputs": [],
   "source": [
    "# # Print Classification Report:\n",
    "\n",
    "# class_report = print_class_report(y_pred_svm, y_test1, ['Not Cancelled', 'Cancelled'], 'Support Vector Machines')\n",
    "# # f1 Score = 2 * (precision * recall)/ (precision + recall) ie how good my model is in predicting 1 as 1 and 0 as 0"
   ]
  },
  {
   "cell_type": "markdown",
   "metadata": {},
   "source": [
    "# -+-+-+-+-+-+-+-+-+-+-+-+-+-+-+-+-+-+-+-+-+-+-+-+-+-+-+-+-+-+-+-+-+-+-+-+-+-+-"
   ]
  },
  {
   "cell_type": "markdown",
   "metadata": {},
   "source": [
    "# Logistic Regression Classifier"
   ]
  },
  {
   "cell_type": "code",
   "execution_count": 114,
   "metadata": {},
   "outputs": [
    {
     "data": {
      "text/plain": [
       "LogisticRegression()"
      ]
     },
     "execution_count": 114,
     "metadata": {},
     "output_type": "execute_result"
    }
   ],
   "source": [
    "# instantiate the model (using the default parameters)\n",
    "logreg = LogisticRegression()\n",
    "# fit the model with data\n",
    "logreg.fit(x_train1,y_train1)"
   ]
  },
  {
   "cell_type": "markdown",
   "metadata": {},
   "source": [
    "# Predictions & Evaluations (Confusion Matrix and Classification Report)"
   ]
  },
  {
   "cell_type": "code",
   "execution_count": 115,
   "metadata": {},
   "outputs": [],
   "source": [
    "y_pred_log=logreg.predict(x_test1)"
   ]
  },
  {
   "cell_type": "code",
   "execution_count": 116,
   "metadata": {},
   "outputs": [
    {
     "name": "stdout",
     "output_type": "stream",
     "text": [
      "Accuracy: 0.9269022677564176\n",
      "Precision (Weighted Average): 0.8591478139719897\n",
      "Recall (Weighted Average): 0.9269022677564176\n"
     ]
    }
   ],
   "source": [
    "accuracy_log = metrics.accuracy_score(y_test1, y_pred_log)\n",
    "Precision_log = metrics.precision_score(y_test1, y_pred_log,average='weighted')\n",
    "recall_log = metrics.recall_score(y_test1, y_pred_log,average='weighted')\n",
    "\n",
    "print(\"Accuracy:\",accuracy_log)\n",
    "print(\"Precision (Weighted Average):\",Precision_log)\n",
    "print(\"Recall (Weighted Average):\",recall_log)"
   ]
  },
  {
   "cell_type": "code",
   "execution_count": 117,
   "metadata": {},
   "outputs": [
    {
     "data": {
      "image/png": "[encoded data removed]",
      "text/plain": [
       "<Figure size 144x144 with 1 Axes>"
      ]
     },
     "metadata": {},
     "output_type": "display_data"
    }
   ],
   "source": [
    "# Call function to plot Confusion Matrix\n",
    "# print(confusion_matrix(y_test, y_pred_log))  \n",
    "conf_mat_log = create_conf_mat(y_test1, y_pred_log, \"Confusion Matrix - Logistic Regression\")"
   ]
  },
  {
   "cell_type": "markdown",
   "metadata": {},
   "source": [
    "# Accuracy & Error Rate"
   ]
  },
  {
   "cell_type": "code",
   "execution_count": 118,
   "metadata": {},
   "outputs": [
    {
     "name": "stdout",
     "output_type": "stream",
     "text": [
      "Accuracy: 0.9269022677564176\n",
      "Precision: 0.0\n",
      "Recall: 0.0\n"
     ]
    }
   ],
   "source": [
    "accuracy_log = metrics.accuracy_score(y_test1, y_pred_log)\n",
    "Precision_log = metrics.precision_score(y_test1, y_pred_log)\n",
    "recall_log = metrics.recall_score(y_test1, y_pred_log)\n",
    "\n",
    "print(\"Accuracy:\",accuracy_log)\n",
    "print(\"Precision:\",Precision_log)\n",
    "print(\"Recall:\",recall_log)"
   ]
  },
  {
   "cell_type": "code",
   "execution_count": 119,
   "metadata": {},
   "outputs": [
    {
     "name": "stdout",
     "output_type": "stream",
     "text": [
      "Training score:  0.9280163481464425\n",
      "Testing score:  0.9269022677564176\n"
     ]
    }
   ],
   "source": [
    "model_log_score_train = logreg.score(x_train1, y_train1)\n",
    "print(\"Training score: \", model_log_score_train)\n",
    "\n",
    "model_log_score_test = logreg.score(x_test1, y_test1)\n",
    "print(\"Testing score: \",model_log_score_test)"
   ]
  },
  {
   "cell_type": "markdown",
   "metadata": {},
   "source": [
    "# Area Under Curve (AUC)"
   ]
  },
  {
   "cell_type": "code",
   "execution_count": 120,
   "metadata": {},
   "outputs": [],
   "source": [
    "y_pred_proba_log = logreg.predict_proba(x_test1)[::,1]\n",
    "fpr5, tpr5, _ = metrics.roc_curve(y_test1,  y_pred_proba_log)\n",
    "auc_log = metrics.roc_auc_score(y_test1, y_pred_proba_log)"
   ]
  },
  {
   "cell_type": "code",
   "execution_count": 121,
   "metadata": {},
   "outputs": [],
   "source": [
    "auc_log = auc(fpr5, tpr5)"
   ]
  },
  {
   "cell_type": "code",
   "execution_count": 122,
   "metadata": {},
   "outputs": [
    {
     "data": {
      "image/png": "[encoded data removed]",
      "text/plain": [
       "<Figure size 720x720 with 1 Axes>"
      ]
     },
     "metadata": {},
     "output_type": "display_data"
    }
   ],
   "source": [
    "# Call function to plot Area Under Curve (AUC)\n",
    "plot_roc_curve(fpr5, tpr5, auc_log, 'log', xlim=(-0.01, 1.05), ylim=(0.001, 1.05))"
   ]
  },
  {
   "cell_type": "code",
   "execution_count": 123,
   "metadata": {},
   "outputs": [
    {
     "name": "stdout",
     "output_type": "stream",
     "text": [
      "Classification Report for Logistic Regression:\n",
      "               precision    recall  f1-score   support\n",
      "\n",
      "Not Cancelled       1.00      0.93      0.96      8687\n",
      "    Cancelled       0.00      0.00      0.00         0\n",
      "\n",
      "     accuracy                           0.93      8687\n",
      "    macro avg       0.50      0.46      0.48      8687\n",
      " weighted avg       1.00      0.93      0.96      8687\n",
      "\n"
     ]
    }
   ],
   "source": [
    "\n",
    "# Print Classification Report:\n",
    "\n",
    "class_report = print_class_report(y_pred_log, y_test1, ['Not Cancelled', 'Cancelled'], 'Logistic Regression')\n",
    "# f1 Score = 2 * (precision * recall)/ (precision + recall) ie how good my model is in predicting 1 as 1 and 0 as 0"
   ]
  },
  {
   "cell_type": "markdown",
   "metadata": {},
   "source": [
    "Insights: Logistic Regression is not fit for this dataset as it is unable to predict True Positives and hence f1-Score is 0"
   ]
  },
  {
   "cell_type": "markdown",
   "metadata": {},
   "source": [
    "# -+-+-+-+-+-+-+-+-+-+-+-+-+-+-+-+-+-+-+-+-+-+-+-+-+-+-+-+-+-+-+-+-+-+-+-+-+-+-"
   ]
  },
  {
   "cell_type": "code",
   "execution_count": null,
   "metadata": {},
   "outputs": [],
   "source": []
  }
 ],
 "metadata": {
  "colab": {
   "collapsed_sections": [
    "k8rpL6ufiR2L",
    "EqTlE3OViaQU",
    "KTQR-fSgipxk",
    "Nt7DgCrCivfd",
    "U8ThjueDi6Zi",
    "OcQF4oES0C2N"
   ],
   "name": "Predicting cab booking cancellations for YourCabs EDA.ipynb",
   "provenance": []
  },
  "kernelspec": {
   "display_name": "Python 3 (ipykernel)",
   "language": "python",
   "name": "python3"
  },
  "language_info": {
   "codemirror_mode": {
    "name": "ipython",
    "version": 3
   },
   "file_extension": ".py",
   "mimetype": "text/x-python",
   "name": "python",
   "nbconvert_exporter": "python",
   "pygments_lexer": "ipython3",
   "version": "3.9.7"
  }
 },
 "nbformat": 4,
 "nbformat_minor": 1
}
